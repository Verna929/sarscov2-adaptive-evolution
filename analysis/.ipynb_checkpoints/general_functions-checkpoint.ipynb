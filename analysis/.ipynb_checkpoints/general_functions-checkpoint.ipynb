{
 "cells": [
  {
   "cell_type": "code",
   "execution_count": 3,
   "id": "2b606505",
   "metadata": {},
   "outputs": [],
   "source": [
    "def count_independent_occurrences_test(tree, mutation_type='aa'):\n",
    "    \n",
    "    all_mutations = []\n",
    "\n",
    "\n",
    "    #only look at mutations on internal branches\n",
    "    for node in tree.find_clades(terminal=False):\n",
    "        \n",
    "        # only consider mutations on branches that give rise to a clade of at least 10 tips\n",
    "        if len(node.get_terminals()) >=10:\n",
    "\n",
    "            if hasattr(node, 'branch_attrs'):\n",
    "                for gene, mut_list in node.branch_attrs[\"mutations\"].items():\n",
    "                    # not considering synonymous mutations for now\n",
    "                    if gene!= 'nuc':\n",
    "                        for mut in mut_list:\n",
    "                            \n",
    "                            if mutation_type == 'aa':\n",
    "                                # look at specific nonsyn muts\n",
    "                                gene_mutation = f'{gene}_{mut}'\n",
    "\n",
    "                                \n",
    "                            elif mutation_type == 'site':\n",
    "                                # look at mutation to a codon (without regard to identity of mutation)\n",
    "                                gene_mutation = f'{gene}_{mut[1:-1]}'\n",
    "                            \n",
    "                            # append mutation to a list of all observed mutations\n",
    "                            # exclude if mutation is in stop codon position of gene\n",
    "                            if int(mut[1:-1])!=len(reference_sequence[gene]):\n",
    "                                all_mutations.append(gene_mutation)\n",
    "                \n",
    "\n",
    "\n",
    "\n",
    "\n",
    "    all_mutations_unique = list(set(all_mutations))    \n",
    "\n",
    "    independent_occurrences_all_mutations = Counter(all_mutations)\n",
    "    \n",
    "\n",
    "    return all_mutations_unique, independent_occurrences_all_mutations"
   ]
  }
 ],
 "metadata": {
  "kernelspec": {
   "display_name": "Python 3",
   "language": "python",
   "name": "python3"
  },
  "language_info": {
   "codemirror_mode": {
    "name": "ipython",
    "version": 3
   },
   "file_extension": ".py",
   "mimetype": "text/x-python",
   "name": "python",
   "nbconvert_exporter": "python",
   "pygments_lexer": "ipython3",
   "version": "3.6.10"
  }
 },
 "nbformat": 4,
 "nbformat_minor": 5
}
