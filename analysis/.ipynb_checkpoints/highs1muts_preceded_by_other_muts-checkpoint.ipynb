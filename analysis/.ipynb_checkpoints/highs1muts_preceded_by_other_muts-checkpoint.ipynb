{
 "cells": [
  {
   "cell_type": "code",
   "execution_count": 122,
   "metadata": {},
   "outputs": [],
   "source": [
    "from augur.utils import json_to_tree\n",
    "import matplotlib.pyplot as plt\n",
    "import seaborn as sns\n",
    "import numpy as np\n",
    "import pandas as pd\n",
    "import requests\n"
   ]
  },
  {
   "cell_type": "markdown",
   "metadata": {},
   "source": [
    "Get global ncov tree and convert to Bio Phylo format"
   ]
  },
  {
   "cell_type": "code",
   "execution_count": 114,
   "metadata": {},
   "outputs": [],
   "source": [
    "tree_url = \"https://data.nextstrain.org/ncov_global.json\"\n",
    "tree_json = requests.get(tree_url).json()\n",
    "tree = json_to_tree(tree_json)"
   ]
  },
  {
   "cell_type": "code",
   "execution_count": null,
   "metadata": {},
   "outputs": [],
   "source": [
    "#node.__dict__"
   ]
  },
  {
   "cell_type": "markdown",
   "metadata": {},
   "source": [
    "Want to see if a high number of S1 mutations is preceded by a specific other mutation.\n",
    "\n",
    "Find average number of S1 mutations that occur AFTER certain mutation\n",
    "\n",
    "1. Find all mutations that occurred on tree (set)\n",
    "2. Walk through tree and, if mutation occurred on branch, count S1 mutations in descendents"
   ]
  },
  {
   "cell_type": "code",
   "execution_count": 115,
   "metadata": {},
   "outputs": [],
   "source": [
    "# 1: find all mutations that happened on internal branchs of tree\n",
    "# one instance where a node has {'S': ['E484K']} but no nucleotide mutations??\n",
    "\n",
    "all_mutations = []\n",
    "\n",
    "for node in tree.find_clades(terminal=False):\n",
    "\n",
    "    #just use nucleotide mutations because this includes all syn and nonsyn \n",
    "    if hasattr(node, 'branch_attrs'):\n",
    "        if \"nuc\" in node.branch_attrs[\"mutations\"]:\n",
    "            all_mutations += node.branch_attrs[\"mutations\"]['nuc']\n",
    "\n",
    "\n",
    "all_mutations_unique = list(set(all_mutations))    \n"
   ]
  },
  {
   "cell_type": "code",
   "execution_count": 116,
   "metadata": {},
   "outputs": [],
   "source": [
    "# Add node attribute s1_descendents which counts the number of s1 mutations that occur in all descendents of a node\n",
    "\n",
    "for node in tree.find_clades(order= \"postorder\"): \n",
    "    node_s1_muts = 0\n",
    "    if hasattr(node, 'branch_attrs'):\n",
    "        if \"nuc\" in node.branch_attrs[\"mutations\"]:\n",
    "            for nuc_mut in node.branch_attrs[\"mutations\"]['nuc']:\n",
    "                nuc_mut_pos = int(nuc_mut[1:-1])\n",
    "                s1_pos = range(21599,23617)\n",
    "                if nuc_mut_pos in s1_pos:\n",
    "                    node_s1_muts+=1\n",
    "\n",
    "    if node.is_terminal():\n",
    "        # Store number of s1 mutations of each terminal node\n",
    "        node.s1_descendents = node_s1_muts\n",
    "        \n",
    "    else:   \n",
    "        # For each internal node, sum the number of s1 mutations in its immediate\n",
    "        # children. Since we are walking through the tree from tip to root, \n",
    "        # each child node will always be counted before its parent node\n",
    "        node.s1_descendents = sum([child.s1_descendents for child in node.clades])"
   ]
  },
  {
   "cell_type": "code",
   "execution_count": 117,
   "metadata": {},
   "outputs": [],
   "source": [
    "# 2: For each possible mutation, \n",
    "# walk through tree to find nodes where these muts happened. Then count S1 muts in descendents\n",
    "\n",
    "# initiate dictionary where keys are all observed mutations at internal nodes \n",
    "# and values are lists of number of S1 mutations that occur after (key) mutation, \n",
    "# for each time (key) mutation is observed\n",
    "nums1_following_mutation = {}\n",
    "\n",
    "for mut in all_mutations_unique:\n",
    "    mut_future_s1_mut_counts = []\n",
    "    for node in tree.find_clades(terminal=False):\n",
    "        if hasattr(node, 'branch_attrs'):\n",
    "            if \"nuc\" in node.branch_attrs[\"mutations\"]:\n",
    "                if mut in node.branch_attrs[\"mutations\"]['nuc']:\n",
    "                    mut_future_s1_mut_counts.append(node.s1_descendents)\n",
    "    nums1_following_mutation[mut] = mut_future_s1_mut_counts\n",
    "    \n"
   ]
  },
  {
   "cell_type": "markdown",
   "metadata": {},
   "source": [
    "Find the mean number of S1 mutations that follow each observed mutation and plot a distribution"
   ]
  },
  {
   "cell_type": "code",
   "execution_count": 124,
   "metadata": {},
   "outputs": [
    {
     "ename": "AttributeError",
     "evalue": "module 'seaborn' has no attribute 'histplot'",
     "output_type": "error",
     "traceback": [
      "\u001b[0;31m---------------------------------------------------------------------------\u001b[0m",
      "\u001b[0;31mAttributeError\u001b[0m                            Traceback (most recent call last)",
      "\u001b[0;32m<ipython-input-124-e25ec6cec128>\u001b[0m in \u001b[0;36m<module>\u001b[0;34m\u001b[0m\n\u001b[1;32m     10\u001b[0m \u001b[0mfig\u001b[0m\u001b[0;34m,\u001b[0m \u001b[0max\u001b[0m \u001b[0;34m=\u001b[0m \u001b[0mplt\u001b[0m\u001b[0;34m.\u001b[0m\u001b[0msubplots\u001b[0m\u001b[0;34m(\u001b[0m\u001b[0mfigsize\u001b[0m\u001b[0;34m=\u001b[0m\u001b[0;34m(\u001b[0m\u001b[0;36m8\u001b[0m\u001b[0;34m,\u001b[0m \u001b[0;36m4\u001b[0m\u001b[0;34m)\u001b[0m\u001b[0;34m)\u001b[0m\u001b[0;34m\u001b[0m\u001b[0;34m\u001b[0m\u001b[0m\n\u001b[1;32m     11\u001b[0m \u001b[0;34m\u001b[0m\u001b[0m\n\u001b[0;32m---> 12\u001b[0;31m \u001b[0max\u001b[0m \u001b[0;34m=\u001b[0m \u001b[0msns\u001b[0m\u001b[0;34m.\u001b[0m\u001b[0mhistplot\u001b[0m\u001b[0;34m(\u001b[0m\u001b[0mx\u001b[0m \u001b[0;34m=\u001b[0m \u001b[0;34m'mean_s1muts_after'\u001b[0m\u001b[0;34m,\u001b[0m \u001b[0mdata\u001b[0m \u001b[0;34m=\u001b[0m \u001b[0mavg_s1_following_mutation_df\u001b[0m\u001b[0;34m)\u001b[0m\u001b[0;34m\u001b[0m\u001b[0;34m\u001b[0m\u001b[0m\n\u001b[0m",
      "\u001b[0;31mAttributeError\u001b[0m: module 'seaborn' has no attribute 'histplot'"
     ]
    },
    {
     "data": {
      "image/png": "[encoded data removed]",
      "text/plain": [
       "<Figure size 576x288 with 1 Axes>"
      ]
     },
     "metadata": {
      "needs_background": "light"
     },
     "output_type": "display_data"
    }
   ],
   "source": [
    "#initialize list of dictionaries to store mutation and average number of S1 muts that follow in descendents\n",
    "avg_s1_following_mutation = []\n",
    "\n",
    "for k,v in nums1_following_mutation.items():\n",
    "    s1muts_mean = sum(v)/len(v)\n",
    "    avg_s1_following_mutation.append({'mutation': k, 'mean_s1muts_after': s1muts_mean})\n",
    "    \n",
    "avg_s1_following_mutation_df = pd.DataFrame(avg_s1_following_mutation)\n",
    "\n",
    "fig, ax = plt.subplots(figsize=(8, 4))\n",
    "\n",
    "ax = sns.histplot(x = 'mean_s1muts_after', data = avg_s1_following_mutation_df)"
   ]
  }
 ],
 "metadata": {
  "kernelspec": {
   "display_name": "Python 3",
   "language": "python",
   "name": "python3"
  },
  "language_info": {
   "codemirror_mode": {
    "name": "ipython",
    "version": 3
   },
   "file_extension": ".py",
   "mimetype": "text/x-python",
   "name": "python",
   "nbconvert_exporter": "python",
   "pygments_lexer": "ipython3",
   "version": "3.6.10"
  }
 },
 "nbformat": 4,
 "nbformat_minor": 4
}
