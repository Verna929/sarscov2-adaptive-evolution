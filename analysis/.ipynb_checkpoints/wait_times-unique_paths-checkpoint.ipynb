{
 "cells": [
  {
   "cell_type": "code",
   "execution_count": 1,
   "id": "33194542",
   "metadata": {},
   "outputs": [
    {
     "name": "stderr",
     "output_type": "stream",
     "text": [
      "\n",
      "Bad key \"text.kerning_factor\" on line 4 in\n",
      "/Users/katekistler/anaconda3/envs/nextstrain/lib/python3.6/site-packages/matplotlib/mpl-data/stylelib/_classic_test_patch.mplstyle.\n",
      "You probably need to get an updated matplotlibrc file from\n",
      "https://github.com/matplotlib/matplotlib/blob/v3.1.3/matplotlibrc.template\n",
      "or from the matplotlib source distribution\n"
     ]
    }
   ],
   "source": [
    "from augur.utils import json_to_tree\n",
    "import matplotlib.pyplot as plt\n",
    "import matplotlib.patches as patches\n",
    "import seaborn as sns\n",
    "import numpy as np\n",
    "import pandas as pd\n",
    "from Bio import SeqIO\n",
    "from collections import Counter\n",
    "import requests\n",
    "import random"
   ]
  },
  {
   "cell_type": "markdown",
   "id": "71e410d0",
   "metadata": {},
   "source": [
    "Find wait times between mutations. Compare empirical data to expectation (that mutations should occur at a constant rate over time)"
   ]
  },
  {
   "cell_type": "code",
   "execution_count": 18,
   "id": "3e3624a2",
   "metadata": {},
   "outputs": [],
   "source": [
    "#Download tree json\n",
    "tree_url = \"https://data.nextstrain.org/ncov_global.json\"\n",
    "\n",
    "tree_json = requests.get(tree_url).json()\n",
    "\n",
    "#Put tree in Bio.Phylo format\n",
    "tree = json_to_tree(tree_json)"
   ]
  },
  {
   "cell_type": "markdown",
   "id": "30469c3d",
   "metadata": {},
   "source": [
    "Assign each node a number of S1 mutations and RdRp that occurred at this node (rather than the accumulation)"
   ]
  },
  {
   "cell_type": "code",
   "execution_count": 3,
   "id": "c874c9be",
   "metadata": {},
   "outputs": [],
   "source": [
    "#Function to find path from root to clade\n",
    "def get_parent(tree, child_clade):\n",
    "    node_path = tree.get_path(child_clade)\n",
    "    return node_path"
   ]
  },
  {
   "cell_type": "code",
   "execution_count": 19,
   "id": "ef5720d9",
   "metadata": {},
   "outputs": [],
   "source": [
    "for node in tree.find_clades():\n",
    "    node.s1_muts_at_node = 0\n",
    "    node.rdrp_muts_at_node = 0\n",
    "\n",
    "    if hasattr(node, 'branch_attrs'):\n",
    "        s1_muts_at_this_node = 0\n",
    "        rdrp_muts_at_this_node = 0\n",
    "        if 'S' in node.branch_attrs[\"mutations\"]:\n",
    "            for mut in node.branch_attrs[\"mutations\"]['S']:\n",
    "                mut_pos = int(mut[1:-1])\n",
    "                if mut_pos in range(14,686):\n",
    "                    s1_muts_at_this_node+=1\n",
    "\n",
    "\n",
    "\n",
    "        elif \"ORF1a\" in node.branch_attrs[\"mutations\"]:\n",
    "            for mut in node.branch_attrs[\"mutations\"][\"ORF1a\"]:\n",
    "                if int(mut[1:-1]) in range(4492,4401):\n",
    "                    rdrp_muts_at_this_node+=1\n",
    "\n",
    "        elif \"ORF1b\" in node.branch_attrs[\"mutations\"]:\n",
    "            for mut in node.branch_attrs[\"mutations\"][\"ORF1b\"]:\n",
    "                if int(mut[1:-1]) in range(1,923):\n",
    "                    rdrp_muts_at_this_node+=1\n",
    "\n",
    "\n",
    "        node.s1_muts_at_node = s1_muts_at_this_node         \n",
    "        node.rdrp_muts_at_node = rdrp_muts_at_this_node \n"
   ]
  },
  {
   "cell_type": "markdown",
   "id": "c22c76c8",
   "metadata": {},
   "source": [
    "Find the wait times between mutations on path"
   ]
  },
  {
   "cell_type": "code",
   "execution_count": 20,
   "id": "5f26887b",
   "metadata": {},
   "outputs": [],
   "source": [
    "already_used_s1 = []\n",
    "all_wait_times_s1 = []\n",
    "expected_wait_times_s1 = []\n",
    "\n",
    "for node in tree.find_clades(terminal=True):\n",
    "    \n",
    "    node_path = get_parent(tree, node)\n",
    "    path_start = node_path[0]\n",
    "    path_end = node_path[-1]\n",
    "    \n",
    "    wait_times = []\n",
    "    \n",
    "    date_last_s1_mut = 0\n",
    "    path_end_date = 0\n",
    "    path_start_date = 0\n",
    "    s1_muts_on_path = 0\n",
    "    first_s1_mut = True\n",
    "    for parent in node_path:\n",
    "\n",
    "        s1_muts = parent.s1_muts_at_node\n",
    "        num_date = parent.node_attrs['num_date']['value']\n",
    "        if parent == path_start:\n",
    "            path_start_date = num_date\n",
    "        elif parent == path_end:\n",
    "            path_end_date = num_date\n",
    "            s1_muts_on_path = s1_muts\n",
    "\n",
    "        \n",
    "        if s1_muts > 0:\n",
    "            if first_s1_mut == False:\n",
    "                wait_time = num_date - date_last_s1_mut \n",
    "                wait_times.append(wait_time)\n",
    "                # add wait times of 0 if multiple mutations occur on same branch\n",
    "                if s1_muts > 1:\n",
    "                    wait_times+=[0.0]*(s1_muts-1)\n",
    "            date_last_s1_mut = num_date\n",
    "            first_s1_mut = False\n",
    "    \n",
    "    if s1_muts_on_path!= 0:\n",
    "        expected_wait_time = (path_end_date - path_start_date)/s1_muts_on_path\n",
    "        expected_wait_times_s1.append(expected_wait_time)\n",
    "    all_wait_times_s1+=wait_times\n",
    "    \n",
    "            \n",
    "            \n",
    "        \n",
    "        \n",
    "    "
   ]
  },
  {
   "cell_type": "code",
   "execution_count": 21,
   "id": "66b6b282",
   "metadata": {},
   "outputs": [],
   "source": [
    "all_wait_times_rdrp = []\n",
    "expected_wait_times_rdrp = []\n",
    "\n",
    "for node in tree.find_clades(terminal=True):\n",
    "    \n",
    "    node_path = get_parent(tree, node)\n",
    "    path_start = node_path[0]\n",
    "    path_end = node_path[-1]\n",
    "    \n",
    "    wait_times = []\n",
    "    \n",
    "    date_last_rdrp_mut = 0\n",
    "    path_end_date = 0\n",
    "    path_start_date = 0\n",
    "    rdrp_muts_on_path = 0\n",
    "    first_rdrp_mut = True\n",
    "    for parent in node_path:\n",
    "        rdrp_muts = parent.rdrp_muts_at_node\n",
    "        num_date = parent.node_attrs['num_date']['value']\n",
    "        if parent == path_start:\n",
    "            path_start_date = num_date\n",
    "        elif parent == path_end:\n",
    "            path_end_date = num_date\n",
    "            rdrp_muts_on_path = rdrp_muts\n",
    "        \n",
    "        if rdrp_muts > 0:\n",
    "            if first_rdrp_mut == False:\n",
    "                wait_time = num_date - date_last_rdrp_mut \n",
    "                wait_times.append(wait_time)\n",
    "                if rdrp_muts > 1:\n",
    "                    wait_times+=[0.0]*(rdrp_muts-1)\n",
    "            date_last_rdrp_mut = num_date\n",
    "            first_rdrp_mut = False\n",
    "            \n",
    "    if rdrp_muts_on_path!= 0:\n",
    "        expected_wait_time = (path_end_date - path_start_date)/rdrp_muts_on_path\n",
    "        expected_wait_times_rdrp.append(expected_wait_time)\n",
    "        \n",
    "    all_wait_times_rdrp+=wait_times\n",
    "    \n",
    "            "
   ]
  },
  {
   "cell_type": "code",
   "execution_count": 22,
   "id": "3ee6ee9a",
   "metadata": {},
   "outputs": [],
   "source": [
    "wait_time_s1_df = pd.DataFrame(list(zip(['s1' for x in range(len(all_wait_times_s1))], \n",
    "                                        ['empirical' for x in range(len(all_wait_times_s1))], all_wait_times_s1)), \n",
    "                                 columns = ['gene', 'empirical_simulated', 'wait_times'])\n",
    "wait_time_rdrp_df = pd.DataFrame(list(zip(['rdrp' for x in range(len(all_wait_times_rdrp))], \n",
    "                                          ['empirical' for x in range(len(all_wait_times_rdrp))], all_wait_times_rdrp)), \n",
    "                                 columns = ['gene', 'empirical_simulated', 'wait_times'])\n",
    "wait_time_s1_expected_df = pd.DataFrame(list(zip(['s1' for x in range(len(expected_wait_times_s1))], \n",
    "                                        ['expected' for x in range(len(expected_wait_times_s1))], \n",
    "                                                 expected_wait_times_s1)), \n",
    "                                 columns = ['gene', 'empirical_simulated', 'wait_times'])\n",
    "wait_time_rdrp_expected_df = pd.DataFrame(list(zip(['rdrp' for x in range(len(expected_wait_times_rdrp))], \n",
    "                                          ['expected' for x in range(len(expected_wait_times_rdrp))], \n",
    "                                          expected_wait_times_rdrp)), \n",
    "                                 columns = ['gene', 'empirical_simulated', 'wait_times'])\n",
    "\n",
    "wait_time_df = pd.concat([wait_time_s1_df, wait_time_rdrp_df, wait_time_s1_expected_df, wait_time_rdrp_expected_df])"
   ]
  },
  {
   "cell_type": "code",
   "execution_count": 23,
   "id": "f799eab1",
   "metadata": {},
   "outputs": [
    {
     "data": {
      "text/plain": [
       "(array([0, 1]), <a list of 2 Text xticklabel objects>)"
      ]
     },
     "execution_count": 23,
     "metadata": {},
     "output_type": "execute_result"
    },
    {
     "data": {
      "image/png": "[encoded data removed]",
      "text/plain": [
       "<Figure size 576x360 with 1 Axes>"
      ]
     },
     "metadata": {},
     "output_type": "display_data"
    }
   ],
   "source": [
    "sns.set_theme(style=\"white\")\n",
    "fig, ax = plt.subplots(figsize=(8,5))\n",
    "\n",
    "cmap_genes = {'s1':'#64B6C4', 'rdrp':'#d3d3d3'}\n",
    "\n",
    "cmap_expectation = {'empirical': '#64B6C4','expected':'#ededed'}\n",
    "\n",
    "sns.boxplot(data= wait_time_df, x='gene', y='wait_times', \n",
    "            hue='empirical_simulated',palette = cmap_expectation,\n",
    "            ax=ax, \n",
    "            showfliers=False)\n",
    "\n",
    "sns.despine(left=False, bottom=True)\n",
    "\n",
    "# plt.legend([],[], frameon=False)\n",
    "handles, labels = ax.get_legend_handles_labels()\n",
    "lgd = ax.legend(handles, labels, loc='upper center', bbox_to_anchor=(1.1, 1.0))\n",
    "\n",
    "ax.set_ylabel('Wait time between mutations', fontsize = 18)\n",
    "ax.set_xlabel('')\n",
    "\n",
    "plt.yticks(fontsize= 16)\n",
    "plt.xticks(fontsize= 16)"
   ]
  },
  {
   "cell_type": "code",
   "execution_count": null,
   "id": "b9cd1930",
   "metadata": {},
   "outputs": [],
   "source": []
  },
  {
   "cell_type": "code",
   "execution_count": null,
   "id": "62c92bd0",
   "metadata": {},
   "outputs": [],
   "source": []
  },
  {
   "cell_type": "code",
   "execution_count": null,
   "id": "e6695f9c",
   "metadata": {},
   "outputs": [],
   "source": []
  },
  {
   "cell_type": "code",
   "execution_count": null,
   "id": "96ab6b31",
   "metadata": {},
   "outputs": [],
   "source": []
  }
 ],
 "metadata": {
  "kernelspec": {
   "display_name": "Python 3",
   "language": "python",
   "name": "python3"
  },
  "language_info": {
   "codemirror_mode": {
    "name": "ipython",
    "version": 3
   },
   "file_extension": ".py",
   "mimetype": "text/x-python",
   "name": "python",
   "nbconvert_exporter": "python",
   "pygments_lexer": "ipython3",
   "version": "3.6.10"
  }
 },
 "nbformat": 4,
 "nbformat_minor": 5
}
