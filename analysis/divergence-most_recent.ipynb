{
 "cells": [
  {
   "cell_type": "code",
   "execution_count": 1,
   "id": "070639e0",
   "metadata": {},
   "outputs": [],
   "source": [
    "from utils import sars2_genome_info, sars2_genome_seq, get_parent, add_syn_mut_attribute, add_mut_at_node_attr, add_changes_from_ref_attr\n",
    "from utils_randomization import get_total_muts_on_tree, get_branch_lengths, randomize_mutations_on_tree_multinomial\n",
    "from utils_plotting import get_color_palette, convert_linege_names, get_linear_reg_stats, DateToStr\n",
    "from augur.utils import json_to_tree\n",
    "from os import path\n",
    "import pandas as pd\n",
    "import numpy as np\n",
    "from Bio import SeqIO\n",
    "from Bio.Seq import Seq\n",
    "from Bio.Seq import MutableSeq\n",
    "from Bio.SeqFeature import SeqFeature, FeatureLocation\n",
    "from Bio.SeqRecord import SeqRecord\n",
    "from Bio import AlignIO\n",
    "from Bio.Align import MultipleSeqAlignment\n",
    "from Bio.Align import AlignInfo\n",
    "import matplotlib.pyplot as plt\n",
    "import seaborn as sns\n",
    "from scipy import stats\n",
    "import math\n",
    "import json\n",
    "import string\n",
    "import requests"
   ]
  },
  {
   "cell_type": "markdown",
   "id": "6b0ed28e",
   "metadata": {},
   "source": [
    "## Ratio of nonsynonymous to synonymous divergence "
   ]
  },
  {
   "cell_type": "markdown",
   "id": "041c70aa",
   "metadata": {},
   "source": [
    "Import the tree and convert to Bio Phylo format."
   ]
  },
  {
   "cell_type": "code",
   "execution_count": 2,
   "id": "1fa8e155",
   "metadata": {},
   "outputs": [],
   "source": [
    "tree_url = 'https://nextstrain-blab.s3.amazonaws.com/ncov_adaptive-evolution_2021-11-01.json'\n",
    "\n",
    "tree_json = requests.get(tree_url).json()\n",
    "\n",
    "#Put tree in Bio.Phylo format\n",
    "tree = json_to_tree(tree_json)"
   ]
  },
  {
   "cell_type": "markdown",
   "id": "c9fcfef2",
   "metadata": {},
   "source": [
    "Get information about genome position and length of each gene "
   ]
  },
  {
   "cell_type": "code",
   "execution_count": 3,
   "id": "23915d38",
   "metadata": {},
   "outputs": [],
   "source": [
    "reference_gene_locations, reference_gene_codon, gene_lengths_aa = sars2_genome_info()"
   ]
  },
  {
   "cell_type": "code",
   "execution_count": 4,
   "id": "7b2659ed",
   "metadata": {},
   "outputs": [],
   "source": [
    "reference_sequence_aa, reference_sequence_nt = sars2_genome_seq()"
   ]
  },
  {
   "cell_type": "markdown",
   "id": "8f3dd526",
   "metadata": {},
   "source": [
    "Add information about synonymous mutations as an attribute of nodes on the tree"
   ]
  },
  {
   "cell_type": "code",
   "execution_count": 9,
   "id": "170796d8",
   "metadata": {},
   "outputs": [],
   "source": [
    "tree = add_syn_mut_attribute(tree)"
   ]
  },
  {
   "cell_type": "markdown",
   "id": "5a910f0a",
   "metadata": {},
   "source": [
    "Add an attribute to each node that lists all mutations that have occurred between the root and node"
   ]
  },
  {
   "cell_type": "code",
   "execution_count": 10,
   "id": "da493606",
   "metadata": {},
   "outputs": [],
   "source": [
    "tree = add_changes_from_ref_attr(tree)"
   ]
  },
  {
   "cell_type": "markdown",
   "id": "7287a7b6",
   "metadata": {},
   "source": [
    "Generate temporal windows, starting at the date of of the root and extending for a length of time specified by \"window_len\""
   ]
  },
  {
   "cell_type": "code",
   "execution_count": 11,
   "id": "22b725e3",
   "metadata": {},
   "outputs": [],
   "source": [
    "first_timepoint = tree.root.node_attrs['num_date']['value']\n",
    "last_timepoint = 0\n",
    "for node in tree.find_clades():\n",
    "    if node.node_attrs['num_date']['value'] > last_timepoint:\n",
    "        last_timepoint = node.node_attrs['num_date']['value']\n",
    "        \n",
    "def make_time_windows(window_len):\n",
    "    time_windows = np.arange(first_timepoint, last_timepoint, window_len).tolist()\n",
    "    time_windows += [last_timepoint]\n",
    "    return time_windows"
   ]
  },
  {
   "cell_type": "markdown",
   "id": "8e980b0a",
   "metadata": {},
   "source": [
    "For each time window, compute dN/dS for each isolate within the window. For each isolate, the following function finds gene-specific nonsynonymous and synonymous divergence and then calculates the dN/dS ratio. Divergence here is the Hamming distance from the root normalized by the total number of synonymous or nonsynonymous sites in the gene."
   ]
  },
  {
   "cell_type": "code",
   "execution_count": 7,
   "id": "3af70c5b",
   "metadata": {},
   "outputs": [],
   "source": [
    "def find_nonsyn_syn_denominators():\n",
    "    \n",
    "    denominators = {}\n",
    "    \n",
    "    for gene,nt_seq in reference_sequence_nt.items():\n",
    "        \n",
    "        seq = str(nt_seq)\n",
    "        aa_seq = str(reference_sequence_aa[gene])\n",
    "\n",
    "        nonsyn_denominator = 0\n",
    "        syn_denominator = 0\n",
    "\n",
    "        all_nts = ['A', 'C', 'G', 'T']\n",
    "\n",
    "        for pos in range(len(seq)):\n",
    "            nt = seq[pos]\n",
    "            if nt!='N':\n",
    "\n",
    "                codon = math.floor(pos/3)\n",
    "                codon_pos = pos-(codon*3)\n",
    "                real_codon_aa = aa_seq[codon]\n",
    "\n",
    "                all_other_nts = [x for x in all_nts if x != nt]\n",
    "                for mutated_nt in all_other_nts: \n",
    "                    if codon_pos == 0:\n",
    "                        mut_codon_nt = mutated_nt+seq[pos+1:(pos+3)]\n",
    "                    elif codon_pos == 1:\n",
    "                        mut_codon_nt = seq[pos-1]+mutated_nt+seq[pos+1]\n",
    "                    elif codon_pos == 2:\n",
    "                        mut_codon_nt = seq[(pos-2):pos]+mutated_nt\n",
    "\n",
    "                    mut_codon_aa = Seq(mut_codon_nt).translate()\n",
    "\n",
    "                    if mut_codon_aa!=real_codon_aa:\n",
    "                        nonsyn_denominator+=1\n",
    "                    elif mut_codon_aa==real_codon_aa:\n",
    "                        syn_denominator+=1\n",
    "                        \n",
    "            \n",
    "        denominators[gene] = {'nonsyn_denominator': nonsyn_denominator, 'syn_denominator':syn_denominator}\n",
    "        \n",
    "    return denominators"
   ]
  },
  {
   "cell_type": "markdown",
   "id": "82b9f5c0",
   "metadata": {},
   "source": [
    "Calculate the total number of nonsynonymous or synonymous sites (denominators)"
   ]
  },
  {
   "cell_type": "code",
   "execution_count": 8,
   "id": "e5cc872f",
   "metadata": {},
   "outputs": [],
   "source": [
    "denominators = find_nonsyn_syn_denominators()"
   ]
  },
  {
   "cell_type": "code",
   "execution_count": 19,
   "id": "b56db255",
   "metadata": {},
   "outputs": [],
   "source": [
    "def find_divergence_in_window(window_len=0.2):\n",
    "    time_windows = make_time_windows(window_len)\n",
    "    \n",
    "#     window_divergence_info = []\n",
    "    window_dnds_info = []\n",
    "    \n",
    "    # look at divergence within time window\n",
    "    for x in range(1,len(time_windows)):\n",
    "        start_date = time_windows[x-1]\n",
    "        end_date = time_windows[x]\n",
    "        \n",
    "        s1_div_in_window = []\n",
    "        s1_syn_div_in_window = []\n",
    "        rdrp_div_in_window = []\n",
    "        rdrp_syn_div_in_window = []\n",
    "\n",
    "        for node in tree.find_clades():\n",
    "            if node.node_attrs['num_date']['value']>=start_date and  node.node_attrs['num_date']['value']<=end_date:\n",
    "                \n",
    "                if len(node.get_terminals())>=3:\n",
    "                    \n",
    "                    s1_nonsyn_denom, s1_syn_denom = denominators['S1']['nonsyn_denominator'], denominators['S1']['syn_denominator']\n",
    "                    \n",
    "                                 \n",
    "\n",
    "                    s1_div = len(node.node_attrs[\"changes_from_ref\"]['s1_non'])/s1_nonsyn_denom\n",
    "                    \n",
    "                    #assign a false count to avoid dividing by zero\n",
    "                    if len(node.node_attrs[\"changes_from_ref\"]['s1_syn']) == 0:\n",
    "                        s1_syn_div = 1/s1_syn_denom\n",
    "                    else:\n",
    "                        s1_syn_div = (len(node.node_attrs[\"changes_from_ref\"]['s1_syn'])+1)/s1_syn_denom\n",
    "                    \n",
    "                    \n",
    "                    s1_n_over_s = s1_div/s1_syn_div\n",
    "\n",
    "                    \n",
    "                    rdrp_nonsyn_denom, rdrp_syn_denom = denominators['RdRp']['nonsyn_denominator'], denominators['RdRp']['syn_denominator']\n",
    "\n",
    "                    rdrp_div = len(node.node_attrs[\"changes_from_ref\"]['rdrp_non'])/rdrp_nonsyn_denom\n",
    "                    if len(node.node_attrs[\"changes_from_ref\"]['rdrp_syn']) == 0:\n",
    "                        rdrp_syn_div = 1/rdrp_syn_denom\n",
    "                    else:\n",
    "                        rdrp_syn_div = (len(node.node_attrs[\"changes_from_ref\"]['rdrp_syn'])+1)/rdrp_syn_denom\n",
    "                        \n",
    "                    rdrp_n_over_s = rdrp_div/rdrp_syn_div\n",
    "                    \n",
    "\n",
    "                    e_nonsyn_denom, e_syn_denom = denominators['E']['nonsyn_denominator'], denominators['E']['syn_denominator']\n",
    "\n",
    "                    e_div = len(node.node_attrs[\"changes_from_ref\"]['e_non'])/e_nonsyn_denom\n",
    "                    if len(node.node_attrs[\"changes_from_ref\"]['e_syn']) == 0:\n",
    "                        e_syn_div = 1/e_syn_denom\n",
    "                    else:\n",
    "                        e_syn_div = (len(node.node_attrs[\"changes_from_ref\"]['e_syn'])+1)/e_syn_denom\n",
    "                        \n",
    "                    e_n_over_s = e_div/e_syn_div\n",
    "                    \n",
    "                    \n",
    "\n",
    "                    n_nonsyn_denom, n_syn_denom = denominators['N']['nonsyn_denominator'], denominators['N']['syn_denominator']\n",
    "                    \n",
    "                    n_div = len(node.node_attrs[\"changes_from_ref\"]['n_non'])/n_nonsyn_denom\n",
    "                    if len(node.node_attrs[\"changes_from_ref\"]['n_syn']) == 0:\n",
    "                        n_syn_div = 1/n_syn_denom\n",
    "                    else:\n",
    "                        n_syn_div = (len(node.node_attrs[\"changes_from_ref\"]['n_syn'])+1)/n_syn_denom\n",
    "                        \n",
    "                    n_n_over_s = n_div/n_syn_div\n",
    "                    \n",
    "                    \n",
    "                    m_nonsyn_denom, m_syn_denom = denominators['M']['nonsyn_denominator'], denominators['M']['syn_denominator']\n",
    "\n",
    "                    m_div = len(node.node_attrs[\"changes_from_ref\"]['m_non'])/m_nonsyn_denom\n",
    "                    if len(node.node_attrs[\"changes_from_ref\"]['m_syn']) == 0:\n",
    "                        m_syn_div = 1/m_syn_denom\n",
    "                    else:\n",
    "                        m_syn_div = (len(node.node_attrs[\"changes_from_ref\"]['m_syn'])+1)/m_syn_denom\n",
    "                        \n",
    "                    m_n_over_s = m_div/m_syn_div\n",
    "                    \n",
    "    \n",
    "                    s2_nonsyn_denom, s2_syn_denom = denominators['S2']['nonsyn_denominator'], denominators['S2']['syn_denominator']\n",
    "\n",
    "                    s2_div = len(node.node_attrs[\"changes_from_ref\"]['s2_non'])/s2_nonsyn_denom\n",
    "                    if len(node.node_attrs[\"changes_from_ref\"]['s2_syn']) == 0:\n",
    "                        s2_syn_div = 1/s2_syn_denom\n",
    "                    else:\n",
    "                        s2_syn_div = (len(node.node_attrs[\"changes_from_ref\"]['s2_syn'])+1)/s2_syn_denom\n",
    "                        \n",
    "                    s2_n_over_s = s2_div/s2_syn_div\n",
    "                    \n",
    "                    \n",
    "                    nsp6_nonsyn_denom, nsp6_syn_denom = denominators['Nsp6']['nonsyn_denominator'], denominators['Nsp6']['syn_denominator']\n",
    "\n",
    "                    \n",
    "                    nsp6_div = len(node.node_attrs[\"changes_from_ref\"]['nsp6_non'])/nsp6_nonsyn_denom\n",
    "                    if len(node.node_attrs[\"changes_from_ref\"]['nsp6_syn']) == 0:\n",
    "                        nsp6_syn_div = 1/nsp6_syn_denom\n",
    "                    else:\n",
    "                        nsp6_syn_div = (len(node.node_attrs[\"changes_from_ref\"]['nsp6_syn'])+1)/nsp6_syn_denom\n",
    "                        \n",
    "                    nsp6_n_over_s = nsp6_div/nsp6_syn_div\n",
    "                    \n",
    "                    \n",
    "                    orf7a_nonsyn_denom, orf7a_syn_denom = denominators['ORF7a']['nonsyn_denominator'], denominators['ORF7a']['syn_denominator']\n",
    "\n",
    "                    orf7a_div = len(node.node_attrs[\"changes_from_ref\"]['orf7a_non'])/orf7a_nonsyn_denom\n",
    "                    if len(node.node_attrs[\"changes_from_ref\"]['orf7a_syn']) == 0:\n",
    "                        orf7a_syn_div = 1/orf7a_syn_denom\n",
    "                    else:\n",
    "                        orf7a_syn_div = (len(node.node_attrs[\"changes_from_ref\"]['orf7a_syn'])+1)/orf7a_syn_denom\n",
    "                        \n",
    "                    orf7a_n_over_s = orf7a_div/orf7a_syn_div\n",
    "                    \n",
    "                        \n",
    "                        \n",
    "                        \n",
    "                        \n",
    "                    window_dnds_info.append({'window_start': round(start_date,2), 'window_end': round(end_date,2), \n",
    "                                             'dn/ds':s1_n_over_s, 'location': 'S1'})\n",
    "                    window_dnds_info.append({'window_start': round(start_date,2), 'window_end': round(end_date,2), \n",
    "                                             'dn/ds':rdrp_n_over_s, 'location': 'RdRp'})\n",
    "                    window_dnds_info.append({'window_start': round(start_date,2), 'window_end': round(end_date,2), \n",
    "                                             'dn/ds':e_n_over_s, 'location': 'E'})\n",
    "                    window_dnds_info.append({'window_start': round(start_date,2), 'window_end': round(end_date,2), \n",
    "                                             'dn/ds':n_n_over_s, 'location': 'N'})\n",
    "                    window_dnds_info.append({'window_start': round(start_date,2), 'window_end': round(end_date,2), \n",
    "                                             'dn/ds':m_n_over_s, 'location': 'M'})\n",
    "                    window_dnds_info.append({'window_start': round(start_date,2), 'window_end': round(end_date,2), \n",
    "                                             'dn/ds':s2_n_over_s, 'location': 'S2'})\n",
    "                    window_dnds_info.append({'window_start': round(start_date,2), 'window_end': round(end_date,2), \n",
    "                                             'dn/ds':nsp6_n_over_s, 'location': 'Nsp6'})\n",
    "                    window_dnds_info.append({'window_start': round(start_date,2), 'window_end': round(end_date,2), \n",
    "                                             'dn/ds':orf7a_n_over_s, 'location': 'ORF7a'})\n",
    "\n",
    "\n",
    "\n",
    "\n",
    "        \n",
    "                \n",
    "\n",
    "    window_dnds_df = pd.DataFrame(window_dnds_info)\n",
    "        \n",
    "\n",
    "    return window_dnds_df\n",
    "        "
   ]
  },
  {
   "cell_type": "markdown",
   "id": "a76ea1f0",
   "metadata": {},
   "source": [
    "Generate a dataframe containing dN/dS information for each gene and temporal window"
   ]
  },
  {
   "cell_type": "code",
   "execution_count": 20,
   "id": "e32454a3",
   "metadata": {},
   "outputs": [],
   "source": [
    "window_dnds = find_divergence_in_window()"
   ]
  },
  {
   "cell_type": "markdown",
   "id": "47849c0c",
   "metadata": {},
   "source": [
    "Find the overall mean dn/ds in S1 and the dn/ds in 2021"
   ]
  },
  {
   "cell_type": "code",
   "execution_count": 21,
   "id": "70b689fa",
   "metadata": {},
   "outputs": [
    {
     "name": "stdout",
     "output_type": "stream",
     "text": [
      "Overall mean dn/ds in S1: 0.8796305578153218\n",
      "2021 mean dn/ds in S1: 1.5220395037931613\n"
     ]
    }
   ],
   "source": [
    "mean_overall = window_dnds[window_dnds['location']=='S1']['dn/ds'].mean()\n",
    "print(f'Overall mean dn/ds in S1: {mean_overall}')\n",
    "\n",
    "mean_2021 = window_dnds[(window_dnds['location']=='S1')& (window_dnds['window_start']>=2020.9)]['dn/ds'].mean()\n",
    "print(f'2021 mean dn/ds in S1: {mean_2021}')"
   ]
  },
  {
   "cell_type": "code",
   "execution_count": 22,
   "id": "b8a3c767",
   "metadata": {},
   "outputs": [
    {
     "data": {
      "text/plain": [
       "1.3118208885967286"
      ]
     },
     "execution_count": 22,
     "metadata": {},
     "output_type": "execute_result"
    }
   ],
   "source": [
    "window_dnds[(window_dnds['location']=='S1')& (window_dnds['window_start']>=2020.55)]['dn/ds'].mean()"
   ]
  },
  {
   "cell_type": "markdown",
   "id": "99364c10",
   "metadata": {},
   "source": [
    "Plot dN/dS over time for each gene\n",
    "\n",
    "This code generates Figure 2."
   ]
  },
  {
   "cell_type": "code",
   "execution_count": 23,
   "id": "2bd62313",
   "metadata": {},
   "outputs": [
    {
     "data": {
      "text/plain": [
       "Text(0.08, 0.28, 'H3N2 HA1')"
      ]
     },
     "execution_count": 23,
     "metadata": {},
     "output_type": "execute_result"
    },
    {
     "data": {
      "image/png": "[encoded data removed]",
      "text/plain": [
       "<Figure size 576x288 with 1 Axes>"
      ]
     },
     "metadata": {},
     "output_type": "display_data"
    }
   ],
   "source": [
    "fig, ax = plt.subplots(figsize=(8,4))\n",
    "plt.tight_layout()\n",
    "sns.set_style(\"white\")\n",
    "cmap = {'RdRp':\"#ff8c3a\", 'S1':\"#4770eb\", 'E': '#307358', 'N': '#419D78', \n",
    "        'M': '#a2d9c3', 'S2': '#1238aa', 'Nsp6':\"#c35100\", 'ORF7a':'#7c5295'}\n",
    "\n",
    "sns.pointplot(x='window_end', y='dn/ds', hue='location', palette=cmap,\n",
    "              data=window_dnds, hue_order=['S1', 'S2', 'RdRp', 'Nsp6', 'ORF7a', 'E', 'M', 'N'],\n",
    "              ci=95, ax=ax)\n",
    "sns.despine(left=False, bottom=False)\n",
    "ax.set_xlabel('Date', fontsize=14)\n",
    "ax.set_ylabel('Nonsynonymous divergence/ \\nSynonymous divergence', fontsize=14)\n",
    "ax.tick_params(axis='y', which='major', labelsize=14)\n",
    "ax.set_xticks([p for p in ax.get_xticks()])\n",
    "ax.set_xticklabels([DateToStr(float(t.get_text())) for t in ax.get_xticklabels()], rotation=30)\n",
    "\n",
    "\n",
    "handles, labels = ax.get_legend_handles_labels()\n",
    "lgd = ax.legend(handles, labels, loc='upper center', fontsize=12, bbox_to_anchor=(0.1, 1.0), \n",
    "                 title = r'$\\bf{Location}$')\n",
    "ax.axhline(y=0.39, color=\"#ABABAB\", linestyle = '--')\n",
    "ax.annotate(text='H3N2 HA1', xy=(0.08, 0.28), xycoords='axes fraction', color=\"#ABABAB\", fontsize=14)\n",
    "\n",
    "# fig.savefig('plots/divergence_2021-11-01.png', dpi=300, bbox_inches='tight')"
   ]
  }
 ],
 "metadata": {
  "kernelspec": {
   "display_name": "ncov-kernel",
   "language": "python",
   "name": "ncov-kernel"
  },
  "language_info": {
   "codemirror_mode": {
    "name": "ipython",
    "version": 3
   },
   "file_extension": ".py",
   "mimetype": "text/x-python",
   "name": "python",
   "nbconvert_exporter": "python",
   "pygments_lexer": "ipython3",
   "version": "3.6.13"
  }
 },
 "nbformat": 4,
 "nbformat_minor": 5
}
