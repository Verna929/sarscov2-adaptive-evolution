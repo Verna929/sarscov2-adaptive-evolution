{
 "cells": [
  {
   "cell_type": "code",
   "execution_count": 1,
   "id": "33194542",
   "metadata": {},
   "outputs": [
    {
     "name": "stderr",
     "output_type": "stream",
     "text": [
      "/Users/katekistler/anaconda3/envs/ncov/lib/python3.6/site-packages/Bio/Seq.py:2859: BiopythonWarning: Partial codon, len(sequence) not a multiple of three. Explicitly trim the sequence or add trailing N before translation. This may become an error in future.\n",
      "  BiopythonWarning,\n"
     ]
    }
   ],
   "source": [
    "from utils import sars2_genome_info, get_parent, add_syn_mut_attribute, add_mut_at_node_attr \n",
    "from utils_randomization import get_total_muts_on_tree, get_branch_lengths, randomize_mutations_on_tree_multinomial\n",
    "from utils_plotting import get_color_palette, convert_linege_names, get_linear_reg_stats\n",
    "from augur.utils import json_to_tree\n",
    "import matplotlib.pyplot as plt\n",
    "import matplotlib.patches as patches\n",
    "import matplotlib.gridspec as gridspec\n",
    "import seaborn as sns\n",
    "from scipy import stats\n",
    "import numpy as np\n",
    "import pandas as pd\n",
    "from collections import Counter\n",
    "from scipy import stats\n",
    "import requests\n",
    "import random\n",
    "import math\n",
    "import json\n",
    "import re"
   ]
  },
  {
   "cell_type": "markdown",
   "id": "6ca65169",
   "metadata": {},
   "source": [
    "## Figure 1: Accumulation of nonsynonymous S1 mutations is correlated with clade success\n",
    "\n",
    "##### A p-value is assigned to the correlation between logistic growth rate and mutation accumulation by comparing the empirical R-value for this correlation to R-values from 1000 randomized trees.\n",
    "\n",
    "#### This notebook completes the analysis for Figure 1 C. "
   ]
  },
  {
   "cell_type": "markdown",
   "id": "71e410d0",
   "metadata": {},
   "source": [
    "Import the tree and convert to Bio Phylo format. This is a time-resolved phylogeny built from 9544 SARS-CoV-2 genomes sampled between December 2019 and May 15, 2021. The tree can be viewed at https://nextstrain.org/groups/blab/ncov/adaptive-evolution/2021-05-15"
   ]
  },
  {
   "cell_type": "code",
   "execution_count": 2,
   "id": "8f4a46bb",
   "metadata": {},
   "outputs": [],
   "source": [
    "tree_url = 'https://nextstrain-blab.s3.amazonaws.com/ncov_adaptive-evolution_2021-05-15.json'\n",
    "\n",
    "tree_json = requests.get(tree_url).json()\n",
    "\n",
    "#Put tree in Bio.Phylo format\n",
    "tree = json_to_tree(tree_json)"
   ]
  },
  {
   "cell_type": "markdown",
   "id": "46e91eda",
   "metadata": {},
   "source": [
    "Get information about genome position and length of each gene "
   ]
  },
  {
   "cell_type": "code",
   "execution_count": 3,
   "id": "b2ed1024",
   "metadata": {},
   "outputs": [],
   "source": [
    "reference_gene_locations, reference_gene_codon, gene_lengths_aa = sars2_genome_info()"
   ]
  },
  {
   "cell_type": "markdown",
   "id": "669aefa9",
   "metadata": {},
   "source": [
    "Add information about synonymous mutations as an attribute of nodes on the tree"
   ]
  },
  {
   "cell_type": "code",
   "execution_count": 4,
   "id": "8d649160",
   "metadata": {},
   "outputs": [],
   "source": [
    "tree = add_syn_mut_attribute(tree)"
   ]
  },
  {
   "cell_type": "markdown",
   "id": "82317a11",
   "metadata": {},
   "source": [
    "Add the number of mutations that occur at a node as an attribute of that node, for all nodes on the tree"
   ]
  },
  {
   "cell_type": "code",
   "execution_count": 5,
   "id": "78001d3a",
   "metadata": {},
   "outputs": [],
   "source": [
    "tree = add_mut_at_node_attr(tree)"
   ]
  },
  {
   "cell_type": "markdown",
   "id": "2b647f3e",
   "metadata": {},
   "source": [
    "Find the total number of mutations that occur within each gene on internal branches of the tree"
   ]
  },
  {
   "cell_type": "code",
   "execution_count": 6,
   "id": "9f2b4b7b",
   "metadata": {},
   "outputs": [],
   "source": [
    "total_mutations_nonsyn, total_mutations_syn = get_total_muts_on_tree(tree)"
   ]
  },
  {
   "cell_type": "markdown",
   "id": "c4b0cbc4",
   "metadata": {},
   "source": [
    "Find the length of every branch"
   ]
  },
  {
   "cell_type": "code",
   "execution_count": 7,
   "id": "90c19cfa",
   "metadata": {},
   "outputs": [],
   "source": [
    "branch_names_all, branch_lengths_all = get_branch_lengths(tree)"
   ]
  },
  {
   "cell_type": "markdown",
   "id": "eb784093",
   "metadata": {},
   "source": [
    "Now, randomize the phylogeny in order to create a null expectation for growth rates. For each type of mutation, the total number of mutations observed and all branch lengths are inputs for the function \"randomize_mutations_on_tree_multinomial\". This function randomizes the position of each mutation across the phylogeny using a multinomial draw where the likelihood of a branch having a mutation is proportional to the branch length. \n",
    "\n",
    "The following function will randomize the phylogeny and store the results in a .json file. A total of 1000 iterations have already been run for each gene and are saved in the \"growth_rate_stats/\" directory. Because randomizations are time-consuming, they were run in chunks and stored in several files"
   ]
  },
  {
   "cell_type": "code",
   "execution_count": 8,
   "id": "11053433",
   "metadata": {},
   "outputs": [],
   "source": [
    "def run_growth_randomizations(genes, iterations, save_filename):\n",
    "    \"\"\"\n",
    "    Randomize the phylogeny for each gene specified, X times each \n",
    "    (where X is specified by \"iterations\"). The R-value of the correlation \n",
    "    between mutation number and logistic growth rate is stored for each \n",
    "    iteration in a .json file specified by \"save_filename\".\n",
    "    \"\"\"\n",
    "\n",
    "    growth_stats_dict = {'growth_rate_stats':[]}\n",
    "\n",
    "    for gene in genes:\n",
    "        if gene == 'S1':\n",
    "            nonsyn_syn_options=['nonsyn', 'syn']\n",
    "        else:\n",
    "            nonsyn_syn_options=['nonsyn']\n",
    "\n",
    "        for nonsyn_syn in nonsyn_syn_options:\n",
    "\n",
    "            for x in range(iterations):\n",
    "                #Download tree json\n",
    "                tree_json = requests.get(tree_url).json()\n",
    "\n",
    "                #Put tree in Bio.Phylo format\n",
    "                tree = json_to_tree(tree_json)\n",
    "                \n",
    "                # randomize mutation positions on tree\n",
    "                if nonsyn_syn == 'nonsyn':\n",
    "                    tree = randomize_mutations_on_tree_multinomial(tree, total_mutations_nonsyn[gene], \n",
    "                                                                   branch_lengths_all, branch_names_all)\n",
    "                elif nonsyn_syn == 'syn':\n",
    "                    tree = randomize_mutations_on_tree_multinomial(tree, total_mutations_syn[gene], \n",
    "                                                                   branch_lengths_all, branch_names_all)\n",
    "\n",
    "                \n",
    "                # keep track of logistic growth rate for this iteration\n",
    "                muts_information = []\n",
    "                # count accumulation of mutations on path\n",
    "                for node in tree.find_clades(terminal=False):\n",
    "                    \n",
    "                    # only care if it has a logistic growth rate\n",
    "                    if \"logistic_growth\" in node.node_attrs:\n",
    "                        logistic_growth = node.node_attrs[\"logistic_growth\"][\"value\"]\n",
    "\n",
    "                        #Find all parents of the node\n",
    "                        parents = get_parent(tree, node)\n",
    "\n",
    "                        #Find mutations that occur in the parents, and at node\n",
    "                        parents_random_muts = 0\n",
    "\n",
    "                        for parent in parents:\n",
    "                            if hasattr(parent, \"random_muts\"):\n",
    "                                parents_random_muts+=parent.random_muts\n",
    "                                \n",
    "                        muts_information.append({'muts_per_codon': parents_random_muts/gene_lengths_aa[gene],\n",
    "                                                 'logistic_growth': logistic_growth})\n",
    "                        \n",
    "    \n",
    "                \n",
    "\n",
    "                muts_information_df = pd.DataFrame(muts_information)\n",
    "                slope, intercept, r_value, p_value, std_err = stats.linregress(muts_information_df['logistic_growth'], \n",
    "                                                                               muts_information_df['muts_per_codon'])\n",
    "\n",
    "                growth_stats_dict['growth_rate_stats'].append({'data': 'randomized', 'iteration':x,\n",
    "                                                               'gene': gene, 'nonsyn_syn': nonsyn_syn, \n",
    "                                                               'r_value':r_value})\n",
    "\n",
    "    with open(save_filename, 'w') as outfile:\n",
    "        json.dump(growth_stats_dict, outfile)"
   ]
  },
  {
   "cell_type": "code",
   "execution_count": 23,
   "id": "d03abc23",
   "metadata": {},
   "outputs": [],
   "source": [
    "# run_growth_randomizations(['ORF3a', 'ORF6', 'ORF7a', 'ORF7b', 'ORF8', 'ORF9b'], \n",
    "#                           100, 'randomization_results/growth_rate_stats/growth_stats-other_orfs_100its.json')"
   ]
  },
  {
   "cell_type": "code",
   "execution_count": 22,
   "id": "f6859f47",
   "metadata": {},
   "outputs": [],
   "source": [
    "# run_growth_randomizations(['Nsp1', 'Nsp2', 'Nsp3', 'Nsp5', 'Nsp7', 'Nsp8', 'Nsp9', \n",
    "#                            'Nsp10', 'Nsp13', 'Nsp14', 'Nsp15', 'Nsp16'], \n",
    "#                           100, 'randomization_results/growth_rate_stats/growth_stats-other_nsps_100its.json')"
   ]
  },
  {
   "cell_type": "code",
   "execution_count": null,
   "id": "88f4cc9d",
   "metadata": {},
   "outputs": [],
   "source": [
    "# run_growth_randomizations(['S2', 'N', 'E', 'M', 'Nsp6', 'Nsp4'], \n",
    "#                           200, 'randomization_results/growth_rate_stats/growth_stats-supp_200itsmore.json')"
   ]
  },
  {
   "cell_type": "markdown",
   "id": "29b43264",
   "metadata": {},
   "source": [
    "To determine whether the relationship observed between logistic growth rate and mutation accumulation (presented in Figure 1B) is meaningful, plot the distribution of R values from 1000 randomized phylogenies alongside the empirical R-value. The p-value is the fraction of randomized R values that are greater than the empirical R value.\n",
    "\n",
    "The function below generates Figure 1C."
   ]
  },
  {
   "cell_type": "code",
   "execution_count": 16,
   "id": "cb403670",
   "metadata": {},
   "outputs": [],
   "source": [
    "def plot_fig1c(data_files, filename=None):\n",
    "    \"\"\"\n",
    "    Plot the empirical R value compared to the distribution of R values from randomized \n",
    "    trees. Do this for S1 nonsynonymous, S1 synonymous and RdRp nonsynonymous mutations\n",
    "    \"\"\"\n",
    "    \n",
    "    # initialize dataframe to store information from all .json files where data is stored\n",
    "    to_plot = pd.DataFrame(columns = ['data', 'iteration', 'gene', 'nonsyn_syn', 'r_value'])\n",
    "    \n",
    "    # read in all randomization R values\n",
    "    for data_file in data_files:\n",
    "        with open(data_file) as json_file:\n",
    "            data = json.load(json_file)\n",
    "            df = pd.DataFrame(data['growth_rate_stats'])\n",
    "            to_plot = pd.concat([to_plot, df])\n",
    "    \n",
    "    # find the total number of randomizations\n",
    "    num_iterations = 0\n",
    "    for data_file in data_files:\n",
    "        num_iterations+= int(re.findall('[0-9]+', data_file.split('_')[4])[0])\n",
    "    \n",
    "    # read in observed R values\n",
    "    with open('randomization_results/growth_rate_stats/growth_stats_observed.json') as observed_json:\n",
    "        data_observed = json.load(observed_json)\n",
    "        to_plot_observed = pd.DataFrame(data_observed['growth_rate_stats'])\n",
    "        \n",
    "    \n",
    "    # categories of mutations to plot\n",
    "    # tuples are (gene, nonsyn/syn, color for empirical data)\n",
    "    subplot_categories = [('S1', 'nonsyn', \"#4770eb\"), ('S1', 'syn', \"#5094e3\"), ('RdRp', 'nonsyn', \"#ff8c3a\")]\n",
    "    # dictionary to convert labels to more readable labels\n",
    "    readable_labels = {'nonsyn': 'Nonsynonymous', 'syn': 'Synonymous'}\n",
    "\n",
    "    # initialize plot\n",
    "    fig, axes = plt.subplots(1,3, figsize=(14,1.25), sharey=True, sharex=True)\n",
    "    plt.tight_layout()\n",
    "    sns.set_style(\"white\")\n",
    "    \n",
    "    for i, ax in enumerate(axes.flat):\n",
    "        expected = to_plot[(to_plot['gene']==subplot_categories[i][0])&(to_plot['nonsyn_syn']==subplot_categories[i][1])]\n",
    "        # plot a histogram of all expected R values\n",
    "        ax = sns.histplot(data=expected, \n",
    "                          x='r_value', color = \"#ABABAB\",\n",
    "                          element = 'step',alpha=0.25,\n",
    "                          bins=10, stat='count', ax=ax)\n",
    "        observed_r = to_plot_observed[(to_plot_observed['gene']==subplot_categories[i][0]\n",
    "                                     )&(to_plot_observed['nonsyn_syn']==subplot_categories[i][1]\n",
    "                                       )]['r_value'].values[0]\n",
    "        # add line to show empirical R value\n",
    "        ax.axvline(x=observed_r, color = subplot_categories[i][2], linewidth=4)\n",
    "        # find pvalue\n",
    "        pvalue= len(expected[expected['r_value']>observed_r])/num_iterations\n",
    "\n",
    "        if pvalue < 0.01:\n",
    "            ax.annotate(f'p-value: {pvalue}', xy=((observed_r+0.1), 0.65), \n",
    "                         xycoords='axes fraction',ha='left', size=13, fontweight='bold')\n",
    "        else:\n",
    "            offset = {1:0.47, 2:0.14}\n",
    "            ax.annotate(f'p-value: {round(pvalue, 2)}', xy=((observed_r+offset[i]), 0.65), \n",
    "                         xycoords='axes fraction',ha='left', size=13, fontweight='bold')\n",
    "        ax.set_title(f'{subplot_categories[i][0]} {readable_labels[subplot_categories[i][1]]}', \n",
    "                     fontsize = 14, fontweight='bold')\n",
    "        ax.set_xlabel('$r$', fontsize=12)\n",
    "        ax.set_ylabel('count', fontsize=12)\n",
    "#         plt.setp(ax.get_yticklabels(), visible=False)\n",
    "        ax.tick_params(axis='x', which='major', labelsize=12)\n",
    "\n",
    "    \n",
    "    \n",
    "    sns.despine(left=False, bottom=False)\n",
    "    plt.subplots_adjust(wspace=0.1)\n",
    "    \n",
    "    plt.figtext(0.0, 0.94, 'C', fontsize=24, fontweight='bold')\n",
    "\n",
    "    if filename:\n",
    "        fig.savefig(filename, dpi=300, bbox_inches='tight')\n",
    "    \n",
    "    "
   ]
  },
  {
   "cell_type": "code",
   "execution_count": 17,
   "id": "ba10ea14",
   "metadata": {},
   "outputs": [
    {
     "data": {
      "image/png": "[encoded data removed]",
      "text/plain": [
       "<Figure size 1008x90 with 3 Axes>"
      ]
     },
     "metadata": {},
     "output_type": "display_data"
    }
   ],
   "source": [
    "plot_fig1c(['randomization_results/growth_rate_stats/growth_stats_50it.json', \n",
    "            'randomization_results/growth_rate_stats/growth_stats_50itmore.json', \n",
    "            'randomization_results/growth_rate_stats/growth_stats_200its.json', \n",
    "            'randomization_results/growth_rate_stats/growth_stats_400its.json', \n",
    "            'randomization_results/growth_rate_stats/growth_stats_300its.json'], filename='plots/fig1c_r_stats.png')"
   ]
  },
  {
   "cell_type": "markdown",
   "id": "afcaa26f",
   "metadata": {},
   "source": [
    "Now find pvalues for correlations between logistic growth rate and mutation accumulation in other genes. \n",
    "\n",
    "This generates the histograms and pvalues for Figure 1 Supplement 2."
   ]
  },
  {
   "cell_type": "code",
   "execution_count": 24,
   "id": "4fc01a00",
   "metadata": {},
   "outputs": [],
   "source": [
    "def plot_fig1_supp_3(data_files_main, data_files_supp, filename=None):\n",
    "\n",
    "    to_plot = pd.DataFrame(columns = ['data', 'iteration', 'gene', 'nonsyn_syn', 'r_value'])\n",
    "    \n",
    "    for data_file in data_files_supp:\n",
    "        with open(data_file) as json_file:\n",
    "            data = json.load(json_file)\n",
    "            df = pd.DataFrame(data['growth_rate_stats'])\n",
    "            to_plot = pd.concat([to_plot, df])\n",
    "\n",
    "    \n",
    "    for data_file in data_files_main:\n",
    "        with open(data_file) as json_file:\n",
    "            data = json.load(json_file)\n",
    "            df = pd.DataFrame(data['growth_rate_stats'])\n",
    "            to_plot = pd.concat([to_plot, df])\n",
    "    \n",
    "    with open('randomization_results/growth_rate_stats/growth_stats_observed.json') as observed_json:\n",
    "        data_observed = json.load(observed_json)\n",
    "        to_plot_observed = pd.DataFrame(data_observed['growth_rate_stats'])\n",
    "\n",
    "    \n",
    "    # categories of mutations to plot\n",
    "    # tuples are (gene, nonsyn/syn, color for empirical data)\n",
    "    subplot_categories = [('S1', 'nonsyn', \"#4770eb\"), ('S2', 'nonsyn', '#1238aa'), \n",
    "                          ('RdRp', 'nonsyn', \"#ff8c3a\"), ('N', 'nonsyn', '#419D78'), \n",
    "                          ('M', 'nonsyn', '#a2d9c3'), ('ORF7a', 'nonsyn', '#7c5295'),\n",
    "                          ('Nsp6', 'nonsyn', \"#c35100\"), ('Nsp4', 'nonsyn', \"#ffc59c\")]\n",
    "    # dictionary to convert labels to more readable labels\n",
    "    readable_labels = {'nonsyn': 'Nonsynonymous', 'syn': 'Synonymous'}\n",
    "\n",
    "    # initialize plot\n",
    "    fig, axes = plt.subplots(4,2, figsize=(7,3), sharey=True, sharex=True)\n",
    "    plt.tight_layout()\n",
    "    sns.set_style(\"white\")\n",
    "    \n",
    "    \n",
    "    for i, ax in enumerate(axes.flat):\n",
    "        expected = to_plot[(to_plot['gene']==subplot_categories[i][0]\n",
    "                           )&(to_plot['nonsyn_syn']==subplot_categories[i][1])]\n",
    "        \n",
    "        num_iterations = len(expected)\n",
    "\n",
    "        # plot a histogram of all expected R values\n",
    "        ax = sns.histplot(data=expected, \n",
    "                          x='r_value', color = \"#ABABAB\",\n",
    "                          element = 'step',alpha=0.25,\n",
    "                          bins=10, stat='count', ax=ax)\n",
    "        observed_r = to_plot_observed[(to_plot_observed['gene']==subplot_categories[i][0]\n",
    "                                     )&(to_plot_observed['nonsyn_syn']==subplot_categories[i][1]\n",
    "                                       )]['r_value'].values[0]\n",
    "        # add line to show empirical R value\n",
    "        ax.axvline(x=observed_r, color = subplot_categories[i][2], linewidth=4)\n",
    "        # find pvalue\n",
    "        pvalue= len(expected[expected['r_value']>observed_r])/num_iterations\n",
    "        # amount to offset the position that the pvalue is printed\n",
    "        offset = {0:-0.02, 1: 0.12, 2: 0.10, 3:0.08, 4: 0.08, 5:0.0, 6:0.08, 7:0.08}\n",
    "        if pvalue < 0.005:\n",
    "            pvalue = '< 0.005'\n",
    "            ax.annotate(f'p-value: {pvalue}', xy=((observed_r+offset[i]), 0.65), \n",
    "                         xycoords='axes fraction',ha='left', size=11, fontweight='bold')\n",
    "        else:\n",
    "            ax.annotate(f'p-value: {round(pvalue, 2)}', xy=((observed_r+offset[i]), 0.65), \n",
    "                         xycoords='axes fraction',ha='left', size=11, fontweight='bold')\n",
    "#         ax.set_title(f'{subplot_categories[i][0]} {readable_labels[subplot_categories[i][1]]}', \n",
    "#                      fontsize = 14, fontweight='bold')\n",
    "#         ax.set_xlabel('$r$', fontsize=12)\n",
    "        ax.set_ylabel('')\n",
    "        plt.setp(ax.get_yticklabels(), visible=False)\n",
    "#         ax.tick_params(axis='x', which='major', labelsize=10)\n",
    "\n",
    "\n",
    "    \n",
    "    for i, ax in enumerate(axes.flat):\n",
    "        ax.set_ylabel('')\n",
    "        ax.set_xlabel('')\n",
    "        plt.setp(ax.get_yticklabels(), visible=False)\n",
    "        plt.setp(ax.get_xticklabels(), visible=False)\n",
    "\n",
    "    \n",
    "    \n",
    "    sns.despine(left=False, bottom=False)\n",
    "    plt.subplots_adjust(wspace=0.2, hspace=0.5)\n",
    "    \n",
    "\n",
    "    if filename:\n",
    "        fig.savefig(filename, dpi=300, bbox_inches='tight')\n",
    "    \n",
    "    "
   ]
  },
  {
   "cell_type": "code",
   "execution_count": 29,
   "id": "672f1fcd",
   "metadata": {},
   "outputs": [
    {
     "data": {
      "image/png": "[encoded data removed]",
      "text/plain": [
       "<Figure size 504x216 with 8 Axes>"
      ]
     },
     "metadata": {},
     "output_type": "display_data"
    }
   ],
   "source": [
    "plot_fig1_supp_3(['randomization_results/growth_rate_stats/growth_stats_50it.json', \n",
    "            'randomization_results/growth_rate_stats/growth_stats_50itmore.json', \n",
    "            'randomization_results/growth_rate_stats/growth_stats_200its.json', \n",
    "            'randomization_results/growth_rate_stats/growth_stats_400its.json', \n",
    "            'randomization_results/growth_rate_stats/growth_stats_300its.json'], \n",
    "                 ['randomization_results/growth_rate_stats/growth_stats-supp_100its.json', \n",
    "                  'randomization_results/growth_rate_stats/growth_stats-supp_150its.json', \n",
    "                  'randomization_results/growth_rate_stats/growth_stats-supp_250its.json', \n",
    "                  'randomization_results/growth_rate_stats/growth_stats-supp_300its.json', \n",
    "                  'randomization_results/growth_rate_stats/growth_stats-supp_200itsmore.json',     \n",
    "                 'randomization_results/growth_rate_stats/growth_stats-other_orfs_10its.json', \n",
    "                 'randomization_results/growth_rate_stats/growth_stats-other_orfs_100its.json', \n",
    "                 'randomization_results/growth_rate_stats/growth_stats-other_orfs_200its.json', \n",
    "                 'randomization_results/growth_rate_stats/growth_stats-other_orfs_300its.json',\n",
    "                  'randomization_results/growth_rate_stats/growth_stats-other_orfs_250its.json',\n",
    "                 'randomization_results/growth_rate_stats/growth_stats-other_nsps_10its.json', \n",
    "                 'randomization_results/growth_rate_stats/growth_stats-other_nsps_100its.json',\n",
    "                 'randomization_results/growth_rate_stats/growth_stats-other_nsps_200its.json', \n",
    "                 'randomization_results/growth_rate_stats/growth_stats-other_nsps_300its.json', \n",
    "                 'randomization_results/growth_rate_stats/growth_stats-other_nsps_250its.json', \n",
    "                  'randomization_results/growth_rate_stats/growth_stats-other_nsps_150its.json'], \n",
    "                filename = 'plots/fig1_supp2stats_notitles.png')"
   ]
  }
 ],
 "metadata": {
  "kernelspec": {
   "display_name": "ncov-kernel",
   "language": "python",
   "name": "ncov-kernel"
  },
  "language_info": {
   "codemirror_mode": {
    "name": "ipython",
    "version": 3
   },
   "file_extension": ".py",
   "mimetype": "text/x-python",
   "name": "python",
   "nbconvert_exporter": "python",
   "pygments_lexer": "ipython3",
   "version": "3.6.13"
  }
 },
 "nbformat": 4,
 "nbformat_minor": 5
}
