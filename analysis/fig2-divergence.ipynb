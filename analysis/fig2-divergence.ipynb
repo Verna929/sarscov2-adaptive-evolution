{
 "cells": [
  {
   "cell_type": "code",
   "execution_count": 13,
   "id": "be28518f",
   "metadata": {},
   "outputs": [],
   "source": [
    "from utils import sars2_genome_info, get_parent, add_syn_mut_attribute, add_mut_at_node_attr, add_changes_from_ref_attr\n",
    "from utils_randomization import get_total_muts_on_tree, get_branch_lengths, randomize_mutations_on_tree_multinomial\n",
    "from utils_plotting import get_color_palette, convert_linege_names, get_linear_reg_stats\n",
    "from augur.utils import json_to_tree\n",
    "from os import path\n",
    "import pandas as pd\n",
    "import numpy as np\n",
    "from Bio import SeqIO\n",
    "from Bio.Seq import Seq\n",
    "from Bio.Seq import MutableSeq\n",
    "from Bio.SeqFeature import SeqFeature, FeatureLocation\n",
    "from Bio.SeqRecord import SeqRecord\n",
    "from Bio import AlignIO\n",
    "from Bio.Align import MultipleSeqAlignment\n",
    "from Bio.Align import AlignInfo\n",
    "import matplotlib.pyplot as plt\n",
    "import seaborn as sns\n",
    "from scipy import stats\n",
    "import math\n",
    "import json\n",
    "import string\n",
    "import requests"
   ]
  },
  {
   "cell_type": "markdown",
   "id": "0b1015cc",
   "metadata": {},
   "source": [
    "## Figure 2: Ratio of nonsynonymous to synonymous divergence is highest S1\n",
    "\n",
    "##### The nonsynonymous and synonymous divergence in different regions of the genome is calculated over time. The ratio of nonsynonymous to synonymous divergence is then plotted.\n",
    "\n",
    "#### This notebook completes the analysis Figure 2. "
   ]
  },
  {
   "cell_type": "markdown",
   "id": "9911d4a2",
   "metadata": {},
   "source": [
    "Import the tree and convert to Bio Phylo format. This is a time-resolved phylogeny built from 9544 SARS-CoV-2 genomes sampled between December 2019 and May 15, 2021. The tree can be viewed at https://nextstrain.org/groups/blab/ncov/adaptive-evolution/2021-05-15"
   ]
  },
  {
   "cell_type": "code",
   "execution_count": 2,
   "id": "f1f9c70c",
   "metadata": {},
   "outputs": [],
   "source": [
    "tree_url = 'https://nextstrain-blab.s3.amazonaws.com/ncov_adaptive-evolution_2021-05-15.json'\n",
    "\n",
    "tree_json = requests.get(tree_url).json()\n",
    "\n",
    "#Put tree in Bio.Phylo format\n",
    "tree = json_to_tree(tree_json)"
   ]
  },
  {
   "cell_type": "markdown",
   "id": "e811638c",
   "metadata": {},
   "source": [
    "Get information about genome position and length of each gene "
   ]
  },
  {
   "cell_type": "code",
   "execution_count": 3,
   "id": "2b5bd35e",
   "metadata": {},
   "outputs": [],
   "source": [
    "reference_gene_locations, reference_gene_codon, gene_lengths_aa = sars2_genome_info()"
   ]
  },
  {
   "cell_type": "markdown",
   "id": "e48be734",
   "metadata": {},
   "source": [
    "Add information about synonymous mutations as an attribute of nodes on the tree"
   ]
  },
  {
   "cell_type": "code",
   "execution_count": 4,
   "id": "4cea5c33",
   "metadata": {},
   "outputs": [],
   "source": [
    "tree = add_syn_mut_attribute(tree)"
   ]
  },
  {
   "cell_type": "markdown",
   "id": "9f8e5de3",
   "metadata": {},
   "source": [
    "Add an attribute to each node that lists all mutations that have occurred between the root and node"
   ]
  },
  {
   "cell_type": "code",
   "execution_count": 5,
   "id": "dc2db2eb",
   "metadata": {},
   "outputs": [],
   "source": [
    "tree = add_changes_from_ref_attr(tree)"
   ]
  },
  {
   "cell_type": "markdown",
   "id": "719ab53f",
   "metadata": {},
   "source": [
    "Generate temporal windows, starting at the date of of the root and extending for a length of time specified by \"window_len\""
   ]
  },
  {
   "cell_type": "code",
   "execution_count": 6,
   "id": "c677b076",
   "metadata": {},
   "outputs": [],
   "source": [
    "first_timepoint = tree.root.node_attrs['num_date']['value']\n",
    "last_timepoint = 0\n",
    "for node in tree.find_clades():\n",
    "    if node.node_attrs['num_date']['value'] > last_timepoint:\n",
    "        last_timepoint = node.node_attrs['num_date']['value']\n",
    "        \n",
    "def make_time_windows(window_len):\n",
    "    time_windows = np.arange(first_timepoint, last_timepoint, window_len).tolist()\n",
    "    time_windows += [last_timepoint]\n",
    "    return time_windows"
   ]
  },
  {
   "cell_type": "markdown",
   "id": "d6b3cf6a",
   "metadata": {},
   "source": [
    "For each time window, compute dN/dS for each isolate within the window. For each isolate, the following function finds gene-specific nonsynonymous and synonymous divergence and then calculates the dN/dS ratio. Divergence here is the Hamming distance from the root normalized by the total number of synonymous or nonsynonymous sites in the gene."
   ]
  },
  {
   "cell_type": "code",
   "execution_count": 7,
   "id": "7f14fe1f",
   "metadata": {},
   "outputs": [],
   "source": [
    "def find_divergence_in_window(window_len=0.2):\n",
    "    time_windows = make_time_windows(window_len)\n",
    "    \n",
    "#     window_divergence_info = []\n",
    "    window_dnds_info = []\n",
    "    \n",
    "    # look at divergence within time window\n",
    "    for x in range(1,len(time_windows)):\n",
    "        start_date = time_windows[x-1]\n",
    "        end_date = time_windows[x]\n",
    "        \n",
    "        s1_div_in_window = []\n",
    "        s1_syn_div_in_window = []\n",
    "        rdrp_div_in_window = []\n",
    "        rdrp_syn_div_in_window = []\n",
    "\n",
    "        for node in tree.find_clades():\n",
    "            if node.node_attrs['num_date']['value']>=start_date and  node.node_attrs['num_date']['value']<=end_date:\n",
    "                \n",
    "                if len(node.get_terminals())>=3:\n",
    "                                 \n",
    "\n",
    "                    s1_div = len(node.node_attrs[\"changes_from_ref\"]['s1_non'])/(gene_lengths_aa['S1']*3*(438/576))\n",
    "                    \n",
    "                    #assign a false count to avoid dividing by zero\n",
    "                    if len(node.node_attrs[\"changes_from_ref\"]['s1_syn']) == 0:\n",
    "                        s1_syn_div = 1/(gene_lengths_aa['S1']*3*(138/576))\n",
    "                    else:\n",
    "                        s1_syn_div = (len(node.node_attrs[\"changes_from_ref\"]['s1_syn'])+1)/(gene_lengths_aa['S1']*3*(138/576))\n",
    "                    \n",
    "                    \n",
    "                    s1_n_over_s = s1_div/s1_syn_div\n",
    "\n",
    "                    \n",
    "\n",
    "                    rdrp_div = len(node.node_attrs[\"changes_from_ref\"]['rdrp_non'])/(gene_lengths_aa['RdRp']*3*(438/576))\n",
    "                    if len(node.node_attrs[\"changes_from_ref\"]['rdrp_syn']) == 0:\n",
    "                        rdrp_syn_div = 1/(gene_lengths_aa['RdRp']*3*(138/576))\n",
    "                    else:\n",
    "                        rdrp_syn_div = (len(node.node_attrs[\"changes_from_ref\"]['rdrp_syn'])+1)/(gene_lengths_aa['RdRp']*3*(138/576))\n",
    "                        \n",
    "                    rdrp_n_over_s = rdrp_div/rdrp_syn_div\n",
    "                    \n",
    "\n",
    "                    e_div = len(node.node_attrs[\"changes_from_ref\"]['e_non'])/(gene_lengths_aa['E']*3*(438/576))\n",
    "                    if len(node.node_attrs[\"changes_from_ref\"]['e_syn']) == 0:\n",
    "                        e_syn_div = 1/(gene_lengths_aa['E']*3*(138/576))\n",
    "                    else:\n",
    "                        e_syn_div = (len(node.node_attrs[\"changes_from_ref\"]['e_syn'])+1)/(gene_lengths_aa['E']*3*(138/576))\n",
    "                        \n",
    "                    e_n_over_s = e_div/e_syn_div\n",
    "                    \n",
    "\n",
    "                    \n",
    "                    \n",
    "                    n_div = len(node.node_attrs[\"changes_from_ref\"]['n_non'])/(gene_lengths_aa['N']*3*(438/576))\n",
    "                    if len(node.node_attrs[\"changes_from_ref\"]['n_syn']) == 0:\n",
    "                        n_syn_div = 1/(gene_lengths_aa['N']*3*(138/576))\n",
    "                    else:\n",
    "                        n_syn_div = (len(node.node_attrs[\"changes_from_ref\"]['n_syn'])+1)/(gene_lengths_aa['N']*3*(138/576))\n",
    "                        \n",
    "                    n_n_over_s = n_div/n_syn_div\n",
    "                    \n",
    "                    \n",
    "                    \n",
    "                    m_div = len(node.node_attrs[\"changes_from_ref\"]['m_non'])/(gene_lengths_aa['M']*3*(438/576))\n",
    "                    if len(node.node_attrs[\"changes_from_ref\"]['m_syn']) == 0:\n",
    "                        m_syn_div = 1/(gene_lengths_aa['M']*3*(138/576))\n",
    "                    else:\n",
    "                        m_syn_div = (len(node.node_attrs[\"changes_from_ref\"]['m_syn'])+1)/(gene_lengths_aa['M']*3*(138/576))\n",
    "                        \n",
    "                    m_n_over_s = m_div/m_syn_div\n",
    "                    \n",
    "    \n",
    "\n",
    "                    s2_div = len(node.node_attrs[\"changes_from_ref\"]['s2_non'])/(gene_lengths_aa['S2']*3*(438/576))\n",
    "                    if len(node.node_attrs[\"changes_from_ref\"]['s2_syn']) == 0:\n",
    "                        s2_syn_div = 1/(gene_lengths_aa['S2']*3*(138/576))\n",
    "                    else:\n",
    "                        s2_syn_div = (len(node.node_attrs[\"changes_from_ref\"]['s2_syn'])+1)/(gene_lengths_aa['S2']*3*(138/576))\n",
    "                        \n",
    "                    s2_n_over_s = s2_div/s2_syn_div\n",
    "                    \n",
    "                        \n",
    "                        \n",
    "                        \n",
    "                        \n",
    "                    window_dnds_info.append({'window_start': round(start_date,2), 'window_end': round(end_date,2), \n",
    "                                             'dn/ds':s1_n_over_s, 'location': 'S1'})\n",
    "                    window_dnds_info.append({'window_start': round(start_date,2), 'window_end': round(end_date,2), \n",
    "                                             'dn/ds':rdrp_n_over_s, 'location': 'RdRp'})\n",
    "                    window_dnds_info.append({'window_start': round(start_date,2), 'window_end': round(end_date,2), \n",
    "                                             'dn/ds':e_n_over_s, 'location': 'E'})\n",
    "                    window_dnds_info.append({'window_start': round(start_date,2), 'window_end': round(end_date,2), \n",
    "                                             'dn/ds':n_n_over_s, 'location': 'N'})\n",
    "                    window_dnds_info.append({'window_start': round(start_date,2), 'window_end': round(end_date,2), \n",
    "                                             'dn/ds':m_n_over_s, 'location': 'M'})\n",
    "                    window_dnds_info.append({'window_start': round(start_date,2), 'window_end': round(end_date,2), \n",
    "                                             'dn/ds':s2_n_over_s, 'location': 'S2'})\n",
    "\n",
    "\n",
    "\n",
    "        \n",
    "                \n",
    "\n",
    "    window_dnds_df = pd.DataFrame(window_dnds_info)\n",
    "        \n",
    "\n",
    "    return window_dnds_df\n",
    "        "
   ]
  },
  {
   "cell_type": "markdown",
   "id": "093bb7f5",
   "metadata": {},
   "source": [
    "Generate a dataframe containing dN/dS information for each gene and temporal window"
   ]
  },
  {
   "cell_type": "code",
   "execution_count": 8,
   "id": "4a500b68",
   "metadata": {},
   "outputs": [],
   "source": [
    "window_dnds = find_divergence_in_window()"
   ]
  },
  {
   "cell_type": "markdown",
   "id": "3a8046be",
   "metadata": {},
   "source": [
    "Plot dN/dS over time for each gene\n",
    "\n",
    "This code generates Figure 2."
   ]
  },
  {
   "cell_type": "code",
   "execution_count": 12,
   "id": "86fdad82",
   "metadata": {},
   "outputs": [
    {
     "data": {
      "image/png": "[encoded data removed]",
      "text/plain": [
       "<Figure size 576x360 with 1 Axes>"
      ]
     },
     "metadata": {},
     "output_type": "display_data"
    }
   ],
   "source": [
    "fig, ax = plt.subplots(figsize=(8,5))\n",
    "plt.tight_layout()\n",
    "sns.set_style(\"white\")\n",
    "cmap = {'RdRp':\"#ff8c3a\", 'S1':\"#4770eb\", 'E': '#307358', 'N': '#419D78', 'M': '#a2d9c3', 'S2': '#1238aa'}\n",
    "\n",
    "sns.pointplot(x='window_end', y='dn/ds', hue='location', palette=cmap,\n",
    "              data=window_dnds, hue_order=['S1', 'S2', 'RdRp', 'E', 'M', 'N'],\n",
    "              ci=95, ax=ax)\n",
    "sns.despine(left=False, bottom=False)\n",
    "ax.set_xlabel('Date', fontsize=14)\n",
    "ax.set_ylabel('Nonsynonymous divergence/ \\nSynonymous divergence', fontsize=14)\n",
    "ax.tick_params(axis='y', which='major', labelsize=12)\n",
    "ax.tick_params(axis='x', which='major', labelsize=10, rotation=30)\n",
    "\n",
    "handles, labels = ax.get_legend_handles_labels()\n",
    "lgd = ax.legend(handles, labels, loc='upper center', bbox_to_anchor=(0.1, 1.0), \n",
    "                 title = r'$\\bf{Location}$')\n",
    "\n",
    "fig.savefig('plots/fig2_divergence.png', dpi=300, bbox_inches='tight')"
   ]
  }
 ],
 "metadata": {
  "kernelspec": {
   "display_name": "ncov-kernel",
   "language": "python",
   "name": "ncov-kernel"
  },
  "language_info": {
   "codemirror_mode": {
    "name": "ipython",
    "version": 3
   },
   "file_extension": ".py",
   "mimetype": "text/x-python",
   "name": "python",
   "nbconvert_exporter": "python",
   "pygments_lexer": "ipython3",
   "version": "3.6.13"
  }
 },
 "nbformat": 4,
 "nbformat_minor": 5
}
