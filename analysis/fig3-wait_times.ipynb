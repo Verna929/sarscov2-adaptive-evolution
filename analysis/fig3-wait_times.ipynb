{
 "cells": [
  {
   "cell_type": "code",
   "execution_count": 92,
   "id": "33194542",
   "metadata": {},
   "outputs": [],
   "source": [
    "from utils import sars2_genome_info, get_parent, add_syn_mut_attribute, add_mut_at_node_attr \n",
    "from utils_randomization import get_total_muts_on_tree, get_branch_lengths, randomize_mutations_on_tree_multinomial\n",
    "from utils_randomization import random_wait_times, s1_wait_times, rdrp_wait_times\n",
    "from utils_plotting import get_color_palette, convert_linege_names, get_linear_reg_stats\n",
    "from augur.utils import json_to_tree\n",
    "import matplotlib.pyplot as plt\n",
    "import matplotlib.patches as patches\n",
    "import matplotlib.gridspec as gridspec\n",
    "import seaborn as sns\n",
    "from scipy import stats\n",
    "import numpy as np\n",
    "import pandas as pd\n",
    "from Bio import SeqIO\n",
    "from Bio.Seq import Seq\n",
    "from Bio.Seq import MutableSeq\n",
    "from collections import Counter\n",
    "from scipy import stats\n",
    "import requests\n",
    "import random\n",
    "import math\n",
    "import json"
   ]
  },
  {
   "cell_type": "markdown",
   "id": "47ed037b",
   "metadata": {},
   "source": [
    "## Figure 3: S1 substitutions are temporally clustered\n",
    "\n",
    "##### Wait times between mutations are measured to show that S1 mutations cluster temporally.\n",
    "\n",
    "##### A p-value is assigned to the difference between observed and expected wait times from 1000 randomized trees.\n",
    "\n",
    "#### This notebook completes the analysis for Figure 3 B and C and Figure 3 supplement 2. "
   ]
  },
  {
   "cell_type": "markdown",
   "id": "71e410d0",
   "metadata": {},
   "source": [
    "Import the tree and convert to Bio Phylo format. This is a time-resolved phylogeny built from 9544 SARS-CoV-2 genomes sampled between December 2019 and May 15, 2021. The tree can be viewed at https://nextstrain.org/groups/blab/ncov/adaptive-evolution/2021-05-15"
   ]
  },
  {
   "cell_type": "code",
   "execution_count": 2,
   "id": "8f4a46bb",
   "metadata": {},
   "outputs": [],
   "source": [
    "tree_url = 'https://nextstrain-blab.s3.amazonaws.com/ncov_adaptive-evolution_2021-05-15.json'\n",
    "\n",
    "tree_json = requests.get(tree_url).json()\n",
    "\n",
    "#Put tree in Bio.Phylo format\n",
    "tree = json_to_tree(tree_json)"
   ]
  },
  {
   "cell_type": "markdown",
   "id": "30469c3d",
   "metadata": {},
   "source": [
    "Add information about synonymous mutations as an attribute of nodes on the tree"
   ]
  },
  {
   "cell_type": "code",
   "execution_count": 3,
   "id": "a26817cb",
   "metadata": {},
   "outputs": [],
   "source": [
    "tree = add_syn_mut_attribute(tree)"
   ]
  },
  {
   "cell_type": "markdown",
   "id": "e197e33c",
   "metadata": {},
   "source": [
    "Add the number of mutations that occur at a node as an attribute of that node, for all nodes on the tree"
   ]
  },
  {
   "cell_type": "code",
   "execution_count": 4,
   "id": "4307fa3b",
   "metadata": {},
   "outputs": [],
   "source": [
    "tree = add_mut_at_node_attr(tree)"
   ]
  },
  {
   "cell_type": "markdown",
   "id": "cf611a9d",
   "metadata": {},
   "source": [
    "Find the total number of mutations that occur within each gene on internal branches of the tree"
   ]
  },
  {
   "cell_type": "code",
   "execution_count": 5,
   "id": "41a07e1b",
   "metadata": {},
   "outputs": [],
   "source": [
    "total_mutations_nonsyn, total_mutations_syn = get_total_muts_on_tree(tree)"
   ]
  },
  {
   "cell_type": "markdown",
   "id": "64d7431a",
   "metadata": {},
   "source": [
    "Find the length of every branch"
   ]
  },
  {
   "cell_type": "code",
   "execution_count": 6,
   "id": "c07bbbbc",
   "metadata": {},
   "outputs": [],
   "source": [
    "branch_names_all, branch_lengths_all = get_branch_lengths(tree)"
   ]
  },
  {
   "cell_type": "markdown",
   "id": "c22c76c8",
   "metadata": {},
   "source": [
    "Find the wait times between S1 (or RdRp) mutations on empirical and randomized trees. Wait times are calculated between a mutation and the next mutation along each descending path. \n",
    "\n",
    "This function randomizes mutations across the tree then calculates wait times between those randomized mutations. It also calculates empirical wait times. A total of 1000 iterations have already been run and wait times from each iteration are saved in a .json file in the \"wait_time_stats/\" directory. Because randomizations are time-consuming, they were run in chunks and stored in several files"
   ]
  },
  {
   "cell_type": "code",
   "execution_count": 7,
   "id": "dba1d296",
   "metadata": {},
   "outputs": [],
   "source": [
    "def wait_time_stats(tree, genes, iterations, save_filename):\n",
    "    \n",
    "    wait_times_stats_dict = {'wait_times_stats':[]}\n",
    "    \n",
    "    for gene in genes:\n",
    "        if gene == 'S1':\n",
    "            nonsyn_syn_options=['nonsyn', 'syn']\n",
    "        else:\n",
    "            nonsyn_syn_options=['nonsyn']\n",
    "        \n",
    "        for nonsyn_syn in nonsyn_syn_options:\n",
    "            # at each iteration, randomize the tree and calculate wait times\n",
    "            for x in range(iterations):\n",
    "                \n",
    "                # randomize mutation positions on tree\n",
    "                if nonsyn_syn == 'nonsyn':\n",
    "                    tree = randomize_mutations_on_tree_multinomial(tree, total_mutations_nonsyn[gene], \n",
    "                                                                   branch_lengths_all, branch_names_all)\n",
    "                elif nonsyn_syn == 'syn':\n",
    "                    tree = randomize_mutations_on_tree_multinomial(tree, total_mutations_syn[gene], \n",
    "                                                                   branch_lengths_all, branch_names_all)\n",
    "                    \n",
    "                wait_times_random = random_wait_times(tree)\n",
    "                \n",
    "                mean_wait_time_random = sum(wait_times_random)/len(wait_times_random)\n",
    "                \n",
    "                under_02_random = len([x for x in wait_times_random if x<=0.2])/len(wait_times_random)\n",
    "                under_04_random = len([x for x in wait_times_random if x<=0.4])/len(wait_times_random)\n",
    "                under_06_random = len([x for x in wait_times_random if x<=0.6])/len(wait_times_random)\n",
    "                \n",
    "                # store mean wait time per randomization iteration. Also proportion under 0.2, 0.4, 0.6 years\n",
    "                wait_times_stats_dict['wait_times_stats'].append({'data': 'expected', 'gene': gene, 'nonsyn_syn': nonsyn_syn,\n",
    "                                                        'wait_times': wait_times_random,\n",
    "                                                        'mean_wait_time': mean_wait_time_random, \n",
    "                                                        'proportion_under_02': under_02_random, \n",
    "                                                        'proportion_under_04': under_04_random, \n",
    "                                                        'proportion_under_06': under_06_random})\n",
    "\n",
    "\n",
    "            \n",
    "            # find these values for empirical data too \n",
    "            # do multiple iterations as well because date of mutation is picked randomly along branch length\n",
    "            for x in range(iterations):\n",
    "                if gene == 'S1':\n",
    "                    all_wait_times_s1 = s1_wait_times(tree,nonsyn_syn)\n",
    "                    wait_times_empirical = all_wait_times_s1\n",
    "                elif gene == 'RdRp':\n",
    "                    all_wait_times_rdrp = rdrp_wait_times(tree)\n",
    "                    wait_times_empirical = all_wait_times_rdrp\n",
    "                    \n",
    "                mean_wait_time_empirical = sum(wait_times_empirical)/len(wait_times_empirical)\n",
    "                \n",
    "                under_02_empirical = len([x for x in wait_times_empirical if x<=0.2])/len(wait_times_empirical)\n",
    "                under_04_empirical = len([x for x in wait_times_empirical if x<=0.4])/len(wait_times_empirical)\n",
    "                under_06_empirical = len([x for x in wait_times_empirical if x<=0.6])/len(wait_times_empirical)\n",
    "                \n",
    "                # store mean wait time per  iteration. Also proportion under 0.2, 0.4, 0.6 years\n",
    "                wait_times_stats_dict['wait_times_stats'].append({'data': 'observed', 'gene': gene, 'nonsyn_syn': nonsyn_syn,\n",
    "                                                        'wait_times': wait_times_empirical,\n",
    "                                                        'mean_wait_time': mean_wait_time_empirical, \n",
    "                                                        'proportion_under_02': under_02_empirical, \n",
    "                                                        'proportion_under_04': under_04_empirical, \n",
    "                                                        'proportion_under_06': under_06_empirical})\n",
    "\n",
    "    with open(save_filename, 'w') as outfile:\n",
    "        json.dump(wait_times_stats_dict, outfile)\n",
    "\n",
    "    "
   ]
  },
  {
   "cell_type": "code",
   "execution_count": null,
   "id": "074cdf2b",
   "metadata": {},
   "outputs": [],
   "source": [
    "# wait_time_stats(['s1', 'rdrp'], 250, 'wait_time_stats/wait_time_stats_250more_internal.json')"
   ]
  },
  {
   "cell_type": "markdown",
   "id": "dd48d83e",
   "metadata": {},
   "source": [
    "For 1000 iterations, plot the distribution of observed and expected wait times. Make separate subplots for S1 nonsynonymous, S1 synonymous and RdRp nonsynonymous wait times.\n",
    "\n",
    "This function generates Figure 3B."
   ]
  },
  {
   "cell_type": "code",
   "execution_count": 15,
   "id": "2835c7dc",
   "metadata": {},
   "outputs": [],
   "source": [
    "def plot_fig3b(data_files, filename=None):\n",
    "    \"\"\"\n",
    "    Reads in data files containing wait times from all iterations. Plots a \n",
    "    histogram comparing expected and observed wait times between S1 \n",
    "    nonsynonymous, S1 synonymous and RdRp nonsynonymous mutations\n",
    "    \"\"\"\n",
    "\n",
    "    # dataframe for all wait time information, \n",
    "    # each row is an iteration for expected or observed, s1 or rdrp, syn or nonsyn\n",
    "    to_plot = pd.DataFrame(columns = ['data', 'gene', 'nonsyn_syn',\n",
    "                                         'wait_times', 'mean_wait_time', \n",
    "                                         'proportion_under_02', 'proportion_under_04',\n",
    "                                         'proportion_under_06', 'proportion_under_08'])\n",
    "    \n",
    "    for data_file in data_files:\n",
    "        with open(data_file) as json_file:\n",
    "            data = json.load(json_file)\n",
    "            df = pd.DataFrame(data['wait_times_stats'])\n",
    "            to_plot = pd.concat([to_plot, df])\n",
    "\n",
    "    \n",
    "    fig, (ax1, ax2, ax3) = plt.subplots(1,3, figsize=(20,4), sharey=True)\n",
    "    plt.tight_layout()\n",
    "    sns.set_style(\"white\")\n",
    "    \n",
    "\n",
    "    cmap1 = {'expected':\"#ABABAB\",'observed':\"#4770eb\"}\n",
    "    cmap2 = {'expected':\"#ABABAB\",'observed':\"#5094e3\"}\n",
    "    cmap3 = {'expected':\"#ABABAB\",'observed':\"#ff8c3a\"}\n",
    "    \n",
    "    to_plot = to_plot.explode('wait_times').reset_index()\n",
    "\n",
    "    \n",
    "    ax1 = sns.histplot(data=to_plot[(to_plot['gene']=='s1') & (to_plot['nonsyn_syn']=='nonsyn')], \n",
    "                       x='wait_times', hue='data', \n",
    "                      palette = cmap1, hue_order=['expected','observed'],\n",
    "                      element = 'step',\n",
    "                      bins=20, \n",
    "                      common_norm = False, stat='probability', ax=ax1)\n",
    "    ax1.legend(handles=ax1.legend_.legendHandles, labels=[t.get_text() for t in ax1.legend_.texts],\n",
    "              title='',\n",
    "              bbox_to_anchor=(0.65, 0.95), loc='upper left', fontsize=12)\n",
    "    \n",
    "    ax2 = sns.histplot(data=to_plot[(to_plot['gene']=='s1') & (to_plot['nonsyn_syn']=='syn')], \n",
    "                       x='wait_times', hue='data', \n",
    "                      palette = cmap2, hue_order=['expected','observed'],\n",
    "                      element = 'step',\n",
    "                      bins=20, \n",
    "                      common_norm = False, stat='probability', ax=ax2)\n",
    "    ax2.legend(handles=ax2.legend_.legendHandles, labels=[t.get_text() for t in ax2.legend_.texts],\n",
    "              title='',\n",
    "              bbox_to_anchor=(0.65, 0.95), loc='upper left', fontsize=12)\n",
    "    \n",
    "    ax3 = sns.histplot(data=to_plot[(to_plot['gene']=='rdrp') & (to_plot['nonsyn_syn']=='nonsyn')], \n",
    "                       x='wait_times', hue='data', \n",
    "                      palette = cmap3, hue_order=['expected','observed'],\n",
    "                      element = 'step',\n",
    "                      bins=20, \n",
    "                      common_norm = False, stat='probability', ax=ax3)\n",
    "    ax3.legend(handles=ax3.legend_.legendHandles, labels=[t.get_text() for t in ax3.legend_.texts],\n",
    "              title='',\n",
    "              bbox_to_anchor=(0.65, 0.95), loc='upper left', fontsize=12)\n",
    "\n",
    "\n",
    "\n",
    "    ax1.set_title(f'S1 nonsynonymous', fontsize = 18)\n",
    "    ax2.set_title(f'S1 synonymous', fontsize = 18)\n",
    "    ax3.set_title(f'RdRp nonsynonymous', fontsize = 18)\n",
    "    \n",
    "    ax1.set_xlabel('wait time', fontsize=16)\n",
    "    ax2.set_xlabel('wait time', fontsize=16)\n",
    "    ax3.set_xlabel('wait time', fontsize=16)\n",
    "    \n",
    "    for ax in [ax1, ax2, ax3]:\n",
    "        ax.set_ylabel('probability', fontsize = 16)\n",
    "        ax.tick_params(axis='both', which='major', labelsize=12)\n",
    "    \n",
    "    \n",
    "    sns.despine(left=False, bottom=False)\n",
    "    plt.subplots_adjust(wspace=0.1)\n",
    "    \n",
    "    plt.figtext(-0.02, 0.96, 'B', fontsize=24, fontweight='bold')\n",
    "\n",
    "    if filename:\n",
    "        fig.savefig(filename, dpi=300, bbox_inches='tight')\n",
    "    \n",
    "    "
   ]
  },
  {
   "cell_type": "code",
   "execution_count": 17,
   "id": "2441fed6",
   "metadata": {},
   "outputs": [
    {
     "data": {
      "image/png": "[encoded data removed]",
      "text/plain": [
       "<Figure size 1440x288 with 3 Axes>"
      ]
     },
     "metadata": {},
     "output_type": "display_data"
    }
   ],
   "source": [
    "plot_fig3b(['wait_time_stats/wait_time_stats_50_internal.json', \n",
    "            'wait_time_stats/wait_time_stats_50more_internal.json', \n",
    "            'wait_time_stats/wait_time_stats_200_internal.json', \n",
    "            'wait_time_stats/wait_time_stats_200more_internal.json', \n",
    "            'wait_time_stats/wait_time_stats_250_internal.json', \n",
    "            'wait_time_stats/wait_time_stats_250more_internal.json'], filename = 'plots/fig3b_20210515.png')"
   ]
  },
  {
   "cell_type": "markdown",
   "id": "5f30eef8",
   "metadata": {},
   "source": [
    "There appear to be an excess of short S1 nonsynonymous wait times. To test this, find the mean wait times and the proportion of expected and observed wait times shorter than 0.3 years for each category of mutations.\n",
    "\n",
    "The following function plots Figure 3C i and ii."
   ]
  },
  {
   "cell_type": "code",
   "execution_count": 90,
   "id": "428d583a",
   "metadata": {},
   "outputs": [],
   "source": [
    "def plot_wait_time_stats(data_files, filename=None):\n",
    "    \"\"\"\n",
    "    Reads in all wait time data files and plots the empirical \n",
    "    mean wait time against the distribution of expected mean wait \n",
    "    times from 1000 randomized trees. Also plots the proportion \n",
    "    of empirical wait times that are under 0.3 years versus the \n",
    "    distribution of expected wait times under 0.3 years \n",
    "    \"\"\"\n",
    "    \n",
    "    # dataframe for all wait time information, \n",
    "    # each row is an iteration for expected or observed, s1 or rdrp, syn or nonsyn\n",
    "    to_plot_df = pd.DataFrame(columns = ['data', 'gene', 'nonsyn_syn',\n",
    "                                         'wait_times', 'mean_wait_time', \n",
    "                                         'proportion_under_02', 'proportion_under_04',\n",
    "                                         'proportion_under_06', 'proportion_under_08'])\n",
    "    \n",
    "    for data_file in data_files:\n",
    "        with open(data_file) as json_file:\n",
    "            data = json.load(json_file)\n",
    "            df = pd.DataFrame(data['wait_times_stats'])\n",
    "            to_plot_df = pd.concat([to_plot_df, df])\n",
    "    \n",
    "    # find the proportion of wait times under 0.3 years\n",
    "    proportion_under_03 = []\n",
    "    for k,v in to_plot_df.iterrows():\n",
    "        proportion_under_03.append(len([x for x in v.wait_times if x<=0.3])/len([x for x in v.wait_times]))\n",
    "    to_plot_df['proportion_under_03'] = proportion_under_03  \n",
    "\n",
    "            \n",
    "    num_iterations = len(to_plot_df)/6\n",
    "    \n",
    "\n",
    "    # initialize the figure\n",
    "    f = plt.figure(figsize=(20,4))\n",
    "    sns.set_style(\"white\")\n",
    "    \n",
    "    # use gridspec to allow the subplots to have different heights\n",
    "    gs = gridspec.GridSpec(2, 3, height_ratios=[2.5,1])\n",
    "\n",
    "    ax1 = plt.subplot(gs[0])\n",
    "    ax2 = plt.subplot(gs[1], sharey=ax1, sharex=ax1)\n",
    "    ax3 = plt.subplot(gs[2], sharey=ax1, sharex=ax1) \n",
    "    \n",
    "    ax4 = plt.subplot(gs[3], sharey=ax1) \n",
    "    ax5 = plt.subplot(gs[4], sharey=ax1, sharex=ax4) \n",
    "    ax6 = plt.subplot(gs[5], sharey=ax1, sharex=ax4)\n",
    "    \n",
    "    # list of tuples for plotting: (gene, nonsyn/syn, axes, color, annotation pos, gene name)\n",
    "    plotting_categories = [('s1', 'nonsyn', (ax1, ax4), \"#4770eb\", (0.08, 0.67), 'S1'), \n",
    "                           ('s1', 'syn', (ax2, ax5), \"#5094e3\", (0.7, 0.4), 'S1'), \n",
    "                           ('rdrp', 'nonsyn', (ax3, ax6), \"#ff8c3a\", (0.36, 0.42), 'RdRp')]\n",
    "    \n",
    "    for c in plotting_categories:\n",
    "        # subset the plotting dataframe to only one gene and mutation type\n",
    "        observed_subset = to_plot_df[(to_plot_df['gene']==c[0]) & (to_plot_df['nonsyn_syn']==c[1]\n",
    "                                                            ) & (to_plot_df['data']=='observed')]\n",
    "        expected_subset = to_plot_df[(to_plot_df['gene']==c[0]) & (to_plot_df['nonsyn_syn']==c[1]\n",
    "                                                            ) & (to_plot_df['data']=='expected')]\n",
    "        # on upper row of axes, plot distribution of expected mean wait times  \n",
    "        sns.histplot(data=expected_subset, \n",
    "                       x='mean_wait_time', color = \"#ABABAB\",\n",
    "                      element = 'step',alpha=0.25,\n",
    "                      bins=10, stat='count', ax=c[2][0])\n",
    "        observed_mean = observed_subset['mean_wait_time'].mean()\n",
    "        # add a colored vertical line showing the observed mean\n",
    "        c[2][0].axvline(x=observed_mean, color = c[3], linewidth=4)\n",
    "        # find p-value for mean wait time\n",
    "        p_value_mean = len(expected_subset[expected_subset['mean_wait_time']<observed_mean])/num_iterations\n",
    "        # make p-value more legible for figure by rounding\n",
    "        if p_value_mean<=0.001:\n",
    "            p_value_mean = '< 0.001'\n",
    "        else:\n",
    "            p_value_mean = round(p_value_mean,2)\n",
    "        # add p-value to plot\n",
    "        c[2][0].annotate(f'p-value: {p_value_mean}', xy=((c[4][0]), 0.90),xycoords='axes fraction',\n",
    "                         ha='left', size=12, fontweight='bold')\n",
    "        c[2][0].set_title(f'{c[5]} {c[1]}onymous', fontsize = 18)\n",
    "        c[2][0].set_xlabel('mean wait time', fontsize=14)\n",
    "        \n",
    "        # on lower row of axes, plot distribution of expected proportion of wait times under 0.3 years \n",
    "        sns.histplot(data=expected_subset, \n",
    "                           x='proportion_under_03', color = \"#ABABAB\",\n",
    "                          element = 'step',alpha=0.25,\n",
    "                          bins=10, stat='count', ax=c[2][1])\n",
    "        observed_under03 = observed_subset['proportion_under_03'].mean()\n",
    "        # add a colored vertical line showing the observed proportion under 0.3 years\n",
    "        c[2][1].axvline(x=observed_under03, color = \"#4770eb\", linewidth=4)\n",
    "        # find p-value for proportion of wait times under 0.3 years\n",
    "        p_value_03 = len(expected_subset[expected_subset['proportion_under_03']>observed_under03])/num_iterations\n",
    "        if p_value_03<=0.001:\n",
    "            p_value_03 = '< 0.001'\n",
    "        else:\n",
    "            p_value_03 = round(p_value_03,2)\n",
    "        c[2][1].annotate(f'p-value: {p_value_03}', xy=((c[4][1]), 0.90),\n",
    "                      xycoords='axes fraction', ha='left', size=12, fontweight='bold')\n",
    "        c[2][1].set_xlabel('proportion of wait times under 0.3 years', fontsize=14)\n",
    "\n",
    "\n",
    "\n",
    "    for ax in [ax1,ax2, ax3, ax4, ax5, ax6]:\n",
    "        ax.set_ylabel('')\n",
    "        plt.setp(ax.get_yticklabels(), visible=False)\n",
    "    \n",
    "    \n",
    "    sns.despine(left=False, bottom=False)\n",
    "    plt.subplots_adjust(hspace=0.8, wspace=0.1)\n",
    "    \n",
    "    plt.figtext(0.09, 0.9, 'C', fontsize=24, fontweight='bold')\n",
    "    \n",
    "    plt.figtext(0.115, 0.86, 'i', fontsize=18, fontweight='bold')\n",
    "    plt.figtext(0.115, 0.30, 'ii', fontsize=18, fontweight='bold')\n",
    "\n",
    "\n",
    "    if filename:\n",
    "        f.savefig(filename, dpi=300, bbox_inches='tight')\n",
    "    "
   ]
  },
  {
   "cell_type": "code",
   "execution_count": 91,
   "id": "9f3c0971",
   "metadata": {},
   "outputs": [
    {
     "data": {
      "image/png": "[encoded data removed]",
      "text/plain": [
       "<Figure size 1440x288 with 6 Axes>"
      ]
     },
     "metadata": {},
     "output_type": "display_data"
    }
   ],
   "source": [
    "plot_wait_time_stats(['wait_time_stats/wait_time_stats_50_internal.json', \n",
    "                      'wait_time_stats/wait_time_stats_50more_internal.json', \n",
    "                      'wait_time_stats/wait_time_stats_200_internal.json', \n",
    "                      'wait_time_stats/wait_time_stats_200more_internal.json', \n",
    "                      'wait_time_stats/wait_time_stats_250_internal.json', \n",
    "                      'wait_time_stats/wait_time_stats_250more_internal.json'], filename = 'plots/fig3c_20210515.png')"
   ]
  },
  {
   "cell_type": "markdown",
   "id": "ca012d80",
   "metadata": {},
   "source": [
    "The shape of the expected wait time distibution depends on the total number of mutations. Demonstrate this by plotting wait time distributions for randomized trees with varying numbers of mutations\n",
    "\n",
    "This produces Figure 3 Supplement 2"
   ]
  },
  {
   "cell_type": "code",
   "execution_count": 24,
   "id": "cf7411ac",
   "metadata": {},
   "outputs": [],
   "source": [
    "def test_expectation(iterations, test_nums, filename=None):\n",
    "    \n",
    "    dfs_to_plot = []\n",
    "    for y in test_nums:\n",
    "        wait_times_random = []\n",
    "        for x in range(iterations):\n",
    "            randomize_mutations_on_tree_multinomial(tree, y, branch_lengths_all, branch_names_all)\n",
    "            all_wait_times_random = random_wait_times(tree)\n",
    "            wait_times_random+=all_wait_times_random\n",
    "\n",
    "\n",
    "        to_plot_random = pd.DataFrame(wait_times_random, columns=['wait_times'])\n",
    "        to_plot_random['num_muts'] = y\n",
    "        \n",
    "        dfs_to_plot.append(to_plot_random)\n",
    "        \n",
    "    to_plot = pd.concat(dfs_to_plot, ignore_index=True)\n",
    "\n",
    "    \n",
    "    plt.figure(figsize=(12, 12))\n",
    "    sns.set_style('white')\n",
    "\n",
    "    g = sns.FacetGrid(data=to_plot, col = 'num_muts', col_wrap =3,height=2, aspect=1.5,\n",
    "                      sharex=True, sharey=True)\n",
    "\n",
    "    \n",
    "    g.map(sns.histplot, 'wait_times', \n",
    "          element = 'step', bins=20, color=\"#ABABAB\", alpha=0.25,\n",
    "          common_norm = False, stat='probability')\n",
    "\n",
    "    g.set_axis_labels(\"wait time\", \"probability\")\n",
    "    g.set_titles('{col_name} mutations', fontsize=24)\n",
    "    \n",
    "    sns.despine(left=False, bottom=False)\n",
    "    \n",
    "    if filename:\n",
    "        g.savefig(filename, dpi=300, bbox_inches='tight')"
   ]
  },
  {
   "cell_type": "code",
   "execution_count": 80,
   "id": "79c67d59",
   "metadata": {},
   "outputs": [
    {
     "data": {
      "text/plain": [
       "<Figure size 864x864 with 0 Axes>"
      ]
     },
     "metadata": {},
     "output_type": "display_data"
    },
    {
     "data": {
      "image/png": "[encoded data removed]",
      "text/plain": [
       "<Figure size 648x288 with 6 Axes>"
      ]
     },
     "metadata": {},
     "output_type": "display_data"
    }
   ],
   "source": [
    "test_expectation(10, [50, 100, 200, 300, 400,500],  filename = 'plots/fig3_supp_20210515.png')"
   ]
  }
 ],
 "metadata": {
  "kernelspec": {
   "display_name": "ncov-kernel",
   "language": "python",
   "name": "ncov-kernel"
  },
  "language_info": {
   "codemirror_mode": {
    "name": "ipython",
    "version": 3
   },
   "file_extension": ".py",
   "mimetype": "text/x-python",
   "name": "python",
   "nbconvert_exporter": "python",
   "pygments_lexer": "ipython3",
   "version": "3.6.13"
  }
 },
 "nbformat": 4,
 "nbformat_minor": 5
}
