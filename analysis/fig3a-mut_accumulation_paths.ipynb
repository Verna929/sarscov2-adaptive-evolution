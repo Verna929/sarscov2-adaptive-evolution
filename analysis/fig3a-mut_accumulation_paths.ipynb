{
 "cells": [
  {
   "cell_type": "code",
   "execution_count": 6,
   "id": "3e411151",
   "metadata": {},
   "outputs": [],
   "source": [
    "from utils import sars2_genome_info, get_parent, add_syn_mut_attribute, add_mut_accumulation_attr \n",
    "from augur.utils import json_to_tree\n",
    "import matplotlib.pyplot as plt\n",
    "import matplotlib.gridspec as gridspec\n",
    "import seaborn as sns\n",
    "import numpy as np\n",
    "import pandas as pd\n",
    "import requests\n",
    "import math"
   ]
  },
  {
   "cell_type": "markdown",
   "id": "35386a1e",
   "metadata": {},
   "source": [
    "## Figure 3: S1 substitutions are temporally clustered\n",
    "\n",
    "##### Plotting the number of S1 substitutions accumulated at every branch along a path from root to tip of the phylogeny indicates that these mutations show some temporal structure.\n",
    "\n",
    "#### This notebook completes the analysis for Figure 3 A and Figure 2 Supplement 1. "
   ]
  },
  {
   "cell_type": "markdown",
   "id": "71e410d0",
   "metadata": {},
   "source": [
    "Import the tree and convert to Bio Phylo format. This is a time-resolved phylogeny built from 9544 SARS-CoV-2 genomes sampled between December 2019 and May 15, 2021. The tree can be viewed at https://nextstrain.org/groups/blab/ncov/adaptive-evolution/2021-05-15"
   ]
  },
  {
   "cell_type": "code",
   "execution_count": 3,
   "id": "8f4a46bb",
   "metadata": {},
   "outputs": [],
   "source": [
    "tree_url = 'https://nextstrain-blab.s3.amazonaws.com/ncov_adaptive-evolution_2021-05-15.json'\n",
    "\n",
    "tree_json = requests.get(tree_url).json()\n",
    "\n",
    "#Put tree in Bio.Phylo format\n",
    "tree = json_to_tree(tree_json)"
   ]
  },
  {
   "cell_type": "markdown",
   "id": "d25201c9",
   "metadata": {},
   "source": [
    "Get information about genome position and length of each gene "
   ]
  },
  {
   "cell_type": "code",
   "execution_count": 8,
   "id": "cf00fdd1",
   "metadata": {},
   "outputs": [],
   "source": [
    "reference_gene_locations, reference_gene_codon, gene_lengths_aa = sars2_genome_info()"
   ]
  },
  {
   "cell_type": "markdown",
   "id": "30469c3d",
   "metadata": {},
   "source": [
    "Add information about synonymous mutations as an attribute of nodes on the tree"
   ]
  },
  {
   "cell_type": "code",
   "execution_count": 4,
   "id": "a26817cb",
   "metadata": {},
   "outputs": [],
   "source": [
    "tree = add_syn_mut_attribute(tree)"
   ]
  },
  {
   "cell_type": "markdown",
   "id": "67188130",
   "metadata": {},
   "source": [
    "Add an attribute to each node that gives the total number of mutations accumulated between the tree root and that node (including mutations on the node). "
   ]
  },
  {
   "cell_type": "code",
   "execution_count": 7,
   "id": "e16838bf",
   "metadata": {},
   "outputs": [],
   "source": [
    "tree = add_mut_accumulation_attr(tree)"
   ]
  },
  {
   "cell_type": "markdown",
   "id": "b916240d",
   "metadata": {},
   "source": [
    "Trace the path of certain isolates through the tree and store information about mutation accumulation at each branch in the path. \n",
    "\n",
    "Select representative tips from 3 emerging lineages to plot mutation accumulation for Figures 3A and Figure 3 Supplement 2"
   ]
  },
  {
   "cell_type": "code",
   "execution_count": 12,
   "id": "725565ae",
   "metadata": {},
   "outputs": [],
   "source": [
    "nodes_to_plot = {'USA/ME-HETL-J3202/2021': 'B.1.1.7 (Alpha)', \n",
    "                 'Uganda/UG363/2020': 'A.23.1', \n",
    "                 'Bangladesh/BCSIR-JU-03/2021':'B.1.351 (Beta)'}"
   ]
  },
  {
   "cell_type": "code",
   "execution_count": 17,
   "id": "8c0bf9d6",
   "metadata": {},
   "outputs": [],
   "source": [
    "def trace_accumulation_on_path(nodes_to_plot):\n",
    "    \"\"\"\n",
    "    For each specified isolate, trace the path from root to tip \n",
    "    and keep track of mutation accumulation along this path\n",
    "    \"\"\"\n",
    "    \n",
    "    plot_accumulation_s1_mutations = []\n",
    "\n",
    "    for node in tree.find_clades(terminal=True):\n",
    "        \n",
    "        # trace specified isolates\n",
    "        if node.name in nodes_to_plot.keys():\n",
    "            \n",
    "            # get the path through the tree, including this node\n",
    "            node_path = get_parent(tree, node)\n",
    "            \n",
    "            # find the number of mutations and date of each node in the path\n",
    "            for parent in node_path:\n",
    "\n",
    "                num_date = parent.node_attrs['num_date']['value']\n",
    "\n",
    "\n",
    "                s1_mutations = parent.node_attrs[\"s1_accumulation\"]\n",
    "                s2_mutations = parent.node_attrs[\"s2_accumulation\"]\n",
    "                rdrp_mutations = parent.node_attrs[\"rdrp_accumulation\"]\n",
    "                s1_syn_mutations = parent.node_attrs['s1_syn_accumulation']\n",
    "\n",
    "\n",
    "\n",
    "                plot_accumulation_s1_mutations.append({'date': num_date, \n",
    "                                                       'num_s1_mutations': s1_mutations, \n",
    "                                                       'num_s2_mutations': s2_mutations,\n",
    "                                                       'num_rdrp_mutations': rdrp_mutations,\n",
    "                                                       'num_s1_syn_mutations': s1_syn_mutations,\n",
    "                                                       'isolate': node.name})\n",
    "\n",
    "\n",
    "    df = pd.DataFrame(plot_accumulation_s1_mutations)\n",
    "    \n",
    "    return df"
   ]
  },
  {
   "cell_type": "markdown",
   "id": "d4144815",
   "metadata": {},
   "source": [
    "Now plot the accumulation of S1 nonsynonymous, S1 synonymous and RdRp nonsynonymous mutations along one of these paths.\n",
    "\n",
    "This representative path is used in Figure 3A to diagram how wait times are calculated"
   ]
  },
  {
   "cell_type": "code",
   "execution_count": 22,
   "id": "f451db4b",
   "metadata": {},
   "outputs": [],
   "source": [
    "def make_fig_3a(filename=None): \n",
    "    \"\"\"\n",
    "    Plot the accumulation of S1 nonsynonymous, S1 synonymous and \n",
    "    RdRp nonsynonymous mutations for 'USA/ME-HETL-J3202/2021'\n",
    "    \"\"\"\n",
    "    df = trace_accumulation_on_path(nodes_to_plot)\n",
    "    \n",
    "    df_subset = df[df['isolate']=='USA/ME-HETL-J3202/2021']\n",
    "\n",
    "    \n",
    "    fig, (ax1, ax2, ax3) = plt.subplots(1,3, figsize=(16,2), sharey=True)\n",
    "    ax1.set_yticks([0,2,4,6,8,10])\n",
    "\n",
    "    plt.tight_layout()\n",
    "    sns.set_style('white')\n",
    "\n",
    "\n",
    "    ax1 = sns.lineplot(data=df_subset, x='date', y='num_s1_mutations', \n",
    "                 color=\"#4770eb\", ax=ax1, legend=False)\n",
    "    ax1 = sns.scatterplot(data=df_subset, x='date', y='num_s1_mutations', \n",
    "                    color=\"#4770eb\", ax=ax1, legend=False)\n",
    "    \n",
    "    ax2 = sns.lineplot(data=df_subset, x='date', y='num_s1_syn_mutations', \n",
    "                 color=\"#5094e3\", ax=ax2, legend=False)\n",
    "    ax2 = sns.scatterplot(data=df_subset, x='date', y='num_s1_syn_mutations', \n",
    "                    color=\"#5094e3\", ax=ax2, legend=False)\n",
    "\n",
    "    ax3 = sns.lineplot(data=df_subset, x='date', y='num_rdrp_mutations', \n",
    "                 color=\"#ff8c3a\", ax=ax3, legend=False)\n",
    "    ax3 = sns.scatterplot(data=df_subset, x='date', y='num_rdrp_mutations', \n",
    "                    color=\"#ff8c3a\", ax=ax3, legend=False)\n",
    "\n",
    "    ax1.set_title('S1 nonsynonymous', fontsize = 18)\n",
    "    ax1.set_ylabel('Number of \\nmutations', fontsize = 16)\n",
    "    ax1.set_xlabel('')\n",
    "\n",
    "    ax2.set_title('S1 synonymous', fontsize = 18)\n",
    "    ax2.set_ylabel('')\n",
    "    ax2.set_xlabel('')\n",
    "\n",
    "    ax3.set_title('RdRp nonsynonymous', fontsize = 18)\n",
    "    ax3.set_ylabel('')\n",
    "    ax3.set_xlabel('')\n",
    "    \n",
    "    sns.despine(left=False, bottom=False)\n",
    "\n",
    "\n",
    "    for ax in [ax1, ax2, ax3]:\n",
    "        ax.tick_params(axis='y', which='major', labelsize=14)\n",
    "        ax.tick_params(axis='x', which='major', labelsize=10)\n",
    "        ax.ticklabel_format(style='plain', axis='x',useOffset=False)\n",
    "\n",
    "\n",
    "\n",
    "    plt.figtext(-0.03, 0.99, 'A', fontsize=24, fontweight='bold')\n",
    "    \n",
    "    if filename:\n",
    "        fig.savefig(filename, dpi=300, bbox_inches='tight')"
   ]
  },
  {
   "cell_type": "code",
   "execution_count": 30,
   "id": "dcc6dd33",
   "metadata": {},
   "outputs": [
    {
     "data": {
      "image/png": "[encoded data removed]",
      "text/plain": [
       "<Figure size 1152x144 with 3 Axes>"
      ]
     },
     "metadata": {},
     "output_type": "display_data"
    }
   ],
   "source": [
    "make_fig_3a(filename = 'plots/fig3a_20210515.png')"
   ]
  },
  {
   "cell_type": "markdown",
   "id": "498152c7",
   "metadata": {},
   "source": [
    "Plot the S1 nonsynonymous accumulation along 3 representative paths that lead to 3 different emerging lineages.\n",
    "\n",
    "This is Figure 3 Supplement 1"
   ]
  },
  {
   "cell_type": "code",
   "execution_count": 28,
   "id": "5b73bd38",
   "metadata": {},
   "outputs": [],
   "source": [
    "def make_fig_3_supp(filename=None): \n",
    "    \"\"\"\n",
    "    Plot accumulation of S1 substitutions for 3 representative paths. \n",
    "    Label the isolate and emerging lineage it belongs to.\n",
    "    \"\"\"\n",
    "    \n",
    "    df = trace_accumulation_on_path(nodes_to_plot)\n",
    "    \n",
    "    # get a list of all isolate names\n",
    "    isolates = list(nodes_to_plot.keys())\n",
    "\n",
    "\n",
    "    fig, (ax1, ax2, ax3) = plt.subplots(3,1, figsize=(8,4), sharex=True)\n",
    "    sns.set_style('white')\n",
    "#     ax1.set_yticks([0,2,4,6,8,10])\n",
    "    plt.tight_layout()\n",
    "\n",
    "\n",
    "    # plot mutation accumulation over time for each isolate \n",
    "    ax1 = sns.lineplot(data=df[df['isolate']== isolates[0]], x='date', y='num_s1_mutations', \n",
    "                 color=\"#4770eb\", ax=ax1, legend=False)\n",
    "    ax1 = sns.scatterplot(data=df[df['isolate']== isolates[0]], x='date', y='num_s1_mutations', \n",
    "                    color=\"#4770eb\", ax=ax1, legend=False)\n",
    "    ax2 = sns.lineplot(data=df[df['isolate']== isolates[1]], x='date', y='num_s1_mutations', \n",
    "                 color=\"#4770eb\", ax=ax2, legend=False)\n",
    "    ax2 = sns.scatterplot(data=df[df['isolate']== isolates[1]], x='date', y='num_s1_mutations', \n",
    "                    color=\"#4770eb\", ax=ax2, legend=False)\n",
    "    ax3 = sns.lineplot(data=df[df['isolate']== isolates[2]], x='date', y='num_s1_mutations', \n",
    "                 color=\"#4770eb\", ax=ax3, legend=False)\n",
    "    ax3 = sns.scatterplot(data=df[df['isolate']== isolates[2]], x='date', y='num_s1_mutations', \n",
    "                    color=\"#4770eb\", ax=ax3, legend=False)\n",
    "    \n",
    "    \n",
    "    for ax in [ax1, ax2, ax3]:\n",
    "        ax.yaxis.set_major_locator(plt.MultipleLocator(2.0))\n",
    "        ax.tick_params(axis='y', which='major', labelsize=14)\n",
    "        ax.tick_params(axis='x', which='major', labelsize=10)\n",
    "        ax.ticklabel_format(style='plain', axis='x',useOffset=False)\n",
    "        ax.set_ylabel('')\n",
    "\n",
    "    # label the isolate and emerging lineage it belongs to\n",
    "    ax1.annotate(f'{isolates[0]}\\n{nodes_to_plot[isolates[0]]}', xy=(0.7, 0.1),xycoords='axes fraction')\n",
    "    ax2.annotate(f'{isolates[1]}\\n{nodes_to_plot[isolates[1]]}', xy=(0.7, 0.1), xycoords='axes fraction')\n",
    "    ax3.annotate(f'{isolates[2]}\\n{nodes_to_plot[isolates[2]]}', xy=(0.7, 0.1), xycoords='axes fraction')\n",
    "\n",
    "    \n",
    "    ax2.set_ylabel('Number of S1 mutations', fontsize=16)\n",
    "    ax3.set_xlabel('date', fontsize=16)\n",
    "\n",
    "    sns.despine(left=False, bottom=False)\n",
    "\n",
    "\n",
    "\n",
    "    \n",
    "    if filename:\n",
    "        fig.savefig(filename, dpi=300, bbox_inches='tight')"
   ]
  },
  {
   "cell_type": "code",
   "execution_count": 29,
   "id": "7210d661",
   "metadata": {},
   "outputs": [
    {
     "data": {
      "image/png": "[encoded data removed]",
      "text/plain": [
       "<Figure size 576x288 with 3 Axes>"
      ]
     },
     "metadata": {},
     "output_type": "display_data"
    }
   ],
   "source": [
    "make_fig_3_supp(filename='plots/fig3_supp_s1accumulation.png')"
   ]
  }
 ],
 "metadata": {
  "kernelspec": {
   "display_name": "ncov-kernel",
   "language": "python",
   "name": "ncov-kernel"
  },
  "language_info": {
   "codemirror_mode": {
    "name": "ipython",
    "version": 3
   },
   "file_extension": ".py",
   "mimetype": "text/x-python",
   "name": "python",
   "nbconvert_exporter": "python",
   "pygments_lexer": "ipython3",
   "version": "3.6.13"
  }
 },
 "nbformat": 4,
 "nbformat_minor": 5
}
