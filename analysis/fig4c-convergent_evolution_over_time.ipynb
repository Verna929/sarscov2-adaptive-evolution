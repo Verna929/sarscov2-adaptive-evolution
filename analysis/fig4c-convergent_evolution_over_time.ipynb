{
 "cells": [
  {
   "cell_type": "code",
   "execution_count": 8,
   "id": "0bfadcca",
   "metadata": {},
   "outputs": [],
   "source": [
    "from utils_convergence import count_independent_occurrences, convergent_evo_dataframe, mean_rate_on_tree \n",
    "from augur.utils import json_to_tree\n",
    "import matplotlib.pyplot as plt\n",
    "import matplotlib.patches as patches\n",
    "import matplotlib.patches as mpatches\n",
    "from matplotlib.colors import ListedColormap, LinearSegmentedColormap\n",
    "import seaborn as sns\n",
    "import numpy as np\n",
    "import pandas as pd\n",
    "import requests\n",
    "import random\n",
    "import re"
   ]
  },
  {
   "cell_type": "markdown",
   "id": "558c9e7a",
   "metadata": {},
   "source": [
    "## Figure 4: A 3-amino acid deletion in Nsp6 displays convergent evolution and occurs in successful clades\n",
    "\n",
    "##### The relative success of clades containing a given convergently-evolved mutation may fluctuate over time in either due to real biological and epidemiological reasons or stochastically. Mutations that are consistently present in successful clades (over many time points) likely have a real function in driving adaptive evolution.\n",
    "\n",
    "#### This notebook completes the analyses for Figure 4C"
   ]
  },
  {
   "cell_type": "markdown",
   "id": "b620afd1",
   "metadata": {},
   "source": [
    "At a given date, find which mutations appear on internal branches of the phylogeny at least 4 times and record the average growth rates of clades with these mutations, as well as whether this average exceeds the tree-wide average growth rate "
   ]
  },
  {
   "cell_type": "code",
   "execution_count": 2,
   "id": "69a2c8c3",
   "metadata": {},
   "outputs": [],
   "source": [
    "def top_mutations_and_rates(date, mutation_type='aa',  min_occurrences = 4):\n",
    "    \n",
    "    #Download tree json for specified date\n",
    "    tree_url = f\"https://nextstrain-blab.s3.amazonaws.com/ncov_adaptive-evolution_{date}.json\"\n",
    "    tree_json = requests.get(tree_url).json()\n",
    "    #Put tree in Bio.Phylo format\n",
    "    tree = json_to_tree(tree_json)\n",
    "    \n",
    "    #find all mutations that occur on internal branchs and how many times\n",
    "    all_mutations_unique, independent_occurrences_all_mutations = count_independent_occurrences(tree)    \n",
    "    \n",
    "    # make a dataframe with information about number of occurrences and growth rates of each mutation\n",
    "    df = convergent_evo_dataframe(tree, all_mutations_unique, independent_occurrences_all_mutations)\n",
    "    \n",
    "    # take a subset of the data, only including mutations that appear `min_occurrences` of more times\n",
    "    df_zoom = df.loc[df['independent_occurrences']>=min_occurrences].reset_index()\n",
    "    \n",
    "    # find overall average growth rate at this date\n",
    "    mean_growth_rate = mean_rate_on_tree(tree)\n",
    "    df_zoom['overall_avg_growth'] = mean_growth_rate\n",
    "    \n",
    "    # create a column to say whether the average growth rate of clades where \n",
    "    # this mutation occurs is higher than the tree-wide average growth rate (at this time point)\n",
    "    df_zoom['greater_than_average'] = np.where(df_zoom['avg_growth']>df_zoom['overall_avg_growth'], 1.0, 0.5)\n",
    "    df_zoom['greater_than_zero'] =np.where(df_zoom['avg_growth']>0.0, 1.0, 0.5)\n",
    "    \n",
    "    # create a column for the date of the tree\n",
    "    df_zoom['date'] = date\n",
    "\n",
    "    return df_zoom"
   ]
  },
  {
   "cell_type": "markdown",
   "id": "a579b7a9",
   "metadata": {},
   "source": [
    "Create a dataframe containing the information about convergently-evolved mutations collected by the function above, for multiple dates"
   ]
  },
  {
   "cell_type": "code",
   "execution_count": 3,
   "id": "d84b8ccd",
   "metadata": {},
   "outputs": [],
   "source": [
    "def compile_multiple_dates(dates):\n",
    "    \n",
    "    all_dates_info = []\n",
    "    \n",
    "    for date in dates:\n",
    "        all_dates_info.append(top_mutations_and_rates(date))\n",
    "        \n",
    "    df = pd.concat(all_dates_info)\n",
    "    \n",
    "    return df"
   ]
  },
  {
   "cell_type": "markdown",
   "id": "a92b5867",
   "metadata": {},
   "source": [
    "Plot growth rates of convergently-evolved mutations over time"
   ]
  },
  {
   "cell_type": "code",
   "execution_count": 28,
   "id": "c86ea325",
   "metadata": {},
   "outputs": [],
   "source": [
    "def fig4c_plot_dates_exceeding_avg_growth(dates, filename=False):\n",
    "    \n",
    "    df = compile_multiple_dates(dates)\n",
    "    \n",
    "    df = df[['mutation', 'date', 'greater_than_average']].copy()\n",
    "#     df['mutation_label'] = df['mutation'].str.split(':').str[0]+':'+df['mutation'].str.split(':').str[1].str[1:]\n",
    "#     df['mutation_label'] = np.where(df['mutation']=='ORF1a:3675-3677del', \n",
    "#                                     'ORF1a:3675-3677del', \n",
    "#                                     df['mutation_label'])\n",
    "\n",
    "    df = df.pivot(index='mutation', columns='date', values='greater_than_average').fillna(0.0)\n",
    "    df['rank'] = df.sum(axis=1)\n",
    "    \n",
    "    # reorder dataframe to rank consistent mutations highest\n",
    "    ranks = list(df.nlargest(len(df), keep='all', columns='rank').index)\n",
    "    df.index = pd.CategoricalIndex(df.index, categories= ranks)\n",
    "    df.sort_index(level=0, inplace=True)\n",
    "    \n",
    "    df = df.drop('rank', axis=1)\n",
    "    \n",
    "    myColors = ('white', '#F9EAC0', '#ebbc2d')\n",
    "\n",
    "    cmap = LinearSegmentedColormap.from_list('Custom', myColors, len(myColors))\n",
    "\n",
    "    fig, ax = plt.subplots(figsize=(5,10))\n",
    "    plt.tight_layout()\n",
    "    sns.set_style('white')\n",
    "    \n",
    "    ax = sns.heatmap(df, cmap=cmap, cbar=False)\n",
    "\n",
    "    ax.set_ylabel('', fontsize=16)\n",
    "    ax.set_xlabel('', fontsize=16)\n",
    "    \n",
    "    for i in range(len(df) + 1):\n",
    "        ax.axhline(i, color='white', lw=24)\n",
    "\n",
    "    low_growth_rate = mpatches.Patch(color='#F9EAC0', label='convergent evolution only')\n",
    "    high_growth_rate = mpatches.Patch(color='#ebbc2d', label='convergent evolution and high growth rate')\n",
    "\n",
    "    plt.legend(handles=[low_growth_rate, high_growth_rate], \n",
    "               bbox_to_anchor=(0.55, 1.05), loc='upper center')\n",
    "    \n",
    "    ax.tick_params(left=False, bottom=False)\n",
    "    \n",
    "    plt.figtext(-0.15, 1.0, 'C', fontsize=24, fontweight='bold')\n",
    "    if filename:\n",
    "        fig.savefig(filename, dpi=300, bbox_inches='tight')\n",
    "\n"
   ]
  },
  {
   "cell_type": "code",
   "execution_count": 29,
   "id": "64ec9e77",
   "metadata": {},
   "outputs": [
    {
     "data": {
      "image/png": "[encoded data removed]",
      "text/plain": [
       "<Figure size 360x720 with 1 Axes>"
      ]
     },
     "metadata": {},
     "output_type": "display_data"
    }
   ],
   "source": [
    "fig4c_plot_dates_exceeding_avg_growth(['2021-04-15', '2021-05-01', '2021-05-15', \n",
    "                                       '2021-06-01', '2021-06-15'], filename='plots/fig4c_20210515.png')"
   ]
  }
 ],
 "metadata": {
  "kernelspec": {
   "display_name": "ncov-kernel",
   "language": "python",
   "name": "ncov-kernel"
  },
  "language_info": {
   "codemirror_mode": {
    "name": "ipython",
    "version": 3
   },
   "file_extension": ".py",
   "mimetype": "text/x-python",
   "name": "python",
   "nbconvert_exporter": "python",
   "pygments_lexer": "ipython3",
   "version": "3.6.13"
  }
 },
 "nbformat": 4,
 "nbformat_minor": 5
}
