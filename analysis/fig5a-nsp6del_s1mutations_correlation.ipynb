{
 "cells": [
  {
   "cell_type": "code",
   "execution_count": 7,
   "id": "af4c91d7",
   "metadata": {},
   "outputs": [],
   "source": [
    "from utils import add_syn_mut_attribute, add_mut_accumulation_attr, final_pos_genotype, get_parent\n",
    "from utils_convergence import count_independent_occurrences\n",
    "from utils_randomization import get_branch_lengths, randomize_one_mut_on_tree_multinomial\n",
    "from augur.utils import json_to_tree\n",
    "import matplotlib.pyplot as plt\n",
    "import seaborn as sns\n",
    "import numpy as np\n",
    "import pandas as pd\n",
    "from Bio import SeqIO\n",
    "from scipy import stats\n",
    "import matplotlib.gridspec as gridspec\n",
    "from collections import Counter\n",
    "import requests\n",
    "import json"
   ]
  },
  {
   "cell_type": "markdown",
   "id": "ce5b8fe8",
   "metadata": {},
   "source": [
    "## Figure 5: Clades with the 3-amino acid deletion in Nsp6 have a higher number of S1 mutations\n",
    "\n",
    "##### Calculating the average number of S1 substitutions in clades with versus without a convergently-evolved mutation shows that ORF1a:3675-3677del clades have more S1 substitutions\n",
    "\n",
    "#### This notebook completes the analyses for Figures 5 A and Figure 5 Supplement 1. "
   ]
  },
  {
   "cell_type": "markdown",
   "id": "07413df6",
   "metadata": {},
   "source": [
    "Import the tree and convert to Bio Phylo format. This is a time-resolved phylogeny built from 9544 SARS-CoV-2 genomes sampled between December 2019 and May 15, 2021. The tree can be viewed at https://nextstrain.org/groups/blab/ncov/adaptive-evolution/2021-05-15"
   ]
  },
  {
   "cell_type": "code",
   "execution_count": 2,
   "id": "75470b6d",
   "metadata": {},
   "outputs": [],
   "source": [
    "tree_url = 'https://nextstrain-blab.s3.amazonaws.com/ncov_adaptive-evolution_2021-05-15.json'\n",
    "\n",
    "tree_json = requests.get(tree_url).json()\n",
    "\n",
    "#Put tree in Bio.Phylo format\n",
    "tree = json_to_tree(tree_json)"
   ]
  },
  {
   "cell_type": "markdown",
   "id": "13783a73",
   "metadata": {},
   "source": [
    "Add information about synonymous mutations as an attribute of nodes on the tree"
   ]
  },
  {
   "cell_type": "code",
   "execution_count": 3,
   "id": "7f055088",
   "metadata": {},
   "outputs": [],
   "source": [
    "tree = add_syn_mut_attribute(tree)"
   ]
  },
  {
   "cell_type": "markdown",
   "id": "a70c0833",
   "metadata": {},
   "source": [
    "Add an attribute to each node that gives the total number of mutations accumulated between the tree root and that node (including mutations on the node). "
   ]
  },
  {
   "cell_type": "code",
   "execution_count": 4,
   "id": "b7263228",
   "metadata": {},
   "outputs": [],
   "source": [
    "tree = add_mut_accumulation_attr(tree)"
   ]
  },
  {
   "cell_type": "markdown",
   "id": "643f3b28",
   "metadata": {},
   "source": [
    "For each node on the tree, check whether it has the genotype of the convergently-evolved mutations (mutation could have occurred at this node or in a parent, as long as it didn't mutate again). Store this information and S1 and RdRp accumulation numbers in a dataframe"
   ]
  },
  {
   "cell_type": "code",
   "execution_count": 5,
   "id": "929ead6d",
   "metadata": {},
   "outputs": [],
   "source": [
    "# list of tuples describing the convergently-evolved mutations to consider\n",
    "# format is (gene, position, genotype_of_interest)\n",
    "muts_to_consider = [('ORF1a', 3676, '-'), ('ORF1a', 3255, 'I'), ('ORF1a', 3606, 'F'), \n",
    "                    ('N', 205, 'I'), ('N', 194, 'L'), ('N', 234, 'I'), ('M', 82, 'T'), \n",
    "                    ('S', 501, 'Y'), ('S', 484, 'K'), ('S', 452, 'R')]"
   ]
  },
  {
   "cell_type": "code",
   "execution_count": 8,
   "id": "e0b3c3f7",
   "metadata": {},
   "outputs": [],
   "source": [
    "to_plot = []\n",
    "\n",
    "for node in tree.find_clades(terminal=False):\n",
    "    \n",
    "    if len(node.get_terminals()) >=15:\n",
    "        if 'emerging_lineage' in node.node_attrs:\n",
    "            emerging_lineage = node.node_attrs['emerging_lineage']['value']\n",
    "\n",
    "        s1_mutations = node.node_attrs[\"s1_accumulation\"]\n",
    "        rdrp_mutations =  node.node_attrs[\"rdrp_accumulation\"]\n",
    "        date = node.node_attrs[\"num_date\"][\"value\"]\n",
    "\n",
    "        # Find all parents of the node\n",
    "        parents = get_parent(tree, node)\n",
    "        \n",
    "        # initialize dictionary to keep track of whether node has each of the mutations being considered\n",
    "        node_muts = {}\n",
    "        \n",
    "        # consider each mutation\n",
    "        for m in muts_to_consider:\n",
    "            # Make a list of mutations that occur at this site in parents of the node (and at node)\n",
    "            parent_muts_at_site = []\n",
    "            for parent in parents:\n",
    "                if hasattr(parent, \"branch_attrs\") and \"mutations\" in parent.branch_attrs:\n",
    "                    #find specific mutations of interest\n",
    "                    if m[0] in parent.branch_attrs[\"mutations\"]:\n",
    "                        for mut in parent.branch_attrs[\"mutations\"][m[0]]:\n",
    "                            if int(mut[1:-1])==m[1]:\n",
    "                                parent_muts_at_site+=[mut]\n",
    "                            \n",
    "            # find whether the genotype at this position is the mutation being considered\n",
    "            mut_at_site = final_pos_genotype(parent_muts_at_site, m[2])\n",
    "            node_muts[f'{m[0]}:{m[1]}{m[2]}'] = mut_at_site\n",
    "            \n",
    "        to_plot.append({**{'clade': node.name, 's1_mutations': s1_mutations, \n",
    "                           'rdrp_mutations':rdrp_mutations,'emerging_lineage': emerging_lineage, \n",
    "                           'date': date}, \n",
    "                        **node_muts})\n",
    "\n",
    "to_plot_df = pd.DataFrame(to_plot)"
   ]
  },
  {
   "cell_type": "markdown",
   "id": "6852f66b",
   "metadata": {},
   "source": [
    "Find the earliest occurrence of each mutation"
   ]
  },
  {
   "cell_type": "code",
   "execution_count": 9,
   "id": "d9b63c08",
   "metadata": {},
   "outputs": [],
   "source": [
    "#find earliest occurrence of each mutation and limit dataset to that\n",
    "earliest_muts = {('ORF1a','G3676-'): 2022, ('ORF1a','T3255I'): 2022, \n",
    "                 ('ORF1a','L3606F'): 2022, ('N', 'T205I'): 2022, \n",
    "                 ('N', 'S194L'):2022, ('N', 'M234I'):2022, ('M', 'I82T'):2022, \n",
    "                 ('S', 'N501Y'):2022,('S', 'E484K'):2022, ('S', 'L452R'):2022}\n",
    "\n",
    "\n",
    "for gene, mut in earliest_muts.keys():\n",
    "    \n",
    "    for node in tree.find_clades(terminal=False):\n",
    "        if hasattr(node, \"branch_attrs\") and \"mutations\" in parent.branch_attrs:\n",
    "            if gene in node.branch_attrs[\"mutations\"]:\n",
    "                if mut in node.branch_attrs[\"mutations\"][gene]:\n",
    "                    date = node.node_attrs[\"num_date\"][\"value\"]\n",
    "                    if date < earliest_muts[(gene, mut)]:\n",
    "                        earliest_muts[(gene, mut)] = date\n"
   ]
  },
  {
   "cell_type": "markdown",
   "id": "431f411b",
   "metadata": {},
   "source": [
    "Now, restructure datafame to have a column for s1 and rdrp mutation mean with and without each subsitution. The data will be limited to after the first occurrence of this substitution"
   ]
  },
  {
   "cell_type": "code",
   "execution_count": 10,
   "id": "593bd409",
   "metadata": {},
   "outputs": [],
   "source": [
    "with_and_without_muts = []\n",
    "\n",
    "for gene, mut in earliest_muts.keys():\n",
    "    earliest_date = earliest_muts[(gene, mut)]\n",
    "    date_subset_df = to_plot_df[to_plot_df['date']>=earliest_date]\n",
    "    \n",
    "    to_plot_column = f'{gene}:{mut[1:-1]}{mut[-1]}'\n",
    "    \n",
    "    mut_s1 = list(date_subset_df[date_subset_df[to_plot_column]==True]['s1_mutations'])\n",
    "    nomut_s1 = list(date_subset_df[date_subset_df[to_plot_column]==False]['s1_mutations'])\n",
    "    \n",
    "    mut_rdrp = list(date_subset_df[date_subset_df[to_plot_column]==True]['rdrp_mutations'])\n",
    "    nomut_rdrp = list(date_subset_df[date_subset_df[to_plot_column]==False]['rdrp_mutations'])\n",
    "    \n",
    "    # for S1 mutations, don't count themselves as an S1 mutation\n",
    "    # for the convergent S1 mutations, need to subtract 1 from the S1 count \n",
    "    # of all clades that where 'has_mutation'==True\n",
    "    if gene=='S':\n",
    "        fix_count = 1\n",
    "    else:\n",
    "        fix_count = 0\n",
    "    \n",
    "    for d1 in mut_s1:\n",
    "        with_and_without_muts.append({'mutation': to_plot_column, 'has_mutation': True, 's1_mutations': d1-fix_count})\n",
    "    for d2 in nomut_s1:\n",
    "        with_and_without_muts.append({'mutation': to_plot_column, 'has_mutation': False, 's1_mutations': d2})\n",
    "    for d3 in mut_rdrp:\n",
    "        with_and_without_muts.append({'mutation': to_plot_column, 'has_mutation': True, 'rdrp_mutations': d3})\n",
    "    for d4 in nomut_rdrp:\n",
    "        with_and_without_muts.append({'mutation': to_plot_column, 'has_mutation': False, 'rdrp_mutations': d4})\n",
    "    \n",
    "with_and_without_muts_df = pd.DataFrame(with_and_without_muts)"
   ]
  },
  {
   "cell_type": "markdown",
   "id": "d482dc05",
   "metadata": {},
   "source": [
    "Plot the number of S1 and RdRp substitutions in clades that do and do not have each of these mutations.\n",
    "\n",
    "This is Figure 5 Supplement 1"
   ]
  },
  {
   "cell_type": "code",
   "execution_count": 11,
   "id": "7909b45f",
   "metadata": {},
   "outputs": [],
   "source": [
    "def fig5_supp(filename=None):\n",
    "    cmap1 = {False:\"#ABABAB\",True:\"#4770eb\"}\n",
    "    cmap2 = {False:\"#ABABAB\",True:\"#ff8c3a\"}\n",
    "\n",
    "    f = plt.figure(figsize=(10,10))\n",
    "\n",
    "    gs = gridspec.GridSpec(2, 1,height_ratios=[2,1])\n",
    "\n",
    "    ax1 = plt.subplot(gs[0])\n",
    "    ax2 = plt.subplot(gs[1])\n",
    "\n",
    "\n",
    "    ax1 = sns.pointplot(x='mutation', y='s1_mutations', \n",
    "                      hue = 'has_mutation', palette=cmap1,\n",
    "                      dodge = 0.25, join=False, ci='sd', scale=2.0,errwidth=1.5, capsize=0.05,\n",
    "                      data=with_and_without_muts_df, ax=ax1)\n",
    "\n",
    "    ax2 = sns.pointplot(x='mutation', y='rdrp_mutations', \n",
    "                      hue = 'has_mutation', palette=cmap2,\n",
    "                      dodge = 0.25, join=False, ci='sd', scale=2.0, errwidth=1.5, capsize=0.05,\n",
    "                      data=with_and_without_muts_df, ax=ax2)\n",
    "\n",
    "\n",
    "    ax1.set_xlabel('', fontsize = 14)\n",
    "    ax1.set_ylabel('Number of S1 mutations', fontsize = 14)\n",
    "    ax2.set_xlabel('', fontsize = 14)\n",
    "    ax2.set_ylabel('Number of RdRp mutations', fontsize = 14)\n",
    "    ax2.set_ylim(0,4)\n",
    "    ax2.set_yticks([0,2,4])\n",
    "    sns.despine(left=False, bottom=False)\n",
    "\n",
    "    handles1, labels1 = ax1.get_legend_handles_labels()\n",
    "    lgd = ax1.legend(handles1, labels1, title='Has Mutation')\n",
    "\n",
    "    handles2, labels2 = ax2.get_legend_handles_labels()\n",
    "    lgd = ax2.legend(handles2, labels2, title='Has Mutation')\n",
    "\n",
    "    _, xlabels = plt.xticks()\n",
    "    xlabels[0] = 'ORFa1_3675-3677del'\n",
    "    ax1.set_xticklabels('', size = 8, rotation=20)\n",
    "    ax2.set_xticklabels(xlabels, size = 12, rotation=30)\n",
    "    \n",
    "    if filename:\n",
    "        fig.savefig(filename, dpi=300, bbox_inches='tight')\n"
   ]
  },
  {
   "cell_type": "code",
   "execution_count": 12,
   "id": "caa86cd6",
   "metadata": {},
   "outputs": [
    {
     "data": {
      "image/png": "[encoded data removed]",
      "text/plain": [
       "<Figure size 720x720 with 2 Axes>"
      ]
     },
     "metadata": {
      "needs_background": "light"
     },
     "output_type": "display_data"
    }
   ],
   "source": [
    "fig5_supp()"
   ]
  },
  {
   "cell_type": "markdown",
   "id": "7192c4a4",
   "metadata": {},
   "source": [
    "The biggest difference between S1 mutation count with/without a convergently-evolved mutation is for ORF1a:3675-3677del. To test whether this difference is expected for a mutation that occurs as many times as this deletion does, randomize the position of this mutation on the tree"
   ]
  },
  {
   "cell_type": "code",
   "execution_count": 13,
   "id": "2c1312af",
   "metadata": {},
   "outputs": [],
   "source": [
    "all_mutations_unique, independent_occurrences_all_mutations = count_independent_occurrences(tree)\n",
    "# reformat the names of the mutations\n",
    "independent_occurrences_all_mutations = {(k.split(':')[0]+':'+k.split(':')[1][1:]):v for \n",
    "                                         k,v in independent_occurrences_all_mutations.items()}"
   ]
  },
  {
   "cell_type": "code",
   "execution_count": 14,
   "id": "c4566108",
   "metadata": {},
   "outputs": [],
   "source": [
    "def randomize_one_mut_on_tree_multinomial(tree, num_occurrences):\n",
    "    \"\"\"\n",
    "    Given the number of times a mutation occurs on the phylogeny, \n",
    "    randomly throw it on the phylogeny using a multinomial draw. \n",
    "    Return a list of branches with this mutation or return \n",
    "    \"bad_randomization\" if the mutation occurs twice on the same path\n",
    "    \"\"\"\n",
    "    \n",
    "    branch_names, branch_lengths = get_branch_lengths(tree, num_tips=15)\n",
    "    \n",
    "    # multinomial draw to randomize mutations on tree\n",
    "    branch_lengths_normalized = [x/sum(branch_lengths) for x in branch_lengths]\n",
    "\n",
    "    hits = list(np.random.multinomial(num_occurrences, branch_lengths_normalized, size=1))[0]\n",
    "\n",
    "    branchs_with_mut = dict(zip(branch_names, hits))\n",
    "    branchs_with_mut_list = [k for k,v in branchs_with_mut.items() if v!=0]\n",
    "    \n",
    "    parents_of_all_hits = []\n",
    "\n",
    "    for node in tree.find_clades():\n",
    "        if node.name in branchs_with_mut_list:\n",
    "            parents = get_parent(tree, node)[:-1]\n",
    "            parent_names= [p.name for p in parents]\n",
    "            parents_of_all_hits+=parent_names\n",
    "            \n",
    "    for node in tree.find_clades():\n",
    "        if node.name in branchs_with_mut_list:\n",
    "            if node.name in parents_of_all_hits:\n",
    "                branchs_with_mut_list = 'bad_randomization'\n",
    "\n",
    "    return branchs_with_mut_list"
   ]
  },
  {
   "cell_type": "code",
   "execution_count": 15,
   "id": "2138d9b3",
   "metadata": {},
   "outputs": [],
   "source": [
    "def s1_muts_after_random(tree, random_branch_list, mutation):\n",
    "    \"\"\"\n",
    "    Given a list of branches that have the randomized mutation, \n",
    "    find the number of S1 mutations that occur in clades that \n",
    "    do or do not have the random mutation.\n",
    "    \n",
    "    Return a dataframe with the number of S1 and RdRp mutation a clade \n",
    "    has and whether or not it has the randomized mutation\n",
    "    \"\"\"\n",
    "    \n",
    "    random_to_plot = []\n",
    "\n",
    "    for node in tree.find_clades(terminal=False):\n",
    "\n",
    "        if len(node.get_terminals()) >=15:\n",
    "\n",
    "            s1_mutations = node.node_attrs[\"s1_accumulation\"]\n",
    "            rdrp_mutations =  node.node_attrs[\"rdrp_accumulation\"]\n",
    "            date = node.node_attrs[\"num_date\"][\"value\"]\n",
    "\n",
    "\n",
    "            #Find all parents of the node\n",
    "            parents = get_parent(tree, node)\n",
    "\n",
    "            # if parent is one of the randomly chosen branches that has a mutation\n",
    "            if len(parents)>0:\n",
    "                for parent in parents:\n",
    "                    if parent.name in random_branch_list:\n",
    "                        has_random_mutation = True\n",
    "                    else:\n",
    "                        has_random_mutation = False\n",
    "\n",
    "\n",
    "                random_to_plot.append({'clade': node.name,\n",
    "                                       'mutation': f'{mutation}_expected',\n",
    "                                       'has_mutation': has_random_mutation,\n",
    "                                       's1_mutations': s1_mutations, \n",
    "                                       'rdrp_mutations':rdrp_mutations, \n",
    "                                       'date': date})\n",
    "\n",
    "    \n",
    "    return random_to_plot"
   ]
  },
  {
   "cell_type": "code",
   "execution_count": 18,
   "id": "ff930f5c",
   "metadata": {},
   "outputs": [],
   "source": [
    "def expected_s1muts_on_randomized_tree(tree,independent_occurrences, mut, iterations, save_filename):\n",
    "    \"\"\"\n",
    "    Randomization the position of \"mut\" on the tree X=iterations times.\n",
    "    Find the number of S1 mutations in clades that do or do \n",
    "    not have the randomized mutation\n",
    "    \"\"\"\n",
    "    \n",
    "    # find the number of times this mutation occurs on phylogeny\n",
    "    num_occurrences = independent_occurrences[mut]\n",
    "    \n",
    "    mut_s1_stats_dict = {'mutation_s1_stats':[]}\n",
    "    \n",
    "    # run randomizations until there are x='iterations' successful ones\n",
    "    x=0\n",
    "    while x<iterations:\n",
    "        branchs_with_mut_list = randomize_one_mut_on_tree_multinomial(tree, num_occurrences)\n",
    "\n",
    "        if branchs_with_mut_list=='bad_randomization':\n",
    "            pass\n",
    "\n",
    "        else:\n",
    "            x+=1\n",
    "            random_to_plot = s1_muts_after_random(tree, branchs_with_mut_list, mut)\n",
    "            for y in random_to_plot:\n",
    "                mut_s1_stats_dict['mutation_s1_stats'].append(y)\n",
    "\n",
    "            \n",
    "    with open(save_filename, 'w') as outfile:\n",
    "        json.dump(mut_s1_stats_dict, outfile)"
   ]
  },
  {
   "cell_type": "code",
   "execution_count": 27,
   "id": "f1d88e0b",
   "metadata": {},
   "outputs": [],
   "source": [
    "expected_s1muts_on_randomized_tree(tree,independent_occurrences_all_mutations, \n",
    "                                   'ORF1a:3675-', 100, 'randomized_mut_s1_stats/randomized_3676-_s1_100its.json')"
   ]
  },
  {
   "cell_type": "markdown",
   "id": "abcc6a06",
   "metadata": {},
   "source": [
    "The function makes Figure 5A."
   ]
  },
  {
   "cell_type": "code",
   "execution_count": 25,
   "id": "1356e7ca",
   "metadata": {},
   "outputs": [],
   "source": [
    "def fig5a(empirical_df, data_files, filename=False):\n",
    "    \"\"\"\n",
    "    Plot the number of S1 or RdRp mutations in clades that \n",
    "    do or do not have ORF1a:3675-3677del. Compare empirical \n",
    "    data to data from randomized trees \n",
    "    \"\"\"\n",
    "\n",
    "    # initialize dataframe to store information from all .json files where data is stored\n",
    "    randomized_df = pd.DataFrame(columns = ['clade', 'mutation', 'has_mutation', \n",
    "                                            's1_muations', 'rdrp_mutations', 'date'])\n",
    "    \n",
    "    # read data from all randomizations\n",
    "    for data_file in data_files:\n",
    "        with open(data_file) as json_file:\n",
    "            data = json.load(json_file)\n",
    "            temp_df = pd.DataFrame(data['mutation_s1_stats'])\n",
    "            randomized_df = pd.concat([randomized_df, temp_df])\n",
    "            \n",
    "    randomized_df = randomized_df.drop(columns=['clade', 'date'])\n",
    "    empirical_df = empirical_df[empirical_df['mutation']=='ORF1a:3676-']\n",
    "    # merge randomized and empirical data into one dataframe\n",
    "    compare_to_random_df = pd.concat([randomized_df, empirical_df], ignore_index=True)\n",
    "    \n",
    "    cmap1 = {False:\"#ABABAB\",True:\"#4770eb\"}\n",
    "    cmap2 = {False:\"#ABABAB\",True:\"#ff8c3a\"}\n",
    "\n",
    "    f = plt.figure(figsize=(6,8))\n",
    "    sns.set_style('white')\n",
    "\n",
    "    gs = gridspec.GridSpec(2, 1,height_ratios=[2,1])\n",
    "\n",
    "    ax1 = plt.subplot(gs[0])\n",
    "    ax2 = plt.subplot(gs[1])\n",
    "\n",
    "\n",
    "    ax1 = sns.pointplot(x='mutation', y='s1_mutations', \n",
    "                      hue = 'has_mutation', palette=cmap1,\n",
    "                      dodge = 0.25, join=False, ci='sd', scale=1.5,errwidth=1.5, \n",
    "                        capsize=0,\n",
    "                      data=compare_to_random_df, ax=ax1)\n",
    "\n",
    "    ax2 = sns.pointplot(x='mutation', y='rdrp_mutations', \n",
    "                        hue = 'has_mutation', palette=cmap2,\n",
    "                        dodge = 0.25, join=False, ci='sd', scale=1.5, errwidth=1.5, \n",
    "                        capsize=0,\n",
    "                      data=compare_to_random_df, ax=ax2)\n",
    "\n",
    "\n",
    "    ax1.set_xlabel('', fontsize = 14)\n",
    "    ax1.set_ylabel('Number of S1 mutations', fontsize = 12)\n",
    "    ax2.set_xlabel('', fontsize = 14)\n",
    "    ax2.set_ylabel('Number of RdRp mutations', fontsize = 12)\n",
    "    ax2.set_ylim(0,4)\n",
    "    ax2.set_yticks([0,2,4])\n",
    "    sns.despine(left=False, bottom=False)\n",
    "\n",
    "    handles1, labels1 = ax1.get_legend_handles_labels()\n",
    "    lgd = ax1.legend(handles1, labels1, loc='lower right', title='ORF1a:3675-3677del', bbox_to_anchor=(1.1,0))\n",
    "\n",
    "    handles2, labels2 = ax2.get_legend_handles_labels()\n",
    "    lgd = ax2.legend(handles2, labels2, title='ORF1a:3675-3677del', bbox_to_anchor=(1.1,1.0))\n",
    "\n",
    "    _, xlabels = plt.xticks()\n",
    "    xlabels[0] = 'expected'\n",
    "    xlabels[1] = 'observed'\n",
    "    ax1.set_xticklabels('', size = 8, rotation=20)\n",
    "    ax2.set_xticklabels(xlabels, size = 12, rotation=30)\n",
    "    \n",
    "#     ax1.set_title('Clades with ORF1a:3675-3677 deletion', size=14)\n",
    "\n",
    "    plt.figtext(0.04, 0.88, 'A', fontsize=24, fontweight='bold')\n",
    "\n",
    "    if filename:\n",
    "        f.savefig(filename, dpi=300, bbox_inches='tight')\n"
   ]
  },
  {
   "cell_type": "code",
   "execution_count": 28,
   "id": "63b744a3",
   "metadata": {},
   "outputs": [
    {
     "data": {
      "image/png": "[encoded data removed]",
      "text/plain": [
       "<Figure size 432x576 with 2 Axes>"
      ]
     },
     "metadata": {},
     "output_type": "display_data"
    }
   ],
   "source": [
    "fig5a(with_and_without_muts_df, ['randomized_mut_s1_stats/randomized_3676-_s1_100its.json'], \n",
    "      filename='plots/fig5a_20210515.png')"
   ]
  }
 ],
 "metadata": {
  "kernelspec": {
   "display_name": "ncov-kernel",
   "language": "python",
   "name": "ncov-kernel"
  },
  "language_info": {
   "codemirror_mode": {
    "name": "ipython",
    "version": 3
   },
   "file_extension": ".py",
   "mimetype": "text/x-python",
   "name": "python",
   "nbconvert_exporter": "python",
   "pygments_lexer": "ipython3",
   "version": "3.6.13"
  }
 },
 "nbformat": 4,
 "nbformat_minor": 5
}
