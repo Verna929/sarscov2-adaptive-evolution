{
 "cells": [
  {
   "cell_type": "code",
   "execution_count": 38,
   "id": "7bd2fb51",
   "metadata": {},
   "outputs": [],
   "source": [
    "from utils import sars2_genome_info, add_syn_mut_attribute, add_mut_at_node_attr, add_mut_accumulation_attr\n",
    "from utils import get_parent, prune_tree\n",
    "from augur.utils import json_to_tree\n",
    "import matplotlib.pyplot as plt\n",
    "import seaborn as sns\n",
    "import numpy as np\n",
    "import pandas as pd\n",
    "from scipy import stats\n",
    "import matplotlib.gridspec as gridspec\n",
    "from collections import Counter\n",
    "import requests\n",
    "import math"
   ]
  },
  {
   "cell_type": "markdown",
   "id": "33026008",
   "metadata": {},
   "source": [
    "## Figure 5: Clades with the 3-amino acid deletion in Nsp6 have a high number of S1 mutations\n",
    "\n",
    "##### Find the difference between S1 substitutions before and after convergently-evolved mutations. The average increase in S1 substitutions after ORF1a:3675-3677del clades is higher than after other convergently-evolved mutations, except S:681R\n",
    "\n",
    "#### This notebook completes the analyses for Figures 5B ."
   ]
  },
  {
   "cell_type": "markdown",
   "id": "3f22c5ef",
   "metadata": {},
   "source": [
    "Import the tree and convert to Bio Phylo format. This is a time-resolved phylogeny built from 9544 SARS-CoV-2 genomes sampled between December 2019 and May 15, 2021. The tree can be viewed at https://nextstrain.org/groups/blab/ncov/adaptive-evolution/2021-05-15"
   ]
  },
  {
   "cell_type": "code",
   "execution_count": 20,
   "id": "533b6209",
   "metadata": {},
   "outputs": [],
   "source": [
    "tree_url = 'https://nextstrain-blab.s3.amazonaws.com/ncov_adaptive-evolution_2021-05-15.json'\n",
    "\n",
    "tree_json = requests.get(tree_url).json()\n",
    "\n",
    "#Put tree in Bio.Phylo format\n",
    "tree = json_to_tree(tree_json)"
   ]
  },
  {
   "cell_type": "markdown",
   "id": "3b5e1cd1",
   "metadata": {},
   "source": [
    "Get information about genome position and length of each gene "
   ]
  },
  {
   "cell_type": "code",
   "execution_count": 23,
   "id": "45bcacd1",
   "metadata": {},
   "outputs": [],
   "source": [
    "reference_gene_locations, reference_gene_codon, gene_lengths_aa = sars2_genome_info()"
   ]
  },
  {
   "cell_type": "markdown",
   "id": "25595ae6",
   "metadata": {},
   "source": [
    "Add information about synonymous mutations as an attribute of nodes on the tree"
   ]
  },
  {
   "cell_type": "code",
   "execution_count": 24,
   "id": "8449c4fc",
   "metadata": {},
   "outputs": [],
   "source": [
    "tree = add_syn_mut_attribute(tree)"
   ]
  },
  {
   "cell_type": "markdown",
   "id": "06474fcb",
   "metadata": {},
   "source": [
    "Add the number of mutations that occur at a node as an attribute of that node, for all nodes on the tree"
   ]
  },
  {
   "cell_type": "code",
   "execution_count": 25,
   "id": "53b19fce",
   "metadata": {},
   "outputs": [],
   "source": [
    "tree = add_mut_at_node_attr(tree)"
   ]
  },
  {
   "cell_type": "markdown",
   "id": "7a37ea30",
   "metadata": {},
   "source": [
    "Add an attribute to each node that gives the total number of mutations accumulated between the tree root and that node (including mutations on the node). "
   ]
  },
  {
   "cell_type": "code",
   "execution_count": 35,
   "id": "1548a13b",
   "metadata": {},
   "outputs": [],
   "source": [
    "tree = add_mut_accumulation_attr(tree)"
   ]
  },
  {
   "cell_type": "markdown",
   "id": "7c9dad6d",
   "metadata": {},
   "source": [
    "For every occurrence of a convergently-evolved mutation, find the number of S1 mutations that had accumulated by the branch before the mutation."
   ]
  },
  {
   "cell_type": "code",
   "execution_count": 108,
   "id": "90074469",
   "metadata": {},
   "outputs": [],
   "source": [
    "def get_branches_with_muts(gene, mutation, in_s1):\n",
    "    \"\"\"\n",
    "    Find internal branches with the convergently-evolved mutation.\n",
    "    Return a dictionary with the name of this branch, the S1 and \n",
    "    RdRp accumulation before this branch, and the number of S1 (syn \n",
    "    and nonsyn) and RdRp (nonsyn) mutations on this branch\n",
    "    \"\"\"\n",
    "    \n",
    "    mut_history = {}\n",
    "    \n",
    "    for node in tree.find_clades(terminal=False):\n",
    "\n",
    "        if len(node.get_terminals()) >=15:\n",
    "            \n",
    "            # finds branchs with the mutation\n",
    "            if hasattr(node, \"branch_attrs\") and \"mutations\" in node.branch_attrs:\n",
    "                if gene in node.branch_attrs[\"mutations\"]:\n",
    "                    for m in node.branch_attrs[\"mutations\"][gene]:\n",
    "                        if mutation in m:\n",
    "                            # find the number of mutations on this node\n",
    "                            s1_this_node = node.nonsyn_at_node['S1']\n",
    "                            rdrp_this_node = node.nonsyn_at_node['RdRp']\n",
    "                            s1_syn_this_node = node.syn_at_node['S1']\n",
    "                            \n",
    "                            # find the date this mutation occurred and the amount \n",
    "                            # of time between the root and this mutation\n",
    "                            mut_date = node.node_attrs[\"num_date\"][\"value\"]\n",
    "                            start_date = get_parent(tree, node)[0].node_attrs[\"num_date\"][\"value\"]\n",
    "                            time_before_mut = mut_date - start_date\n",
    "\n",
    "                            # find the branch before this mutation and count mutations there\n",
    "                            direct_parent = get_parent(tree, node)[-2]\n",
    "                            s1_before = direct_parent.node_attrs['s1_accumulation']\n",
    "                            rdrp_before = direct_parent.node_attrs['rdrp_accumulation']\n",
    "                            s1_syn_before = direct_parent.node_attrs['s1_syn_accumulation']\n",
    "                            \n",
    "                            # don't count itself as an accumulated mutation\n",
    "                            if in_s1 ==True:\n",
    "                                s1_this_node = s1_this_node-1\n",
    "\n",
    "\n",
    "                            mut_history[node.name] = {'branch_with_mut':node.name, \n",
    "                                                      's1_muts_at_branch': s1_this_node, \n",
    "                                                      'rdrp_muts_at_branch': rdrp_this_node, \n",
    "                                                      's1_syn_muts_at_branch': s1_syn_this_node, \n",
    "                                                      's1_muts_before': s1_before, \n",
    "                                                      'rdrp_muts_before': rdrp_before,\n",
    "                                                      's1_syn_before': s1_syn_before, \n",
    "                                                      'mut_date': mut_date, \n",
    "                                                      'time_before_mut': time_before_mut}\n",
    "    return mut_history   "
   ]
  },
  {
   "cell_type": "markdown",
   "id": "025d5cd2",
   "metadata": {},
   "source": [
    "Then find the S1 mutation accumulation number at the end of every path (but truncate tree at branches with at least 5 descending tips) descending from the mutation. "
   ]
  },
  {
   "cell_type": "code",
   "execution_count": 148,
   "id": "3e620fd8",
   "metadata": {},
   "outputs": [],
   "source": [
    "# list of all \"terminal\" branches on a tree that has been pruned to only have branches with 5 or more desending tips\n",
    "pruned_terminals = prune_tree(tree, 5)"
   ]
  },
  {
   "cell_type": "code",
   "execution_count": 146,
   "id": "22035e15",
   "metadata": {},
   "outputs": [],
   "source": [
    "def num_muts_in_children(gene, mutation, in_s1):\n",
    "    \"\"\"\n",
    "    For each convergently-evolved mutation, find S1 accumulation \n",
    "    on the end of paths descending from the mutation. Truncate the \n",
    "    tree to branches with at least 3 descending tips to avoid \n",
    "    sequencing errors. If the convergently-evolved mutation is in \n",
    "    S1, do not count itself in the mutation total.\n",
    "    \"\"\"\n",
    "    \n",
    "    # dictionary with branches the mutation occurred on and how many \n",
    "    # S1, S1 syn and RdRp mutations were present before\n",
    "    mut_history = get_branches_with_muts(gene, mutation, in_s1)\n",
    "    # list of branches where convergently-evolved mutation occurred\n",
    "    branchs_with_mut = [x for x in mut_history.keys()]\n",
    "    \n",
    "    # initialize dictionary to keep track of the increase in \n",
    "    # S1, S1 syn and RdRp mutation accumulation after specified mutation\n",
    "    mut_increase = {}\n",
    "    \n",
    "    \n",
    "    # for each occurrence\n",
    "    for branch_w_mut in branchs_with_mut:\n",
    "\n",
    "        # initialize list of dictionaries to store node name of path ends, \n",
    "        # and how many S1, S1 syn and RdRp mutations are there\n",
    "        path_ends = []\n",
    "        \n",
    "        # initialize dict to store mutation increases after specified mut\n",
    "        mut_increase_after_occurrence = {'s1':[], 's1_syn':[], 'rdrp': []}\n",
    "        \n",
    "        for node in tree.find_clades(terminal=False):\n",
    "            \n",
    "            # only look at \"terminals\" of pruned tree\n",
    "            if node.name in pruned_terminals:\n",
    "\n",
    "\n",
    "                parents = get_parent(tree, node)[:-1]\n",
    "                parent_names = [p.name for p in parents]\n",
    "                # if branch is a descendent of the specified mutation\n",
    "                if branch_w_mut in parent_names:\n",
    "                    s1_after = node.node_attrs['s1_accumulation']\n",
    "                    rdrp_after = node.node_attrs['rdrp_accumulation']\n",
    "                    s1_syn_after = node.node_attrs['s1_syn_accumulation']\n",
    "                    \n",
    "                    if in_s1 == True:\n",
    "                        s1_after = s1_after - 1\n",
    "\n",
    "                    path_ends.append({'name': node.name, \n",
    "                                      's1_after': s1_after,\n",
    "                                      'rdrp_after': rdrp_after,\n",
    "                                      's1_syn_after': s1_syn_after, \n",
    "                                      'descending_tips': len(node.get_terminals())})\n",
    "                    # find the increase in mutation count after\n",
    "                    # want to subtract muts before the mutation and muts on the same branch \n",
    "                    s1_before = mut_history[branch_w_mut]['s1_muts_before']+mut_history[branch_w_mut]['s1_muts_at_branch']\n",
    "                    s1_increase = s1_after-s1_before\n",
    "                    mut_increase_after_occurrence['s1'].append(s1_increase)\n",
    "                    rdrp_before = mut_history[branch_w_mut]['rdrp_muts_before']+mut_history[branch_w_mut]['rdrp_muts_at_branch']\n",
    "                    rdrp_increase = rdrp_after-rdrp_before\n",
    "                    mut_increase_after_occurrence['rdrp'].append(rdrp_increase)\n",
    "                    s1_syn_before = mut_history[branch_w_mut]['s1_syn_before']+mut_history[branch_w_mut]['s1_syn_muts_at_branch']\n",
    "                    s1_syn_increase = s1_syn_after-s1_syn_before\n",
    "                    mut_increase_after_occurrence['s1_syn'].append(s1_syn_increase)\n",
    "                    \n",
    "                    \n",
    "        # add information about end mutation accumulation to mut_history dict\n",
    "        mut_history[branch_w_mut]['s1_muts_after'] = path_ends\n",
    "        \n",
    "        # add information about mutation increase after specified mutation\n",
    "        mut_increase[branch_w_mut] = mut_increase_after_occurrence\n",
    "\n",
    "\n",
    "\n",
    "    return mut_history, mut_increase"
   ]
  },
  {
   "cell_type": "code",
   "execution_count": 118,
   "id": "069505e6",
   "metadata": {},
   "outputs": [],
   "source": [
    "def fig5b(list_of_muts, filename=None):\n",
    "    \"\"\"\n",
    "    For each convergently-evolved mutation, plot the difference in the \n",
    "    number of S1 mutations before and after \n",
    "    \"\"\"\n",
    "\n",
    "    to_plot_diffs = []\n",
    "\n",
    "    for m in list_of_muts:\n",
    "        gene = m.split(':')[0]\n",
    "        # the only S muts considered are in S1\n",
    "        if gene == 'S':\n",
    "            in_s1 = True\n",
    "        else:\n",
    "            in_s1 = False\n",
    "\n",
    "        mutation = m.split(':')[1]\n",
    "        \n",
    "        if m=='ORF1a:3675-':\n",
    "            m_label = 'ORF1a:3675-3677del'\n",
    "        else:\n",
    "            m_label = m\n",
    "        \n",
    "        # find info about mutation increase after each occurrence\n",
    "        mut_history, mut_increase = num_muts_in_children(gene, mutation, in_s1)\n",
    "        \n",
    "        # make a tidy dataframe where each row is the difference in a category of muations at the end of a path\n",
    "        for k,v in mut_increase.items():\n",
    "            for loc, diffs in v.items():\n",
    "                for diff in diffs:\n",
    "                    to_plot_diffs.append({'gene': gene, 'mutation': m_label, \n",
    "                                          'accumulation_location': loc, 'difference': diff})\n",
    "            \n",
    "    to_plot_diffs_df = pd.DataFrame(to_plot_diffs)\n",
    "    \n",
    "    # initialize figure\n",
    "    fig, ax = plt.subplots(figsize=(8,8))\n",
    "    sns.set_style('white')\n",
    "\n",
    "    cmap = {'s1':\"#4770eb\", 'rdrp': \"#ff8c3a\", 's1_syn':\"#a7c9f1\"}\n",
    "    \n",
    "    # order mutations for plotting by which has the largest increase in S1 accumulation\n",
    "    mutation_ranks = to_plot_diffs_df[to_plot_diffs_df['accumulation_location']=='s1'\n",
    "                                     ].groupby('mutation')['difference'].mean().rank(ascending=False).to_dict()\n",
    "    ranked_mutations = [k for k, v in sorted(mutation_ranks.items(), key=lambda item: item[1])]\n",
    "    \n",
    "    # plot the difference in S1, S1 syn and RdRp mutations after the convergently-evolved mutation\n",
    "    # group data by the convergently-evolved mutation being considered\n",
    "    # color points by accumulated mutation type\n",
    "    ax = sns.pointplot(x='mutation', y='difference', data=to_plot_diffs_df, \n",
    "                       hue='accumulation_location',palette=cmap, order= ranked_mutations, \n",
    "                       hue_order=['s1', 's1_syn', 'rdrp'],\n",
    "                       join=False, dodge=True, ax=ax, scale=1.5, errwidth=1.5)\n",
    "\n",
    "    ax.set_ylabel('Mean increase in mutations after specified event', fontsize = 14)\n",
    "    ax.set_xlabel('Event', fontsize = 14)\n",
    "\n",
    "\n",
    "    handles, labels = ax.get_legend_handles_labels()\n",
    "    lgd = ax.legend(handles, ['S1', 'S1 syn', 'RdRp'], loc='upper center', bbox_to_anchor=(0.85, 0.95), \n",
    "                     title = 'Mutations')\n",
    "    \n",
    "\n",
    "    plt.xticks(rotation=40, va='top', ha='right')\n",
    "\n",
    "    sns.despine(left=False, bottom=False)\n",
    "    \n",
    "    plt.figtext(0.03, 0.88, 'B', fontsize=24, fontweight='bold')\n",
    "    \n",
    "    if filename: \n",
    "        fig.savefig(filename, dpi=300, bbox_inches='tight')\n"
   ]
  },
  {
   "cell_type": "code",
   "execution_count": 151,
   "id": "d9606518",
   "metadata": {},
   "outputs": [
    {
     "data": {
      "image/png": "[encoded data removed]",
      "text/plain": [
       "<Figure size 576x576 with 1 Axes>"
      ]
     },
     "metadata": {},
     "output_type": "display_data"
    }
   ],
   "source": [
    "# 5, on branch and after\n",
    "fig5b(['ORF1a:3675-', 'ORF1a:3606F', 'ORF1a:3255I','S:501Y', 'S:95I', 'S:18F', \n",
    "       'S:484K', 'S:452R', 'S:681R', 'N:234I' ], filename='plots/fig5b_20210515.png')"
   ]
  }
 ],
 "metadata": {
  "kernelspec": {
   "display_name": "ncov-kernel",
   "language": "python",
   "name": "ncov-kernel"
  },
  "language_info": {
   "codemirror_mode": {
    "name": "ipython",
    "version": 3
   },
   "file_extension": ".py",
   "mimetype": "text/x-python",
   "name": "python",
   "nbconvert_exporter": "python",
   "pygments_lexer": "ipython3",
   "version": "3.6.13"
  }
 },
 "nbformat": 4,
 "nbformat_minor": 5
}
