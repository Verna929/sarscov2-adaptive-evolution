{
 "cells": [
  {
   "cell_type": "code",
   "execution_count": 104,
   "id": "af4c91d7",
   "metadata": {},
   "outputs": [],
   "source": [
    "from augur.utils import json_to_tree\n",
    "import matplotlib.pyplot as plt\n",
    "import seaborn as sns\n",
    "import numpy as np\n",
    "import pandas as pd\n",
    "from Bio import SeqIO\n",
    "from Bio.Seq import Seq\n",
    "from Bio.Seq import MutableSeq\n",
    "from scipy import stats\n",
    "import matplotlib.gridspec as gridspec\n",
    "from collections import Counter\n",
    "import requests\n",
    "import math"
   ]
  },
  {
   "cell_type": "markdown",
   "id": "07413df6",
   "metadata": {},
   "source": [
    "Find whether there is a correlation between nsp6 deletion (3675-3677) and a higher number of S1 mutations"
   ]
  },
  {
   "cell_type": "code",
   "execution_count": 105,
   "id": "7f08141d",
   "metadata": {},
   "outputs": [
    {
     "ename": "JSONDecodeError",
     "evalue": "Expecting value: line 1 column 1 (char 0)",
     "output_type": "error",
     "traceback": [
      "\u001b[0;31m---------------------------------------------------------------------------\u001b[0m",
      "\u001b[0;31mJSONDecodeError\u001b[0m                           Traceback (most recent call last)",
      "\u001b[0;32m<ipython-input-105-40e2e1fd781e>\u001b[0m in \u001b[0;36m<module>\u001b[0;34m\u001b[0m\n\u001b[1;32m      2\u001b[0m \u001b[0mtree_url\u001b[0m \u001b[0;34m=\u001b[0m \u001b[0;34m\"https://data.nextstrain.org/ncov_global.json\"\u001b[0m\u001b[0;34m\u001b[0m\u001b[0;34m\u001b[0m\u001b[0m\n\u001b[1;32m      3\u001b[0m \u001b[0;34m\u001b[0m\u001b[0m\n\u001b[0;32m----> 4\u001b[0;31m \u001b[0mtree_json\u001b[0m \u001b[0;34m=\u001b[0m \u001b[0mrequests\u001b[0m\u001b[0;34m.\u001b[0m\u001b[0mget\u001b[0m\u001b[0;34m(\u001b[0m\u001b[0mtree_url\u001b[0m\u001b[0;34m)\u001b[0m\u001b[0;34m.\u001b[0m\u001b[0mjson\u001b[0m\u001b[0;34m(\u001b[0m\u001b[0;34m)\u001b[0m\u001b[0;34m\u001b[0m\u001b[0;34m\u001b[0m\u001b[0m\n\u001b[0m\u001b[1;32m      5\u001b[0m \u001b[0;34m\u001b[0m\u001b[0m\n\u001b[1;32m      6\u001b[0m \u001b[0;31m#Put tree in Bio.Phylo format\u001b[0m\u001b[0;34m\u001b[0m\u001b[0;34m\u001b[0m\u001b[0;34m\u001b[0m\u001b[0m\n",
      "\u001b[0;32m~/anaconda3/envs/nextstrain/lib/python3.6/site-packages/requests/models.py\u001b[0m in \u001b[0;36mjson\u001b[0;34m(self, **kwargs)\u001b[0m\n\u001b[1;32m    896\u001b[0m                     \u001b[0;31m# used.\u001b[0m\u001b[0;34m\u001b[0m\u001b[0;34m\u001b[0m\u001b[0;34m\u001b[0m\u001b[0m\n\u001b[1;32m    897\u001b[0m                     \u001b[0;32mpass\u001b[0m\u001b[0;34m\u001b[0m\u001b[0;34m\u001b[0m\u001b[0m\n\u001b[0;32m--> 898\u001b[0;31m         \u001b[0;32mreturn\u001b[0m \u001b[0mcomplexjson\u001b[0m\u001b[0;34m.\u001b[0m\u001b[0mloads\u001b[0m\u001b[0;34m(\u001b[0m\u001b[0mself\u001b[0m\u001b[0;34m.\u001b[0m\u001b[0mtext\u001b[0m\u001b[0;34m,\u001b[0m \u001b[0;34m**\u001b[0m\u001b[0mkwargs\u001b[0m\u001b[0;34m)\u001b[0m\u001b[0;34m\u001b[0m\u001b[0;34m\u001b[0m\u001b[0m\n\u001b[0m\u001b[1;32m    899\u001b[0m \u001b[0;34m\u001b[0m\u001b[0m\n\u001b[1;32m    900\u001b[0m     \u001b[0;34m@\u001b[0m\u001b[0mproperty\u001b[0m\u001b[0;34m\u001b[0m\u001b[0;34m\u001b[0m\u001b[0m\n",
      "\u001b[0;32m~/anaconda3/envs/nextstrain/lib/python3.6/json/__init__.py\u001b[0m in \u001b[0;36mloads\u001b[0;34m(s, encoding, cls, object_hook, parse_float, parse_int, parse_constant, object_pairs_hook, **kw)\u001b[0m\n\u001b[1;32m    352\u001b[0m             \u001b[0mparse_int\u001b[0m \u001b[0;32mis\u001b[0m \u001b[0;32mNone\u001b[0m \u001b[0;32mand\u001b[0m \u001b[0mparse_float\u001b[0m \u001b[0;32mis\u001b[0m \u001b[0;32mNone\u001b[0m \u001b[0;32mand\u001b[0m\u001b[0;34m\u001b[0m\u001b[0;34m\u001b[0m\u001b[0m\n\u001b[1;32m    353\u001b[0m             parse_constant is None and object_pairs_hook is None and not kw):\n\u001b[0;32m--> 354\u001b[0;31m         \u001b[0;32mreturn\u001b[0m \u001b[0m_default_decoder\u001b[0m\u001b[0;34m.\u001b[0m\u001b[0mdecode\u001b[0m\u001b[0;34m(\u001b[0m\u001b[0ms\u001b[0m\u001b[0;34m)\u001b[0m\u001b[0;34m\u001b[0m\u001b[0;34m\u001b[0m\u001b[0m\n\u001b[0m\u001b[1;32m    355\u001b[0m     \u001b[0;32mif\u001b[0m \u001b[0mcls\u001b[0m \u001b[0;32mis\u001b[0m \u001b[0;32mNone\u001b[0m\u001b[0;34m:\u001b[0m\u001b[0;34m\u001b[0m\u001b[0;34m\u001b[0m\u001b[0m\n\u001b[1;32m    356\u001b[0m         \u001b[0mcls\u001b[0m \u001b[0;34m=\u001b[0m \u001b[0mJSONDecoder\u001b[0m\u001b[0;34m\u001b[0m\u001b[0;34m\u001b[0m\u001b[0m\n",
      "\u001b[0;32m~/anaconda3/envs/nextstrain/lib/python3.6/json/decoder.py\u001b[0m in \u001b[0;36mdecode\u001b[0;34m(self, s, _w)\u001b[0m\n\u001b[1;32m    337\u001b[0m \u001b[0;34m\u001b[0m\u001b[0m\n\u001b[1;32m    338\u001b[0m         \"\"\"\n\u001b[0;32m--> 339\u001b[0;31m         \u001b[0mobj\u001b[0m\u001b[0;34m,\u001b[0m \u001b[0mend\u001b[0m \u001b[0;34m=\u001b[0m \u001b[0mself\u001b[0m\u001b[0;34m.\u001b[0m\u001b[0mraw_decode\u001b[0m\u001b[0;34m(\u001b[0m\u001b[0ms\u001b[0m\u001b[0;34m,\u001b[0m \u001b[0midx\u001b[0m\u001b[0;34m=\u001b[0m\u001b[0m_w\u001b[0m\u001b[0;34m(\u001b[0m\u001b[0ms\u001b[0m\u001b[0;34m,\u001b[0m \u001b[0;36m0\u001b[0m\u001b[0;34m)\u001b[0m\u001b[0;34m.\u001b[0m\u001b[0mend\u001b[0m\u001b[0;34m(\u001b[0m\u001b[0;34m)\u001b[0m\u001b[0;34m)\u001b[0m\u001b[0;34m\u001b[0m\u001b[0;34m\u001b[0m\u001b[0m\n\u001b[0m\u001b[1;32m    340\u001b[0m         \u001b[0mend\u001b[0m \u001b[0;34m=\u001b[0m \u001b[0m_w\u001b[0m\u001b[0;34m(\u001b[0m\u001b[0ms\u001b[0m\u001b[0;34m,\u001b[0m \u001b[0mend\u001b[0m\u001b[0;34m)\u001b[0m\u001b[0;34m.\u001b[0m\u001b[0mend\u001b[0m\u001b[0;34m(\u001b[0m\u001b[0;34m)\u001b[0m\u001b[0;34m\u001b[0m\u001b[0;34m\u001b[0m\u001b[0m\n\u001b[1;32m    341\u001b[0m         \u001b[0;32mif\u001b[0m \u001b[0mend\u001b[0m \u001b[0;34m!=\u001b[0m \u001b[0mlen\u001b[0m\u001b[0;34m(\u001b[0m\u001b[0ms\u001b[0m\u001b[0;34m)\u001b[0m\u001b[0;34m:\u001b[0m\u001b[0;34m\u001b[0m\u001b[0;34m\u001b[0m\u001b[0m\n",
      "\u001b[0;32m~/anaconda3/envs/nextstrain/lib/python3.6/json/decoder.py\u001b[0m in \u001b[0;36mraw_decode\u001b[0;34m(self, s, idx)\u001b[0m\n\u001b[1;32m    355\u001b[0m             \u001b[0mobj\u001b[0m\u001b[0;34m,\u001b[0m \u001b[0mend\u001b[0m \u001b[0;34m=\u001b[0m \u001b[0mself\u001b[0m\u001b[0;34m.\u001b[0m\u001b[0mscan_once\u001b[0m\u001b[0;34m(\u001b[0m\u001b[0ms\u001b[0m\u001b[0;34m,\u001b[0m \u001b[0midx\u001b[0m\u001b[0;34m)\u001b[0m\u001b[0;34m\u001b[0m\u001b[0;34m\u001b[0m\u001b[0m\n\u001b[1;32m    356\u001b[0m         \u001b[0;32mexcept\u001b[0m \u001b[0mStopIteration\u001b[0m \u001b[0;32mas\u001b[0m \u001b[0merr\u001b[0m\u001b[0;34m:\u001b[0m\u001b[0;34m\u001b[0m\u001b[0;34m\u001b[0m\u001b[0m\n\u001b[0;32m--> 357\u001b[0;31m             \u001b[0;32mraise\u001b[0m \u001b[0mJSONDecodeError\u001b[0m\u001b[0;34m(\u001b[0m\u001b[0;34m\"Expecting value\"\u001b[0m\u001b[0;34m,\u001b[0m \u001b[0ms\u001b[0m\u001b[0;34m,\u001b[0m \u001b[0merr\u001b[0m\u001b[0;34m.\u001b[0m\u001b[0mvalue\u001b[0m\u001b[0;34m)\u001b[0m \u001b[0;32mfrom\u001b[0m \u001b[0;32mNone\u001b[0m\u001b[0;34m\u001b[0m\u001b[0;34m\u001b[0m\u001b[0m\n\u001b[0m\u001b[1;32m    358\u001b[0m         \u001b[0;32mreturn\u001b[0m \u001b[0mobj\u001b[0m\u001b[0;34m,\u001b[0m \u001b[0mend\u001b[0m\u001b[0;34m\u001b[0m\u001b[0;34m\u001b[0m\u001b[0m\n",
      "\u001b[0;31mJSONDecodeError\u001b[0m: Expecting value: line 1 column 1 (char 0)"
     ]
    }
   ],
   "source": [
    "#Download tree json\n",
    "tree_url = \"https://data.nextstrain.org/ncov_global.json\"\n",
    "\n",
    "tree_json = requests.get(tree_url).json()\n",
    "\n",
    "#Put tree in Bio.Phylo format\n",
    "tree = json_to_tree(tree_json)"
   ]
  },
  {
   "cell_type": "code",
   "execution_count": 18,
   "id": "44c6a06c",
   "metadata": {},
   "outputs": [
    {
     "name": "stderr",
     "output_type": "stream",
     "text": [
      "/Users/katekistler/anaconda3/envs/nextstrain/lib/python3.6/site-packages/Bio/Seq.py:2859: BiopythonWarning: Partial codon, len(sequence) not a multiple of three. Explicitly trim the sequence or add trailing N before translation. This may become an error in future.\n",
      "  BiopythonWarning,\n"
     ]
    }
   ],
   "source": [
    "# make dictionary with gene name as key and reference sequence of that gene as value\n",
    "reference_sequence_aa = {}\n",
    "reference_sequence_nt = {}\n",
    "\n",
    "\n",
    "# make dictionary giving gene by genomic location \n",
    "reference_gene_locations = {}\n",
    "\n",
    "# make dictionary saying what codon within the gene a certain genomic location falls within\n",
    "# and whether the mutation is at pos 0, 1 or 2 within codon\n",
    "reference_gene_codon = {}\n",
    "\n",
    "for record in SeqIO.parse(open(\"reference_seq_edited.gb\",\"r\"), \"genbank\"):\n",
    "    genome_seq = record.seq\n",
    "    for feature in record.features:\n",
    "        if feature.type == 'CDS':\n",
    "            # allow RdRp to overwrite Orf1a and Orf1b, \n",
    "            # to take care of changed reading frame due to  ribosome slippage\n",
    "            # S1 and S2 will also overwrite spike\n",
    "            for pos in range(int(feature.location.start), int(feature.location.end)):\n",
    "                reference_gene_locations[pos] = feature.qualifiers['gene'][0]\n",
    "                codon_num = math.floor((pos-feature.location.start)/3)\n",
    "                pos_in_codon = ((pos-feature.location.start)-codon_num*3)\n",
    "                reference_gene_codon[pos] = (codon_num, pos_in_codon)\n",
    "                \n",
    "            gene_seq = feature.location.extract(record.seq)\n",
    "            reference_sequence_nt[feature.qualifiers['gene'][0]] = gene_seq\n",
    "            gene_seq_aa = gene_seq.translate()\n",
    "            reference_sequence_aa[feature.qualifiers['gene'][0]] = gene_seq_aa"
   ]
  },
  {
   "cell_type": "code",
   "execution_count": 19,
   "id": "915c6b29",
   "metadata": {},
   "outputs": [],
   "source": [
    "def nuc_changes_from_reference(muts_on_path):\n",
    "    \"\"\"\n",
    "    From all the of the nucleotide changes that have occurred on the path from root to branch, \n",
    "    find the most recent nuc mutation at each site (giving the genotype at the branch)\n",
    "    \"\"\"\n",
    "    \n",
    "    final_muts_from_ref = {}\n",
    "\n",
    "    # overwrites genotypes at pos in historical order\n",
    "    for x in muts_on_path:\n",
    "        x_pos = int(x[1:-1])\n",
    "        final_muts_from_ref[x_pos] = x[-1]\n",
    "        \n",
    "\n",
    "    return final_muts_from_ref"
   ]
  },
  {
   "cell_type": "code",
   "execution_count": 20,
   "id": "c516e2a4",
   "metadata": {},
   "outputs": [],
   "source": [
    "def determine_synonymous(nuc_muts_on_branch, parent_diffs_from_ref):\n",
    "    \n",
    "    parent_diffs_pos = [int(k) for k,v in parent_diffs_from_ref.items()]\n",
    "\n",
    "    \n",
    "    # make dictionary of synonymous (and noncoding) mutations to add to tree\n",
    "    syn_muts = {}\n",
    "    \n",
    "    # don't care about deletions because they are obviously not synonymous\n",
    "    for mut in nuc_muts_on_branch:\n",
    "        if mut[-1]!= '-' and mut[0]!='-':\n",
    "            mut_pos = int(mut[1:-1])\n",
    "            # find what gene this mut happens in\n",
    "            if (mut_pos-1) in reference_gene_locations.keys():\n",
    "                mut_gene = reference_gene_locations[mut_pos-1]\n",
    "                mut_codon_num = reference_gene_codon[mut_pos-1][0]\n",
    "                mut_codon_pos = reference_gene_codon[mut_pos-1][1]\n",
    "                \n",
    "                # find the reference sequence of the codon this mutation occurs in\n",
    "                codon_ref_aa = reference_sequence_aa[mut_gene][mut_codon_num]\n",
    "                \n",
    "                codon_ref_nt = reference_sequence_nt[mut_gene][(mut_codon_num*3):(mut_codon_num*3+3)]\n",
    "                \n",
    "                # check if a mutation occurred within the same codon in a parent\n",
    "                # and if so, change the reference codon sequence accordingly, \n",
    "                # to tell whether the mutation at this branch is synonymous or not\n",
    "                codon_genome_pos = list(range((mut_pos-1-mut_codon_pos),(mut_pos-1-mut_codon_pos+3)))\n",
    "                \n",
    "                parent_codon = codon_ref_nt\n",
    "                for parent_diff in parent_diffs_pos:\n",
    "                    parent_diff_zero_based = parent_diff-1\n",
    "                    if parent_diff_zero_based in codon_genome_pos:\n",
    "                        parent_diff_pos = codon_genome_pos.index(parent_diff_zero_based)\n",
    "                        parent_codon = MutableSeq(str(codon_ref_nt))\n",
    "                        parent_codon[parent_diff_pos] = parent_diffs_from_ref[parent_diff]\n",
    "                        parent_codon = parent_codon.toseq()\n",
    "                \n",
    "                \n",
    "                codon_mutated = MutableSeq(str(parent_codon))\n",
    "                codon_mutated[mut_codon_pos] = mut[-1]\n",
    "                codon_mutated = codon_mutated.toseq()\n",
    "                codon_mutated_translation = codon_mutated.translate()\n",
    "                \n",
    "                if str(codon_ref_aa) == str(codon_mutated_translation):\n",
    "                    if mut_gene in syn_muts.keys():\n",
    "                        syn_muts[mut_gene] += [mut]\n",
    "                    else:\n",
    "                        syn_muts[mut_gene] = [mut]\n",
    "                        \n",
    "                \n",
    "\n",
    "            else:\n",
    "                if 'noncoding' in syn_muts.keys():\n",
    "                    syn_muts['noncoding'] += [mut]\n",
    "                else:\n",
    "                    syn_muts['noncoding'] = [mut]\n",
    "                    \n",
    "    return syn_muts"
   ]
  },
  {
   "cell_type": "code",
   "execution_count": 21,
   "id": "2bce86f3",
   "metadata": {},
   "outputs": [],
   "source": [
    "def add_syn_mut_attribute(tree):\n",
    "    \n",
    "    for node in tree.find_clades():\n",
    "\n",
    "        node.node_attrs['syn_muts'] = {}\n",
    "\n",
    "        # only care if this branch has some nucleotide mutations\n",
    "        if hasattr(node, 'branch_attrs'):\n",
    "            if 'nuc' in node.branch_attrs['mutations']:\n",
    "\n",
    "                nuc_muts_on_branch = node.branch_attrs['mutations']['nuc']\n",
    "\n",
    "                node_path = get_parent(tree, node)\n",
    "\n",
    "                nucleotide_mut_path = []\n",
    "\n",
    "                # find all nucleotide mutations that happened in parents, \n",
    "                # in case they affect codons mutated on this branch\n",
    "                for parent in node_path[-1]:\n",
    "                    if hasattr(parent, 'branch_attrs'):\n",
    "                        if 'nuc' in parent.branch_attrs['mutations']:\n",
    "                            nucleotide_mut_path+=parent.branch_attrs['mutations']['nuc']\n",
    "\n",
    "                parent_diffs_from_ref = nuc_changes_from_reference(nucleotide_mut_path)\n",
    "\n",
    "                syn_muts_dict = determine_synonymous(nuc_muts_on_branch, parent_diffs_from_ref)\n",
    "\n",
    "                node.node_attrs['syn_muts'] = syn_muts_dict\n"
   ]
  },
  {
   "cell_type": "code",
   "execution_count": 25,
   "id": "6260bf2d",
   "metadata": {},
   "outputs": [],
   "source": [
    "add_syn_mut_attribute(tree)"
   ]
  },
  {
   "cell_type": "code",
   "execution_count": 27,
   "id": "ace7572b",
   "metadata": {},
   "outputs": [],
   "source": [
    "def consolidate_deletions(mutation_list):\n",
    "    \"\"\"\n",
    "    For deletion mutations, consider adjacent sites as part of the same deletion\n",
    "    \"\"\"\n",
    "    \n",
    "    without_deletions = [x for x in mutation_list if x[-1]!='-' and x[0]!='-']\n",
    "    #consolidate deletions and reversions\n",
    "    deletions_only = [x for x in mutation_list if x[-1]=='-' or x[0]=='-']\n",
    "    deletions_only.sort(key=lambda x:x[1:-1])\n",
    "    \n",
    "    \n",
    "    #keep track of start of separate deletions\n",
    "    separate_deletions = []\n",
    "\n",
    "    # if there are deletions, count a run of consecutive sites as a single deletion/mutation\n",
    "    if len(deletions_only) != 0:\n",
    "        separate_deletions.append(deletions_only[0])\n",
    "\n",
    "        deletion_tracker = int(deletions_only[0][1:-1])\n",
    "        \n",
    "        for deletion in deletions_only[1:]:\n",
    "\n",
    "            deleted_pos = int(deletion[1:-1])\n",
    "            if deleted_pos == deletion_tracker+1:\n",
    "                pass\n",
    "            else:\n",
    "                separate_deletions.append(deletion)\n",
    "            deletion_tracker = deleted_pos\n",
    "    \n",
    "    consolidated_mutation_list = separate_deletions + without_deletions\n",
    "            \n",
    "    return consolidated_mutation_list"
   ]
  },
  {
   "cell_type": "code",
   "execution_count": 28,
   "id": "d24dda3b",
   "metadata": {},
   "outputs": [],
   "source": [
    "\n",
    "for node in tree.find_clades(terminal=False):\n",
    "\n",
    "    node.s1_nonsyn_at_node = 0\n",
    "    node.s1_syn_at_node = 0\n",
    "    node.rdrp_nonsyn_at_node = 0\n",
    "\n",
    "    if hasattr(node, \"node_attrs\") and 'S1' in node.node_attrs['syn_muts']:\n",
    "        node.s1_syn_at_node = len(node.node_attrs['syn_muts']['S1'])\n",
    "\n",
    "\n",
    "    if hasattr(node, 'branch_attrs'):\n",
    "\n",
    "        s1_nonsyn_at_this_node = []\n",
    "        if \"S\" in node.branch_attrs[\"mutations\"]:\n",
    "            for mut in node.branch_attrs[\"mutations\"][\"S\"]:\n",
    "                if int(mut[1:-1]) in range(14,686):\n",
    "                    s1_nonsyn_at_this_node.append(mut)\n",
    "\n",
    "        s1_consolidated = consolidate_deletions(s1_nonsyn_at_this_node)\n",
    "        node.s1_nonsyn_at_node = len(s1_consolidated)\n",
    "\n",
    "\n",
    "\n",
    "        rdrp_nonsyn_at_this_node = []\n",
    "        if \"ORF1a\" in node.branch_attrs[\"mutations\"]:\n",
    "            for mut in node.branch_attrs[\"mutations\"][\"ORF1a\"]:\n",
    "                if int(mut[1:-1]) in range(4492,4401):\n",
    "                    rdrp_nonsyn_at_this_node.append(mut)\n",
    "\n",
    "\n",
    "        if \"ORF1b\" in node.branch_attrs[\"mutations\"]:\n",
    "            for mut in node.branch_attrs[\"mutations\"][\"ORF1b\"]:\n",
    "                if int(mut[1:-1]) in range(1,923):\n",
    "                    rdrp_nonsyn_at_this_node.append(mut)\n",
    "\n",
    "        rdrp_consolidated = consolidate_deletions(rdrp_nonsyn_at_this_node)\n",
    "        node.rdrp_nonsyn_at_node = len(rdrp_consolidated)\n"
   ]
  },
  {
   "cell_type": "code",
   "execution_count": 3,
   "id": "26ab0a5f",
   "metadata": {},
   "outputs": [],
   "source": [
    "def get_parent(tree, child_clade):\n",
    "    node_path = tree.get_path(child_clade)\n",
    "    return node_path"
   ]
  },
  {
   "cell_type": "code",
   "execution_count": 74,
   "id": "e0b3c3f7",
   "metadata": {},
   "outputs": [],
   "source": [
    "def find_branchs_w_mut(gene, mutation):\n",
    "\n",
    "    # find branchs with nsp6 deletion\n",
    "\n",
    "    nodes_w_mutation_observed = []\n",
    "\n",
    "    for node in tree.find_clades(terminal=False):\n",
    "\n",
    "        if len(node.get_terminals()) >=10:\n",
    "            if hasattr(node, \"branch_attrs\") and \"mutations\" in node.branch_attrs and gene in node.branch_attrs['mutations'].keys():\n",
    "                for mut in node.branch_attrs['mutations'][gene]:\n",
    "                    if mutation in mut:\n",
    "                        nodes_w_mutation_observed.append(node.name)\n",
    "    \n",
    "    num_occurrences = len(nodes_w_mutation_observed)\n",
    "    \n",
    "    return nodes_w_mutation_observed, num_occurrences"
   ]
  },
  {
   "cell_type": "code",
   "execution_count": 76,
   "id": "00971cb4",
   "metadata": {},
   "outputs": [],
   "source": [
    "# find how many S1 mutations happen within X time after nsp6 deletion (or randomized locations of nsp6 del)\n",
    "\n",
    "def muts_directly_after_mut(time, nodes_w_mut):\n",
    "    \n",
    "    s1_muts_after_mut = {p:[] for p in nodes_w_mut}\n",
    "\n",
    "    for node in tree.find_clades(terminal=False):\n",
    "        \n",
    "        # find branches that have S1 mutations\n",
    "        if \"S1_mutations\" in node.node_attrs:\n",
    "            parents = get_parent(tree, node)[:-1]\n",
    "            \n",
    "            # check if these branches occur after a nsp6del event\n",
    "            for parent in parents:\n",
    "                if parent.name in nodes_w_mut:\n",
    "                    node_date = node.node_attrs[\"num_date\"][\"value\"]\n",
    "                    mut_date = parent.node_attrs[\"num_date\"][\"value\"]\n",
    "                    \n",
    "                    if (node_date-mut_date)<=time:\n",
    "                        s1_muts_after_mut[parent.name].append(node.s1_nonsyn_at_node)\n",
    "    \n",
    "    sum_s1_muts_after_mut = {k:sum(v) for k,v in s1_muts_after_mut.items()}\n",
    "    \n",
    "    avg_s1_muts_after_mut = sum(sum_s1_muts_after_mut.values())/len(sum_s1_muts_after_mut)\n",
    "    \n",
    "    return sum_s1_muts_after_mut, avg_s1_muts_after_mut\n",
    "                        \n",
    "    "
   ]
  },
  {
   "cell_type": "code",
   "execution_count": 50,
   "id": "8fba3562",
   "metadata": {},
   "outputs": [],
   "source": [
    "total_branchs = 0\n",
    "for node in tree.find_clades(terminal=False):\n",
    "    total_branchs+=1"
   ]
  },
  {
   "cell_type": "code",
   "execution_count": 51,
   "id": "649e7a8a",
   "metadata": {},
   "outputs": [],
   "source": [
    "# find all branch lengths\n",
    "root_date = tree.root.node_attrs['num_date']['value']\n",
    "\n",
    "# keep track of parts of paths that have already been considered\n",
    "paths_segments_already_used_all = []\n",
    "\n",
    "# store all wait times between branchs\n",
    "branch_lengths_all = []\n",
    "branch_names_all = []\n",
    "\n",
    "for node in tree.find_clades(terminal=False):\n",
    "\n",
    "\n",
    "    node_path = get_parent(tree, node)\n",
    "\n",
    "    # find the branch length (in decimal years) between node and previous node\n",
    "    path_dates = [n.node_attrs['num_date']['value'] for n in node_path]\n",
    "\n",
    "    if len(path_dates) > 1:\n",
    "        path_dates_with_root = [root_date] + path_dates\n",
    "        branch_lengths = [j-i for i, j in zip(path_dates_with_root[:-1], path_dates_with_root[1:])]\n",
    "\n",
    "#         branch_lengths = [j-i for i, j in zip(path_dates[:-1], path_dates[1:])]\n",
    "\n",
    "\n",
    "        for n_index in range(len(node_path)):\n",
    "            \n",
    "            # name of the node at the end of the branch\n",
    "            # branch length will be assigned to this node because \n",
    "            # it is the length of the branch leading to this node\n",
    "            branch_name = node_path[n_index].name\n",
    "            if n_index==0:\n",
    "                preceding_node_name = tree.root.name\n",
    "            else:\n",
    "                preceding_node_name = node_path[n_index-1].name\n",
    "\n",
    "\n",
    "            if [preceding_node_name, branch_name] not in paths_segments_already_used_all:\n",
    "\n",
    "                branch_length = branch_lengths[n_index]\n",
    "\n",
    "                if branch_length<0:\n",
    "                    branch_length = 0.0\n",
    "\n",
    "                branch_lengths_all.append(branch_length)\n",
    "                branch_names_all.append(branch_name)\n",
    "#                 branch_names_all.append([root_name, branch_name])\n",
    "                paths_segments_already_used_all.append([preceding_node_name, branch_name])\n",
    "\n",
    "            \n"
   ]
  },
  {
   "cell_type": "code",
   "execution_count": 90,
   "id": "8aa8e624",
   "metadata": {},
   "outputs": [],
   "source": [
    "def randomize_mutations_on_tree_mulinomial(num_occurrences, branch_lengths, branch_names):\n",
    "    \n",
    "    # multinomial draw to randomize mutations on tree\n",
    "    branch_lengths_normalized = [x/sum(branch_lengths) for x in branch_lengths]\n",
    "\n",
    "    hits = list(np.random.multinomial(num_occurrences, branch_lengths_normalized, size=1))[0]\n",
    "    \n",
    "    branchs_with_mut = dict(zip(branch_names, hits))\n",
    "    branchs_with_mut_list = [k for k,v in branchs_with_mut.items() if v!=0]\n",
    "    \n",
    "    parents_of_all_hits = []\n",
    "\n",
    "    for node in tree.find_clades():\n",
    "        if node.name in branchs_with_mut_list:\n",
    "            if node.node_attrs['num_date']['value'] < 2020.5:\n",
    "                branchs_with_mut_list = 'bad_randomization'\n",
    "            else:\n",
    "                parents = get_parent(tree, node)[:-1]\n",
    "                parent_names= [p.name for p in parents]\n",
    "                parents_of_all_hits+=parent_names\n",
    "            \n",
    "    for node in tree.find_clades():\n",
    "        if node.name in branchs_with_mut_list:\n",
    "            if node.name in parents_of_all_hits:\n",
    "                branchs_with_mut_list = 'bad_randomization'\n",
    "\n",
    "    return branchs_with_mut_list\n",
    "            "
   ]
  },
  {
   "cell_type": "code",
   "execution_count": 91,
   "id": "9b96c0cd",
   "metadata": {},
   "outputs": [],
   "source": [
    "def fig4b(gene, mutation, times, randomizations):\n",
    "    \n",
    "    nodes_w_mutation_observed, num_occurrences = find_branchs_w_mut(gene, mutation)\n",
    "    \n",
    "    to_plot = []\n",
    "    \n",
    "    \n",
    "    for time in times:\n",
    "        r=0\n",
    "        \n",
    "        sum_s1_muts_after_mut_obs, avg_s1_muts_after_mut_obs = muts_directly_after_mut(time, nodes_w_mutation_observed)\n",
    "        for x in sum_s1_muts_after_mut_obs.values():\n",
    "            to_plot.append({'data_type': 'observed', 'time_window':time, 'muts_in_window': x})\n",
    "            \n",
    "        while r<randomizations:\n",
    "            nodes_w_mut_expected = randomize_mutations_on_tree_mulinomial(num_occurrences, branch_lengths_all, branch_names_all)\n",
    "            if nodes_w_mut_expected=='bad_randomization':\n",
    "                pass        \n",
    "            else:\n",
    "                r+=1\n",
    "                sum_s1_muts_after_mut_exp, avg_s1_muts_after_mut_exp = muts_directly_after_mut(time, nodes_w_mut_expected)\n",
    "                \n",
    "                for y in sum_s1_muts_after_mut_exp.values():\n",
    "                    to_plot.append({'data_type': 'expected', 'time_window':time, 'muts_in_window': y})\n",
    "            \n",
    "    \n",
    "    to_plot_df = pd.DataFrame(to_plot)\n",
    "    \n",
    "    cmap1 = {'expected':\"#ABABAB\",'observed':\"#4770eb\"}\n",
    "    \n",
    "    sns.pointplot(x='time_window', y='muts_in_window', hue='data_type', data=to_plot_df, palette=cmap1)\n",
    "    \n",
    "    sns.despine(left=False, bottom=False)"
   ]
  },
  {
   "cell_type": "code",
   "execution_count": 92,
   "id": "a50b80ae",
   "metadata": {
    "scrolled": false
   },
   "outputs": [
    {
     "data": {
      "image/png": "[encoded data removed]",
      "text/plain": [
       "<Figure size 432x288 with 1 Axes>"
      ]
     },
     "metadata": {
      "needs_background": "light"
     },
     "output_type": "display_data"
    }
   ],
   "source": [
    "fig4b('ORF1a', '3675-', [0.1, 0.2, 0.3, 0.5], 5)"
   ]
  },
  {
   "cell_type": "code",
   "execution_count": 93,
   "id": "8a36b263",
   "metadata": {},
   "outputs": [
    {
     "data": {
      "image/png": "[encoded data removed]",
      "text/plain": [
       "<Figure size 432x288 with 1 Axes>"
      ]
     },
     "metadata": {
      "needs_background": "light"
     },
     "output_type": "display_data"
    }
   ],
   "source": [
    "fig4b('S', '501Y', [0.1, 0.2, 0.3, 0.5], 5)"
   ]
  },
  {
   "cell_type": "code",
   "execution_count": 94,
   "id": "4e3241bc",
   "metadata": {},
   "outputs": [
    {
     "data": {
      "image/png": "[encoded data removed]",
      "text/plain": [
       "<Figure size 432x288 with 1 Axes>"
      ]
     },
     "metadata": {
      "needs_background": "light"
     },
     "output_type": "display_data"
    }
   ],
   "source": [
    "fig4b('M', '82T', [0.1, 0.2, 0.3, 0.5], 2)"
   ]
  },
  {
   "cell_type": "code",
   "execution_count": null,
   "id": "6e5a00ac",
   "metadata": {},
   "outputs": [],
   "source": [
    "# maybe compare branches with nsp6 del to all other branches with (any other) mutations"
   ]
  },
  {
   "cell_type": "code",
   "execution_count": null,
   "id": "3d0f92b5",
   "metadata": {},
   "outputs": [],
   "source": []
  },
  {
   "cell_type": "code",
   "execution_count": null,
   "id": "bbf1fac8",
   "metadata": {},
   "outputs": [],
   "source": []
  },
  {
   "cell_type": "code",
   "execution_count": null,
   "id": "31df507c",
   "metadata": {},
   "outputs": [],
   "source": []
  }
 ],
 "metadata": {
  "kernelspec": {
   "display_name": "Python 3",
   "language": "python",
   "name": "python3"
  },
  "language_info": {
   "codemirror_mode": {
    "name": "ipython",
    "version": 3
   },
   "file_extension": ".py",
   "mimetype": "text/x-python",
   "name": "python",
   "nbconvert_exporter": "python",
   "pygments_lexer": "ipython3",
   "version": "3.6.10"
  }
 },
 "nbformat": 4,
 "nbformat_minor": 5
}
