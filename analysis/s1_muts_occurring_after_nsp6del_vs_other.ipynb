{
 "cells": [
  {
   "cell_type": "code",
   "execution_count": 38,
   "id": "adeb959b",
   "metadata": {},
   "outputs": [],
   "source": [
    "from augur.utils import json_to_tree\n",
    "import matplotlib.pyplot as plt\n",
    "import seaborn as sns\n",
    "import numpy as np\n",
    "import pandas as pd\n",
    "from Bio import SeqIO\n",
    "from Bio.Seq import Seq\n",
    "from Bio.Seq import MutableSeq\n",
    "from scipy import stats\n",
    "import matplotlib.gridspec as gridspec\n",
    "from collections import Counter\n",
    "import requests\n",
    "import math"
   ]
  },
  {
   "cell_type": "code",
   "execution_count": 42,
   "id": "d9598ef4",
   "metadata": {},
   "outputs": [],
   "source": [
    "#Download tree json\n",
    "tree_url = \"https://data.nextstrain.org/ncov_gisaid_global_2021-07-12.json\"\n",
    "\n",
    "tree_json = requests.get(tree_url).json()\n",
    "\n",
    "#Put tree in Bio.Phylo format\n",
    "tree = json_to_tree(tree_json)"
   ]
  },
  {
   "cell_type": "code",
   "execution_count": 43,
   "id": "be84c44d",
   "metadata": {},
   "outputs": [
    {
     "name": "stderr",
     "output_type": "stream",
     "text": [
      "/Users/katekistler/anaconda3/envs/nextstrain/lib/python3.6/site-packages/Bio/Seq.py:2859: BiopythonWarning: Partial codon, len(sequence) not a multiple of three. Explicitly trim the sequence or add trailing N before translation. This may become an error in future.\n",
      "  BiopythonWarning,\n"
     ]
    }
   ],
   "source": [
    "# make dictionary with gene name as key and reference sequence of that gene as value\n",
    "reference_sequence_aa = {}\n",
    "reference_sequence_nt = {}\n",
    "\n",
    "\n",
    "# make dictionary giving gene by genomic location \n",
    "reference_gene_locations = {}\n",
    "\n",
    "# make dictionary saying what codon within the gene a certain genomic location falls within\n",
    "# and whether the mutation is at pos 0, 1 or 2 within codon\n",
    "reference_gene_codon = {}\n",
    "\n",
    "for record in SeqIO.parse(open(\"reference_seq_edited.gb\",\"r\"), \"genbank\"):\n",
    "    genome_seq = record.seq\n",
    "    for feature in record.features:\n",
    "        if feature.type == 'CDS':\n",
    "            # allow RdRp to overwrite Orf1a and Orf1b, \n",
    "            # to take care of changed reading frame due to  ribosome slippage\n",
    "            # S1 and S2 will also overwrite spike\n",
    "            for pos in range(int(feature.location.start), int(feature.location.end)):\n",
    "                reference_gene_locations[pos] = feature.qualifiers['gene'][0]\n",
    "                codon_num = math.floor((pos-feature.location.start)/3)\n",
    "                pos_in_codon = ((pos-feature.location.start)-codon_num*3)\n",
    "                reference_gene_codon[pos] = (codon_num, pos_in_codon)\n",
    "                \n",
    "            gene_seq = feature.location.extract(record.seq)\n",
    "            reference_sequence_nt[feature.qualifiers['gene'][0]] = gene_seq\n",
    "            gene_seq_aa = gene_seq.translate()\n",
    "            reference_sequence_aa[feature.qualifiers['gene'][0]] = gene_seq_aa"
   ]
  },
  {
   "cell_type": "code",
   "execution_count": 44,
   "id": "d22467e5",
   "metadata": {},
   "outputs": [],
   "source": [
    "def nuc_changes_from_reference(muts_on_path):\n",
    "    \"\"\"\n",
    "    From all the of the nucleotide changes that have occurred on the path from root to branch, \n",
    "    find the most recent nuc mutation at each site (giving the genotype at the branch)\n",
    "    \"\"\"\n",
    "    \n",
    "    final_muts_from_ref = {}\n",
    "\n",
    "    # overwrites genotypes at pos in historical order\n",
    "    for x in muts_on_path:\n",
    "        x_pos = int(x[1:-1])\n",
    "        final_muts_from_ref[x_pos] = x[-1]\n",
    "        \n",
    "\n",
    "    return final_muts_from_ref"
   ]
  },
  {
   "cell_type": "code",
   "execution_count": 54,
   "id": "d0fcf62f",
   "metadata": {},
   "outputs": [],
   "source": [
    "def determine_synonymous(nuc_muts_on_branch, parent_diffs_from_ref):\n",
    "    \n",
    "    parent_diffs_pos = [int(k) for k,v in parent_diffs_from_ref.items()]\n",
    "\n",
    "    \n",
    "    # make dictionary of synonymous (and noncoding) mutations to add to tree\n",
    "    syn_muts = {}\n",
    "    \n",
    "    # don't care about deletions because they are obviously not synonymous\n",
    "    for mut in nuc_muts_on_branch:\n",
    "        if mut[-1]!= '-' and mut[0]!='-':\n",
    "            mut_pos = int(mut[1:-1])\n",
    "            # find what gene this mut happens in\n",
    "            if (mut_pos-1) in reference_gene_locations.keys():\n",
    "                mut_gene = reference_gene_locations[mut_pos-1]\n",
    "                mut_codon_num = reference_gene_codon[mut_pos-1][0]\n",
    "                mut_codon_pos = reference_gene_codon[mut_pos-1][1]\n",
    "                \n",
    "                # find the reference sequence of the codon this mutation occurs in\n",
    "                codon_ref_aa = reference_sequence_aa[mut_gene][mut_codon_num]\n",
    "                \n",
    "                codon_ref_nt = reference_sequence_nt[mut_gene][(mut_codon_num*3):(mut_codon_num*3+3)]\n",
    "                \n",
    "                # check if a mutation occurred within the same codon in a parent\n",
    "                # and if so, change the reference codon sequence accordingly, \n",
    "                # to tell whether the mutation at this branch is synonymous or not\n",
    "                codon_genome_pos = list(range((mut_pos-1-mut_codon_pos),(mut_pos-1-mut_codon_pos+3)))\n",
    "                \n",
    "                parent_codon = codon_ref_nt\n",
    "                for parent_diff in parent_diffs_pos:\n",
    "                    parent_diff_zero_based = parent_diff-1\n",
    "                    if parent_diff_zero_based in codon_genome_pos:\n",
    "                        parent_diff_pos = codon_genome_pos.index(parent_diff_zero_based)\n",
    "                        parent_codon = MutableSeq(str(codon_ref_nt))\n",
    "                        parent_codon[parent_diff_pos] = parent_diffs_from_ref[parent_diff]\n",
    "                        parent_codon = parent_codon.toseq()\n",
    "                \n",
    "                \n",
    "                codon_mutated = MutableSeq(str(parent_codon))\n",
    "                #if deletion (or seq error) has happened at neighboring nucleotide\n",
    "                if '-' in codon_mutated:\n",
    "                    pass\n",
    "                else:\n",
    "                    codon_mutated[mut_codon_pos] = mut[-1]\n",
    "                    codon_mutated = codon_mutated.toseq()\n",
    "                    codon_mutated_translation = codon_mutated.translate()\n",
    "\n",
    "                    if str(codon_ref_aa) == str(codon_mutated_translation):\n",
    "                        if mut_gene in syn_muts.keys():\n",
    "                            syn_muts[mut_gene] += [mut]\n",
    "                        else:\n",
    "                            syn_muts[mut_gene] = [mut]\n",
    "                        \n",
    "                \n",
    "\n",
    "            else:\n",
    "                if 'noncoding' in syn_muts.keys():\n",
    "                    syn_muts['noncoding'] += [mut]\n",
    "                else:\n",
    "                    syn_muts['noncoding'] = [mut]\n",
    "                    \n",
    "    return syn_muts"
   ]
  },
  {
   "cell_type": "code",
   "execution_count": 9,
   "id": "1c9cb2af",
   "metadata": {},
   "outputs": [],
   "source": [
    "def consolidate_deletions(mutation_list):\n",
    "    \"\"\"\n",
    "    For deletion mutations, consider adjacent sites as part of the same deletion\n",
    "    \"\"\"\n",
    "    \n",
    "    without_deletions = [x for x in mutation_list if x[-1]!='-' and x[0]!='-']\n",
    "    #consolidate deletions and reversions\n",
    "    deletions_only = [x for x in mutation_list if x[-1]=='-' or x[0]=='-']\n",
    "    deletions_only.sort(key=lambda x:x[1:-1])\n",
    "    \n",
    "    \n",
    "    #keep track of start of separate deletions\n",
    "    separate_deletions = []\n",
    "\n",
    "    # if there are deletions, count a run of consecutive sites as a single deletion/mutation\n",
    "    if len(deletions_only) != 0:\n",
    "        separate_deletions.append(deletions_only[0])\n",
    "\n",
    "        deletion_tracker = int(deletions_only[0][1:-1])\n",
    "        \n",
    "        for deletion in deletions_only[1:]:\n",
    "\n",
    "            deleted_pos = int(deletion[1:-1])\n",
    "            if deleted_pos == deletion_tracker+1:\n",
    "                pass\n",
    "            else:\n",
    "                separate_deletions.append(deletion)\n",
    "            deletion_tracker = deleted_pos\n",
    "    \n",
    "    consolidated_mutation_list = separate_deletions + without_deletions\n",
    "            \n",
    "    return consolidated_mutation_list"
   ]
  },
  {
   "cell_type": "code",
   "execution_count": 10,
   "id": "7c3e13ce",
   "metadata": {},
   "outputs": [],
   "source": [
    "def get_parent(tree, child_clade):\n",
    "    node_path = tree.get_path(child_clade)\n",
    "    return node_path"
   ]
  },
  {
   "cell_type": "code",
   "execution_count": 7,
   "id": "0892c7d1",
   "metadata": {},
   "outputs": [],
   "source": [
    "def add_syn_mut_attribute(tree):\n",
    "    \n",
    "    for node in tree.find_clades():\n",
    "\n",
    "        node.node_attrs['syn_muts'] = {}\n",
    "\n",
    "        # only care if this branch has some nucleotide mutations\n",
    "        if hasattr(node, 'branch_attrs'):\n",
    "            if 'nuc' in node.branch_attrs['mutations']:\n",
    "\n",
    "                nuc_muts_on_branch = node.branch_attrs['mutations']['nuc']\n",
    "\n",
    "                node_path = get_parent(tree, node)\n",
    "\n",
    "                nucleotide_mut_path = []\n",
    "\n",
    "                # find all nucleotide mutations that happened in parents, \n",
    "                # in case they affect codons mutated on this branch\n",
    "                for parent in node_path[-1]:\n",
    "                    if hasattr(parent, 'branch_attrs'):\n",
    "                        if 'nuc' in parent.branch_attrs['mutations']:\n",
    "                            nucleotide_mut_path+=parent.branch_attrs['mutations']['nuc']\n",
    "\n",
    "                parent_diffs_from_ref = nuc_changes_from_reference(nucleotide_mut_path)\n",
    "\n",
    "                syn_muts_dict = determine_synonymous(nuc_muts_on_branch, parent_diffs_from_ref)\n",
    "\n",
    "                node.node_attrs['syn_muts'] = syn_muts_dict\n"
   ]
  },
  {
   "cell_type": "code",
   "execution_count": 45,
   "id": "21c50902",
   "metadata": {},
   "outputs": [],
   "source": [
    "add_syn_mut_attribute(tree)"
   ]
  },
  {
   "cell_type": "code",
   "execution_count": 46,
   "id": "28db8dc6",
   "metadata": {},
   "outputs": [],
   "source": [
    "for node in tree.find_clades(terminal=False):\n",
    "\n",
    "    node.s1_nonsyn_at_node = 0\n",
    "    node.s1_syn_at_node = 0\n",
    "    node.rdrp_nonsyn_at_node = 0\n",
    "\n",
    "    if hasattr(node, \"node_attrs\") and 'S1' in node.node_attrs['syn_muts']:\n",
    "        node.s1_syn_at_node = len(node.node_attrs['syn_muts']['S1'])\n",
    "\n",
    "\n",
    "    if hasattr(node, 'branch_attrs'):\n",
    "\n",
    "        s1_nonsyn_at_this_node = []\n",
    "        if \"S\" in node.branch_attrs[\"mutations\"]:\n",
    "            for mut in node.branch_attrs[\"mutations\"][\"S\"]:\n",
    "                if int(mut[1:-1]) in range(14,686):\n",
    "                    s1_nonsyn_at_this_node.append(mut)\n",
    "\n",
    "        s1_consolidated = consolidate_deletions(s1_nonsyn_at_this_node)\n",
    "        node.s1_nonsyn_at_node = len(s1_consolidated)\n",
    "\n",
    "\n",
    "\n",
    "        rdrp_nonsyn_at_this_node = []\n",
    "        if \"ORF1a\" in node.branch_attrs[\"mutations\"]:\n",
    "            for mut in node.branch_attrs[\"mutations\"][\"ORF1a\"]:\n",
    "                if int(mut[1:-1]) in range(4492,4401):\n",
    "                    rdrp_nonsyn_at_this_node.append(mut)\n",
    "\n",
    "\n",
    "        if \"ORF1b\" in node.branch_attrs[\"mutations\"]:\n",
    "            for mut in node.branch_attrs[\"mutations\"][\"ORF1b\"]:\n",
    "                if int(mut[1:-1]) in range(1,923):\n",
    "                    rdrp_nonsyn_at_this_node.append(mut)\n",
    "\n",
    "        rdrp_consolidated = consolidate_deletions(rdrp_nonsyn_at_this_node)\n",
    "        node.rdrp_nonsyn_at_node = len(rdrp_consolidated)\n"
   ]
  },
  {
   "cell_type": "code",
   "execution_count": 13,
   "id": "ff8f0ad6",
   "metadata": {},
   "outputs": [],
   "source": [
    "def find_branchs_w_mut(gene, mutation):\n",
    "\n",
    "    # find branchs with specified mutation\n",
    "\n",
    "    nodes_w_mutation_observed = []\n",
    "    \n",
    "    nodes_w_other_mutation_observed = []\n",
    "\n",
    "    \n",
    "    for node in tree.find_clades(terminal=False):\n",
    "        has_mutation = False\n",
    "\n",
    "        if len(node.get_terminals()) >=10:\n",
    "            if hasattr(node, \"branch_attrs\") and \"mutations\" in node.branch_attrs:\n",
    "                if gene in node.branch_attrs['mutations'].keys():\n",
    "                    for mut in node.branch_attrs['mutations'][gene]:\n",
    "                        if mutation in mut:\n",
    "                            has_mutation = True\n",
    "                            nodes_w_mutation_observed.append(node.name)\n",
    "                if has_mutation == False:\n",
    "                    if len(node.branch_attrs['mutations'])>1:\n",
    "                        nodes_w_other_mutation_observed.append(node.name)\n",
    "    \n",
    "    \n",
    "    return nodes_w_mutation_observed, nodes_w_other_mutation_observed"
   ]
  },
  {
   "cell_type": "code",
   "execution_count": 18,
   "id": "2948067b",
   "metadata": {},
   "outputs": [],
   "source": [
    "# find how many S1 mutations happen within X time after nsp6 deletion (or randomized locations of nsp6 del)\n",
    "\n",
    "def muts_directly_after_mut(time, nodes_w_mut):\n",
    "    \n",
    "    s1_muts_after_mut = {p:[] for p in nodes_w_mut}\n",
    "\n",
    "    for node in tree.find_clades(terminal=False):\n",
    "        \n",
    "        # find branches that have S1 mutations\n",
    "        if \"S1_mutations\" in node.node_attrs:\n",
    "            parents = get_parent(tree, node)[:-1]\n",
    "            \n",
    "            # check if these branches occur after a nsp6del event\n",
    "            for parent in parents:\n",
    "                if parent.name in nodes_w_mut:\n",
    "                    node_date = node.node_attrs[\"num_date\"][\"value\"]\n",
    "                    mut_date = parent.node_attrs[\"num_date\"][\"value\"]\n",
    "                    \n",
    "                    if (node_date-mut_date)<=time:\n",
    "                        s1_muts_after_mut[parent.name].append(node.s1_nonsyn_at_node)\n",
    "    \n",
    "    sum_s1_muts_after_mut = {k:sum(v) for k,v in s1_muts_after_mut.items()}\n",
    "    \n",
    "    avg_s1_muts_after_mut = sum(sum_s1_muts_after_mut.values())/len(sum_s1_muts_after_mut)\n",
    "    \n",
    "    return sum_s1_muts_after_mut, avg_s1_muts_after_mut\n",
    "                        "
   ]
  },
  {
   "cell_type": "code",
   "execution_count": 53,
   "id": "fc9e154d",
   "metadata": {},
   "outputs": [],
   "source": [
    "def fig4b(gene, mutation, times):\n",
    "    \n",
    "    nodes_w_mutation_observed, nodes_w_other_mutation_observed = find_branchs_w_mut(gene, mutation)\n",
    "    \n",
    "    to_plot = []\n",
    "    \n",
    "    cmap1 = {'other':\"#ABABAB\",f'{gene}_{mutation}':\"#4770eb\"}\n",
    "    \n",
    "    \n",
    "    for time in times:\n",
    "        \n",
    "        sum_s1_muts_after_mut_obs, avg_s1_muts_after_mut_obs = muts_directly_after_mut(time, nodes_w_mutation_observed)\n",
    "        for x in sum_s1_muts_after_mut_obs.values():\n",
    "            to_plot.append({'data_type': f'{gene}_{mutation}', 'time_window':time, 'muts_in_window': x})\n",
    "            \n",
    "        sum_s1_muts_after_other_mut_obs, avg_s1_muts_after_other_mut_obs = muts_directly_after_mut(time, nodes_w_other_mutation_observed)\n",
    "        for x in sum_s1_muts_after_other_mut_obs.values():\n",
    "            to_plot.append({'data_type': 'other', 'time_window':time, 'muts_in_window': x})\n",
    "            \n",
    "\n",
    "    \n",
    "    to_plot_df = pd.DataFrame(to_plot)\n",
    "    \n",
    "#     cmap1 = {'expected':\"#ABABAB\",'observed':\"#4770eb\"}\n",
    "    \n",
    "    sns.pointplot(x='time_window', y='muts_in_window', hue='data_type', ci=95, data=to_plot_df, palette=cmap1)\n",
    "    \n",
    "    sns.despine(left=False, bottom=False)"
   ]
  },
  {
   "cell_type": "code",
   "execution_count": 47,
   "id": "dcbe977f",
   "metadata": {},
   "outputs": [
    {
     "data": {
      "image/png": "[encoded data removed]",
      "text/plain": [
       "<Figure size 432x288 with 1 Axes>"
      ]
     },
     "metadata": {
      "needs_background": "light"
     },
     "output_type": "display_data"
    }
   ],
   "source": [
    "fig4b('ORF1a', '3675-', [0.25,0.5,0.75, 1.0, 1.25, 1.5])"
   ]
  },
  {
   "cell_type": "code",
   "execution_count": 51,
   "id": "2f88e144",
   "metadata": {},
   "outputs": [
    {
     "data": {
      "image/png": "[encoded data removed]",
      "text/plain": [
       "<Figure size 432x288 with 1 Axes>"
      ]
     },
     "metadata": {
      "needs_background": "light"
     },
     "output_type": "display_data"
    }
   ],
   "source": [
    "fig4b('ORF1a', '3255I', [0.25,0.5,0.75, 1.0, 1.25, 1.5])"
   ]
  },
  {
   "cell_type": "code",
   "execution_count": 52,
   "id": "ecff2954",
   "metadata": {},
   "outputs": [
    {
     "data": {
      "image/png": "[encoded data removed]",
      "text/plain": [
       "<Figure size 432x288 with 1 Axes>"
      ]
     },
     "metadata": {
      "needs_background": "light"
     },
     "output_type": "display_data"
    }
   ],
   "source": [
    "fig4b('N', '205I', [0.25,0.5,0.75, 1.0, 1.25, 1.5])"
   ]
  },
  {
   "cell_type": "code",
   "execution_count": 48,
   "id": "6f411692",
   "metadata": {},
   "outputs": [
    {
     "data": {
      "image/png": "[encoded data removed]",
      "text/plain": [
       "<Figure size 432x288 with 1 Axes>"
      ]
     },
     "metadata": {
      "needs_background": "light"
     },
     "output_type": "display_data"
    }
   ],
   "source": [
    "fig4b('M', '82T', [0.25,0.5,0.75, 1.0, 1.25, 1.5])"
   ]
  }
 ],
 "metadata": {
  "kernelspec": {
   "display_name": "Python 3",
   "language": "python",
   "name": "python3"
  },
  "language_info": {
   "codemirror_mode": {
    "name": "ipython",
    "version": 3
   },
   "file_extension": ".py",
   "mimetype": "text/x-python",
   "name": "python",
   "nbconvert_exporter": "python",
   "pygments_lexer": "ipython3",
   "version": "3.6.10"
  }
 },
 "nbformat": 4,
 "nbformat_minor": 5
}
