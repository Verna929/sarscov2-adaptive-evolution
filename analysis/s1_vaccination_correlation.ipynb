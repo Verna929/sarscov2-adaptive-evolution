{
 "cells": [
  {
   "cell_type": "code",
   "execution_count": 1,
   "id": "69c125aa",
   "metadata": {},
   "outputs": [
    {
     "name": "stderr",
     "output_type": "stream",
     "text": [
      "/Users/katekistler/anaconda3/envs/ncov/lib/python3.6/site-packages/Bio/Seq.py:2859: BiopythonWarning: Partial codon, len(sequence) not a multiple of three. Explicitly trim the sequence or add trailing N before translation. This may become an error in future.\n",
      "  BiopythonWarning,\n"
     ]
    }
   ],
   "source": [
    "from utils import sars2_genome_info, add_syn_mut_attribute, add_mut_accumulation_attr, add_mut_at_node_attr\n",
    "from utils_plotting import get_color_palette, convert_linege_names\n",
    "from augur.utils import json_to_tree\n",
    "import matplotlib.pyplot as plt\n",
    "import matplotlib.gridspec as gridspec\n",
    "import seaborn as sns\n",
    "import numpy as np\n",
    "import pandas as pd\n",
    "import requests\n",
    "import json\n",
    "import datetime\n",
    "from scipy import stats"
   ]
  },
  {
   "cell_type": "markdown",
   "id": "e8948bbb",
   "metadata": {},
   "source": [
    "## Determine if there is a correlation between vaccination rate and S1 mutation accumulation"
   ]
  },
  {
   "cell_type": "markdown",
   "id": "dcfd3fbf",
   "metadata": {},
   "source": [
    "Read in table of vaccination rate per country by date. Vaccination data comes from:\n",
    "\n",
    "Mathieu, E., Ritchie, H., Ortiz-Ospina, E. et al. A global database of COVID-19 vaccinations. Nat Hum Behav (2021). https://doi.org/10.1038/s41562-021-01122-8"
   ]
  },
  {
   "cell_type": "code",
   "execution_count": 5,
   "id": "831228da",
   "metadata": {},
   "outputs": [],
   "source": [
    "vaccination_rates = pd.read_csv('vaccination_rates_country.csv', skiprows=1)"
   ]
  },
  {
   "cell_type": "markdown",
   "id": "b0c9f896",
   "metadata": {},
   "source": [
    "Convert dates into decimal dates"
   ]
  },
  {
   "cell_type": "code",
   "execution_count": 7,
   "id": "9b0a9369",
   "metadata": {},
   "outputs": [],
   "source": [
    "from datetime import datetime as dt\n",
    "import time\n",
    "\n",
    "def toYearFraction(date):\n",
    "    def sinceEpoch(date): # returns seconds since epoch\n",
    "        return time.mktime(date.timetuple())\n",
    "    s = sinceEpoch\n",
    "\n",
    "    year = date.year\n",
    "    startOfThisYear = dt(year=year, month=1, day=1)\n",
    "    startOfNextYear = dt(year=year+1, month=1, day=1)\n",
    "\n",
    "    yearElapsed = s(date) - s(startOfThisYear)\n",
    "    yearDuration = s(startOfNextYear) - s(startOfThisYear)\n",
    "    fraction = yearElapsed/yearDuration\n",
    "\n",
    "    return date.year + fraction"
   ]
  },
  {
   "cell_type": "code",
   "execution_count": 33,
   "id": "9ccb3078",
   "metadata": {},
   "outputs": [
    {
     "data": {
      "text/plain": [
       "2021.690296803653"
      ]
     },
     "execution_count": 33,
     "metadata": {},
     "output_type": "execute_result"
    }
   ],
   "source": [
    "toYearFraction(datetime.datetime.strptime('2021-09-10', '%Y-%m-%d'))"
   ]
  },
  {
   "cell_type": "markdown",
   "id": "4a62e4cc",
   "metadata": {},
   "source": [
    "Create a column in the vaccination dataframe to store date as decimal year"
   ]
  },
  {
   "cell_type": "code",
   "execution_count": 9,
   "id": "de993887",
   "metadata": {},
   "outputs": [],
   "source": [
    "vaccination_rates['date'] = pd.to_datetime(vaccination_rates['date'])\n",
    "vaccination_rates['num_date'] = vaccination_rates['date'].apply(toYearFraction)"
   ]
  },
  {
   "cell_type": "markdown",
   "id": "08495eea",
   "metadata": {},
   "source": [
    "Read in the SARS-CoV-2 phylogeny"
   ]
  },
  {
   "cell_type": "code",
   "execution_count": 21,
   "id": "2858edf5",
   "metadata": {},
   "outputs": [],
   "source": [
    "tree_url = 'https://nextstrain-blab.s3.amazonaws.com/ncov_adaptive-evolution_2021-08-15.json'\n",
    "\n",
    "tree_json = requests.get(tree_url).json()\n",
    "\n",
    "#Put tree in Bio.Phylo format\n",
    "tree = json_to_tree(tree_json)"
   ]
  },
  {
   "cell_type": "code",
   "execution_count": 22,
   "id": "f79adb80",
   "metadata": {},
   "outputs": [],
   "source": [
    "reference_gene_locations, reference_gene_codon, gene_lengths_aa = sars2_genome_info()"
   ]
  },
  {
   "cell_type": "code",
   "execution_count": 23,
   "id": "f694e422",
   "metadata": {},
   "outputs": [],
   "source": [
    "tree = add_syn_mut_attribute(tree)"
   ]
  },
  {
   "cell_type": "code",
   "execution_count": 24,
   "id": "21d74ad9",
   "metadata": {},
   "outputs": [],
   "source": [
    "tree = add_mut_accumulation_attr(tree)"
   ]
  },
  {
   "cell_type": "code",
   "execution_count": 25,
   "id": "e9694738",
   "metadata": {},
   "outputs": [],
   "source": [
    "tree = add_mut_at_node_attr(tree)"
   ]
  },
  {
   "cell_type": "markdown",
   "id": "39091020",
   "metadata": {},
   "source": [
    "For every internal branch, find date, country and number of S1 mutations (both total accumulated and number that arose on this branch)"
   ]
  },
  {
   "cell_type": "code",
   "execution_count": 26,
   "id": "b3a76564",
   "metadata": {},
   "outputs": [],
   "source": [
    "def get_s1_vacc_on_internals(min_date):\n",
    "\n",
    "    internal_branches = []\n",
    "\n",
    "    for node in tree.find_clades(terminal=False):\n",
    "\n",
    "        # use internal branches with at least 3 descending tips, to minimize tip effects\n",
    "        if len(node.get_terminals())>=3:\n",
    "            if hasattr(node, 'branch_attrs'):\n",
    "                date = node.node_attrs['num_date']['value']\n",
    "\n",
    "                # only look at dates where countries had really started vaccinating (default is May 1)\n",
    "                if date >= min_date:\n",
    "                    country = node.node_attrs['country']['value']\n",
    "\n",
    "                    # change name to match vaccination data\n",
    "                    if country == 'USA':\n",
    "                        country = 'United States'\n",
    "                    elif country in ['Democratic Republic of the Congo', 'Republic of the Congo']:\n",
    "                        country = 'Congo'\n",
    "\n",
    "                    # filter vaccination data to only the inferred country of this branch\n",
    "                    vacc_country= vaccination_rates[vaccination_rates['location']==country]\n",
    "\n",
    "                    # find percentage of country vaccinated at the branch's date\n",
    "                    # use vaccination data from the closest date to the inferred branch date \n",
    "                    # (only if closest date with vacc data is within 10 days)\n",
    "                    vacc_country_date = vacc_country[(vacc_country['num_date']>=(date-0.0274)\n",
    "                                                     )& (vacc_country['num_date']<=(date+0.0274))]\n",
    "                    \n",
    "                    # numbers for individuals with only one dose\n",
    "                    # order information by closest to the branch date\n",
    "                    vacc_at_closest_dates = list(vacc_country.iloc[(vacc_country['num_date']-date).abs().argsort()\n",
    "                                                                  ]['people_fully_vaccinated_per_hundred'])\n",
    "                    # get rid of null values\n",
    "                    vacc_at_closest_dates_drop_na = [x for x in vacc_at_closest_dates if not pd.isna(x)]\n",
    "                    \n",
    "                    # if there are any non-null values in the date range\n",
    "                    if len(vacc_at_closest_dates_drop_na)!= 0:\n",
    "                        num_fully_vaccinated = vacc_at_closest_dates_drop_na[0]\n",
    "\n",
    "\n",
    "                        internal_branches.append({'date': date,\n",
    "                                                 'country': country,\n",
    "                                                 'percent_fully_vaccinated': num_fully_vaccinated,\n",
    "                                                 's1_accumulated': node.node_attrs['s1_accumulation'],\n",
    "                                                 's1_syn_accumulated': node.node_attrs['s1_syn_accumulation'],\n",
    "                                                 's1_at_node':node.nonsyn_at_node['S1'], \n",
    "                                                 's1_syn_at_node':node.syn_at_node['S1']})\n",
    "\n",
    "\n",
    "    s1_vaccination_df = pd.DataFrame(internal_branches)\n",
    "    \n",
    "    return s1_vaccination_df\n"
   ]
  },
  {
   "cell_type": "code",
   "execution_count": 52,
   "id": "338d9553",
   "metadata": {},
   "outputs": [],
   "source": [
    "def plot_s1_vacc_correlation(min_date = 2021.33, filename=None):\n",
    "    \n",
    "    s1_vaccination_df = get_s1_vacc_on_internals(min_date)\n",
    "\n",
    "    \n",
    "    fig, axes = plt.subplots(2,1 , figsize=(5,7), sharex=True)\n",
    "    plt.tight_layout()\n",
    "    \n",
    "    subplot_categories = [('S1', 'Nonsynonymous', \"#4770eb\", 's1_accumulated'), \n",
    "                          ('S1', 'Synonymous', \"#5094e3\", 's1_syn_accumulated')]\n",
    "    \n",
    "    for i, ax in enumerate(axes.flat):\n",
    "        ax = sns.scatterplot(x='percent_fully_vaccinated', y=subplot_categories[i][3], data=s1_vaccination_df, \n",
    "                        color=subplot_categories[i][2], s=80, ax=ax)\n",
    "        sns.regplot(x='percent_fully_vaccinated', y=subplot_categories[i][3], scatter=False, ax=ax, \n",
    "                    data=s1_vaccination_df, line_kws={\"color\":'black'}, ci=95)\n",
    "        \n",
    "        slope, intercept, r_value, p_value, std_err = stats.linregress(s1_vaccination_df['percent_fully_vaccinated'], \n",
    "                                                               s1_vaccination_df[subplot_categories[i][3]])\n",
    "        ax.annotate(f'$r$: {round(r_value,3)}', xycoords = 'axes fraction',\n",
    "                xy=(0.8, 0.9), size=14, va='top', ha='left')\n",
    "        \n",
    "        ax.set_ylabel(f'S1 {subplot_categories[i][1]} Mutations', fontsize = 14)\n",
    "        ax.set_xlabel('Percent Fully Vaccinated', fontsize = 14)\n",
    "        \n",
    "        if i==1:\n",
    "            ax.set_yticks([0,1,2])\n",
    "    \n",
    "    \n",
    "    sns.despine(left=False, bottom=False)\n",
    "    plt.subplots_adjust(hspace=0.2)\n",
    "\n",
    "\n",
    "    plt.setp(ax.get_yticklabels(), fontsize=12)\n",
    "    plt.setp(ax.get_xticklabels(), fontsize=12)\n",
    "\n",
    "    if filename: \n",
    "        fig.savefig(filename, dpi=300, bbox_inches='tight')\n",
    "    "
   ]
  },
  {
   "cell_type": "code",
   "execution_count": 53,
   "id": "3110dec7",
   "metadata": {},
   "outputs": [
    {
     "data": {
      "image/png": "[encoded data removed]",
      "text/plain": [
       "<Figure size 360x504 with 2 Axes>"
      ]
     },
     "metadata": {
      "needs_background": "light"
     },
     "output_type": "display_data"
    }
   ],
   "source": [
    "plot_s1_vacc_correlation(filename='plots/s1_vaccrate_20210910.png')"
   ]
  }
 ],
 "metadata": {
  "kernelspec": {
   "display_name": "ncov-kernel",
   "language": "python",
   "name": "ncov-kernel"
  },
  "language_info": {
   "codemirror_mode": {
    "name": "ipython",
    "version": 3
   },
   "file_extension": ".py",
   "mimetype": "text/x-python",
   "name": "python",
   "nbconvert_exporter": "python",
   "pygments_lexer": "ipython3",
   "version": "3.6.13"
  }
 },
 "nbformat": 4,
 "nbformat_minor": 5
}
