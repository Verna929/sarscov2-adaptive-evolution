{
 "cells": [
  {
   "cell_type": "code",
   "execution_count": 16,
   "id": "48c38ece",
   "metadata": {},
   "outputs": [],
   "source": [
    "from augur.utils import json_to_tree\n",
    "import matplotlib.pyplot as plt\n",
    "import seaborn as sns\n",
    "import numpy as np\n",
    "import pandas as pd\n",
    "from Bio import SeqIO\n",
    "from Bio.Seq import MutableSeq\n",
    "from scipy import stats\n",
    "import matplotlib.gridspec as gridspec\n",
    "from collections import Counter\n",
    "import requests\n",
    "import math"
   ]
  },
  {
   "cell_type": "markdown",
   "id": "27861e21",
   "metadata": {},
   "source": [
    "Find the average time til next S1 mutation (on all descending paths from a given mutation). Ignoring S1 mutations that occur on the same branch as the given mutation"
   ]
  },
  {
   "cell_type": "code",
   "execution_count": 2,
   "id": "30eac783",
   "metadata": {},
   "outputs": [],
   "source": [
    "#Download tree json\n",
    "tree_url = \"https://data.nextstrain.org/ncov_global.json\"\n",
    "\n",
    "tree_json = requests.get(tree_url).json()\n",
    "\n",
    "#Put tree in Bio.Phylo format\n",
    "tree = json_to_tree(tree_json)"
   ]
  },
  {
   "cell_type": "code",
   "execution_count": 14,
   "id": "a204bb20",
   "metadata": {},
   "outputs": [
    {
     "name": "stderr",
     "output_type": "stream",
     "text": [
      "/Users/katekistler/anaconda3/envs/nextstrain/lib/python3.6/site-packages/Bio/Seq.py:2859: BiopythonWarning: Partial codon, len(sequence) not a multiple of three. Explicitly trim the sequence or add trailing N before translation. This may become an error in future.\n",
      "  BiopythonWarning,\n"
     ]
    }
   ],
   "source": [
    "# make dictionary with gene name as key and reference sequence of that gene as value\n",
    "reference_sequence_aa = {}\n",
    "reference_sequence_nt = {}\n",
    "\n",
    "\n",
    "# make dictionary giving gene by genomic location \n",
    "reference_gene_locations = {}\n",
    "\n",
    "# make dictionary saying what codon within the gene a certain genomic location falls within\n",
    "# and whether the mutation is at pos 0, 1 or 2 within codon\n",
    "reference_gene_codon = {}\n",
    "\n",
    "for record in SeqIO.parse(open(\"reference_seq_edited.gb\",\"r\"), \"genbank\"):\n",
    "    genome_seq = record.seq\n",
    "    for feature in record.features:\n",
    "        if feature.type == 'CDS':\n",
    "            # allow RdRp to overwrite Orf1a and Orf1b, \n",
    "            # to take care of changed reading frame due to  ribosome slippage\n",
    "            # S1 and S2 will also overwrite spike\n",
    "            for pos in range(int(feature.location.start), int(feature.location.end)):\n",
    "                reference_gene_locations[pos] = feature.qualifiers['gene'][0]\n",
    "                codon_num = math.floor((pos-feature.location.start)/3)\n",
    "                pos_in_codon = ((pos-feature.location.start)-codon_num*3)\n",
    "                reference_gene_codon[pos] = (codon_num, pos_in_codon)\n",
    "                \n",
    "            gene_seq = feature.location.extract(record.seq)\n",
    "            reference_sequence_nt[feature.qualifiers['gene'][0]] = gene_seq\n",
    "            gene_seq_aa = gene_seq.translate()\n",
    "            reference_sequence_aa[feature.qualifiers['gene'][0]] = gene_seq_aa"
   ]
  },
  {
   "cell_type": "code",
   "execution_count": 3,
   "id": "0a1e5bfe",
   "metadata": {},
   "outputs": [],
   "source": [
    "def get_parent(tree, child_clade):\n",
    "    node_path = tree.get_path(child_clade)\n",
    "    return node_path"
   ]
  },
  {
   "cell_type": "code",
   "execution_count": 65,
   "id": "b2dbe481",
   "metadata": {},
   "outputs": [],
   "source": [
    "def get_branches_with_mutation(gene, mutation):\n",
    "    \n",
    "    # dictionary with branch that has given mutation as key and date it occurred as value\n",
    "    branches_with_mutation = {}\n",
    "    \n",
    "    for node in tree.find_clades(terminal=False):\n",
    "\n",
    "        if len(node.get_terminals()) >=10:\n",
    "            \n",
    "            if hasattr(node, \"branch_attrs\") and \"mutations\" in node.branch_attrs:\n",
    "                if gene in node.branch_attrs[\"mutations\"]:\n",
    "                    if mutation in node.branch_attrs[\"mutations\"][gene]:\n",
    "                        branches_with_mutation[node.name] = node.node_attrs['num_date']['value']\n",
    "                        \n",
    "    return branches_with_mutation"
   ]
  },
  {
   "cell_type": "code",
   "execution_count": 88,
   "id": "ce8470dc",
   "metadata": {},
   "outputs": [],
   "source": [
    "def find_next_s1_muts(branches_with_mutation):\n",
    "    \n",
    "    # dictionary with descendent that has S1 mutation as key and \n",
    "    # parent with given mutation as value\n",
    "    descendents_with_s1_muts_parents = {}\n",
    "    descendents_with_s1_muts_dates = {}\n",
    "    \n",
    "    # find all descendents of given mutation that have S1 mutations\n",
    "    for node in tree.find_clades(terminal=False):\n",
    "        \n",
    "        node_path = get_parent(tree, node)[:-1]\n",
    "        if node.s1_nonsyn_at_node > 0:\n",
    "            parents = [p.name for p in node_path]\n",
    "            \n",
    "            for p in parents:\n",
    "                if p in branches_with_mutation.keys():\n",
    "                    descendents_with_s1_muts_parents[node.name] = p\n",
    "                    descendents_with_s1_muts_dates[node.name] = node.node_attrs['num_date']['value']\n",
    "\n",
    "                \n",
    "    # limit this list of descendents to the FIRST descendent (along all paths) \n",
    "    # after given mutation that has an S1 mutation. This means excluding \n",
    "    # elements of `descendents_with_s1_muts` that are descendents of other elements of this list\n",
    "    \n",
    "    first_descendents_with_s1_muts = {}\n",
    "    \n",
    "    for node in tree.find_clades(terminal=False):\n",
    "        if node.name in descendents_with_s1_muts_parents.keys():\n",
    "            node_path = get_parent(tree, node)[:-1]\n",
    "            parents = [p.name for p in node_path]\n",
    "            if not any(n in descendents_with_s1_muts_parents.keys() for n in parents):\n",
    "                first_descendents_with_s1_muts[node.name] = node.node_attrs['num_date']['value']\n",
    "\n",
    "    # find the wait time between given mutation occuring and the first S1 mutation on each descending path   \n",
    "    wait_times = []\n",
    "    \n",
    "    for k,v in first_descendents_with_s1_muts.items():\n",
    "        descendent_with_s1_mut = k\n",
    "        descendent_date = v\n",
    "        parent_with_specified_mut = descendents_with_s1_muts_parents[k]\n",
    "        parent_date = branches_with_mutation[parent_with_specified_mut]\n",
    "        wait_time = float(descendent_date) - float(parent_date)\n",
    "        wait_times.append(wait_time)\n",
    "        \n",
    "    mean_wait_time = sum(wait_times)/len(wait_times)\n",
    "                \n",
    "    return wait_times, mean_wait_time\n",
    "        "
   ]
  },
  {
   "cell_type": "code",
   "execution_count": 90,
   "id": "9e0e7c2d",
   "metadata": {},
   "outputs": [
    {
     "data": {
      "text/plain": [
       "([0.6019116337904507,\n",
       "  0.497929925717699,\n",
       "  0.7400282892451742,\n",
       "  0.6191670429293481,\n",
       "  0.41901656461300263,\n",
       "  0.25428153157963607,\n",
       "  0.08909429248956258,\n",
       "  0.11337948171239987,\n",
       "  0.08063851339375105,\n",
       "  0.18090011035201314,\n",
       "  0.2192113258640802],\n",
       " 0.34686897378973797)"
      ]
     },
     "execution_count": 90,
     "metadata": {},
     "output_type": "execute_result"
    }
   ],
   "source": [
    "branches_with_mutation = get_branches_with_mutation('ORF1a', 'S3675-')\n",
    "find_next_s1_muts(branches_with_mutation)"
   ]
  },
  {
   "cell_type": "code",
   "execution_count": 82,
   "id": "a2d65cb5",
   "metadata": {},
   "outputs": [
    {
     "data": {
      "text/plain": [
       "0.4028468310553863"
      ]
     },
     "execution_count": 82,
     "metadata": {},
     "output_type": "execute_result"
    }
   ],
   "source": [
    "branches_with_mutation = get_branches_with_mutation('S', 'N501Y')\n",
    "find_next_s1_muts(branches_with_mutation)"
   ]
  },
  {
   "cell_type": "code",
   "execution_count": 83,
   "id": "ae46efd6",
   "metadata": {},
   "outputs": [
    {
     "data": {
      "text/plain": [
       "0.49186554893942064"
      ]
     },
     "execution_count": 83,
     "metadata": {},
     "output_type": "execute_result"
    }
   ],
   "source": [
    "branches_with_mutation = get_branches_with_mutation('S', 'E484K')\n",
    "find_next_s1_muts(branches_with_mutation)"
   ]
  },
  {
   "cell_type": "code",
   "execution_count": 85,
   "id": "747cb463",
   "metadata": {},
   "outputs": [
    {
     "data": {
      "text/plain": [
       "0.25672516972209297"
      ]
     },
     "execution_count": 85,
     "metadata": {},
     "output_type": "execute_result"
    }
   ],
   "source": [
    "branches_with_mutation = get_branches_with_mutation('S', 'L452R')\n",
    "find_next_s1_muts(branches_with_mutation)"
   ]
  },
  {
   "cell_type": "code",
   "execution_count": 84,
   "id": "d964a9af",
   "metadata": {},
   "outputs": [
    {
     "data": {
      "text/plain": [
       "0.31538265432609097"
      ]
     },
     "execution_count": 84,
     "metadata": {},
     "output_type": "execute_result"
    }
   ],
   "source": [
    "branches_with_mutation = get_branches_with_mutation('ORF1a', 'T3255I')\n",
    "find_next_s1_muts(branches_with_mutation)"
   ]
  },
  {
   "cell_type": "code",
   "execution_count": 86,
   "id": "450594de",
   "metadata": {},
   "outputs": [
    {
     "data": {
      "text/plain": [
       "0.6203002526914361"
      ]
     },
     "execution_count": 86,
     "metadata": {},
     "output_type": "execute_result"
    }
   ],
   "source": [
    "branches_with_mutation = get_branches_with_mutation('ORF1a', 'L3606F')\n",
    "find_next_s1_muts(branches_with_mutation)"
   ]
  },
  {
   "cell_type": "code",
   "execution_count": 89,
   "id": "b1f23607",
   "metadata": {},
   "outputs": [
    {
     "data": {
      "text/plain": [
       "([0.20375446860657576,\n",
       "  0.30385106667836226,\n",
       "  0.24148756189492815,\n",
       "  0.05771895346811107,\n",
       "  0.15097368617512075,\n",
       "  0.11168921981425228,\n",
       "  0.6698805024457215,\n",
       "  0.5051454694123549,\n",
       "  0.08089307470004314],\n",
       " 0.2583771114661633)"
      ]
     },
     "execution_count": 89,
     "metadata": {},
     "output_type": "execute_result"
    }
   ],
   "source": [
    "branches_with_mutation = get_branches_with_mutation('N', 'T205I')\n",
    "find_next_s1_muts(branches_with_mutation)"
   ]
  },
  {
   "cell_type": "code",
   "execution_count": 91,
   "id": "3acca795",
   "metadata": {},
   "outputs": [
    {
     "data": {
      "text/plain": [
       "([0.2681981131554494,\n",
       "  0.25444178291286335,\n",
       "  0.2529228037053599,\n",
       "  0.18750767846927374,\n",
       "  0.43247443910649963,\n",
       "  0.4066869186654003,\n",
       "  0.39012483676992815,\n",
       "  0.2280170079347954,\n",
       "  0.2187517573149762,\n",
       "  0.7400282892451742,\n",
       "  0.6191670429293481,\n",
       "  0.11633888354981536,\n",
       "  0.8343882090384795,\n",
       "  0.6713679100150785],\n",
       " 0.4014582623437458)"
      ]
     },
     "execution_count": 91,
     "metadata": {},
     "output_type": "execute_result"
    }
   ],
   "source": [
    "branches_with_mutation = get_branches_with_mutation('M', 'I82T')\n",
    "find_next_s1_muts(branches_with_mutation)"
   ]
  },
  {
   "cell_type": "code",
   "execution_count": null,
   "id": "24d9b50f",
   "metadata": {},
   "outputs": [],
   "source": []
  },
  {
   "cell_type": "code",
   "execution_count": null,
   "id": "2ebaac03",
   "metadata": {},
   "outputs": [],
   "source": []
  },
  {
   "cell_type": "code",
   "execution_count": 6,
   "id": "7b14efb5",
   "metadata": {},
   "outputs": [],
   "source": [
    "def consolidate_deletions(mutation_list):\n",
    "    \"\"\"\n",
    "    For deletion mutations, consider adjacent sites as part of the same deletion\n",
    "    \"\"\"\n",
    "    \n",
    "    without_deletions = [x for x in mutation_list if x[-1]!='-' and x[0]!='-']\n",
    "    #consolidate deletions and reversions\n",
    "    deletions_only = [x for x in mutation_list if x[-1]=='-' or x[0]=='-']\n",
    "    deletions_only.sort(key=lambda x:x[1:-1])\n",
    "    \n",
    "    \n",
    "    #keep track of start of separate deletions\n",
    "    separate_deletions = []\n",
    "\n",
    "    # if there are deletions, count a run of consecutive sites as a single deletion/mutation\n",
    "    if len(deletions_only) != 0:\n",
    "        separate_deletions.append(deletions_only[0])\n",
    "\n",
    "        deletion_tracker = int(deletions_only[0][1:-1])\n",
    "        \n",
    "        for deletion in deletions_only[1:]:\n",
    "\n",
    "            deleted_pos = int(deletion[1:-1])\n",
    "            if deleted_pos == deletion_tracker+1:\n",
    "                pass\n",
    "            else:\n",
    "                separate_deletions.append(deletion)\n",
    "            deletion_tracker = deleted_pos\n",
    "    \n",
    "    consolidated_mutation_list = separate_deletions + without_deletions\n",
    "            \n",
    "    return consolidated_mutation_list"
   ]
  },
  {
   "cell_type": "code",
   "execution_count": 7,
   "id": "6a5acef6",
   "metadata": {},
   "outputs": [],
   "source": [
    "def nuc_changes_from_reference(muts_on_path):\n",
    "    \"\"\"\n",
    "    From all the of the nucleotide changes that have occurred on the path from root to branch, \n",
    "    find the most recent nuc mutation at each site (giving the genotype at the branch)\n",
    "    \"\"\"\n",
    "    \n",
    "    final_muts_from_ref = {}\n",
    "\n",
    "    # overwrites genotypes at pos in historical order\n",
    "    for x in muts_on_path:\n",
    "        x_pos = int(x[1:-1])\n",
    "        final_muts_from_ref[x_pos] = x[-1]\n",
    "        \n",
    "\n",
    "    return final_muts_from_ref"
   ]
  },
  {
   "cell_type": "code",
   "execution_count": 8,
   "id": "d48904c2",
   "metadata": {},
   "outputs": [],
   "source": [
    "def determine_synonymous(nuc_muts_on_branch, parent_diffs_from_ref):\n",
    "    \n",
    "    parent_diffs_pos = [int(k) for k,v in parent_diffs_from_ref.items()]\n",
    "\n",
    "    \n",
    "    # make dictionary of synonymous (and noncoding) mutations to add to tree\n",
    "    syn_muts = {}\n",
    "    \n",
    "    # don't care about deletions because they are obviously not synonymous\n",
    "    for mut in nuc_muts_on_branch:\n",
    "        if mut[-1]!= '-' and mut[0]!='-':\n",
    "            mut_pos = int(mut[1:-1])\n",
    "            # find what gene this mut happens in\n",
    "            if (mut_pos-1) in reference_gene_locations.keys():\n",
    "                mut_gene = reference_gene_locations[mut_pos-1]\n",
    "                mut_codon_num = reference_gene_codon[mut_pos-1][0]\n",
    "                mut_codon_pos = reference_gene_codon[mut_pos-1][1]\n",
    "                \n",
    "                # find the reference sequence of the codon this mutation occurs in\n",
    "                codon_ref_aa = reference_sequence_aa[mut_gene][mut_codon_num]\n",
    "                \n",
    "                codon_ref_nt = reference_sequence_nt[mut_gene][(mut_codon_num*3):(mut_codon_num*3+3)]\n",
    "                \n",
    "                # check if a mutation occurred within the same codon in a parent\n",
    "                # and if so, change the reference codon sequence accordingly, \n",
    "                # to tell whether the mutation at this branch is synonymous or not\n",
    "                codon_genome_pos = list(range((mut_pos-1-mut_codon_pos),(mut_pos-1-mut_codon_pos+3)))\n",
    "                \n",
    "                parent_codon = codon_ref_nt\n",
    "                for parent_diff in parent_diffs_pos:\n",
    "                    parent_diff_zero_based = parent_diff-1\n",
    "                    if parent_diff_zero_based in codon_genome_pos:\n",
    "                        parent_diff_pos = codon_genome_pos.index(parent_diff_zero_based)\n",
    "                        parent_codon = MutableSeq(str(codon_ref_nt))\n",
    "                        parent_codon[parent_diff_pos] = parent_diffs_from_ref[parent_diff]\n",
    "                        parent_codon = parent_codon.toseq()\n",
    "                \n",
    "                \n",
    "                codon_mutated = MutableSeq(str(parent_codon))\n",
    "                codon_mutated[mut_codon_pos] = mut[-1]\n",
    "                codon_mutated = codon_mutated.toseq()\n",
    "                codon_mutated_translation = codon_mutated.translate()\n",
    "                \n",
    "                if str(codon_ref_aa) == str(codon_mutated_translation):\n",
    "                    if mut_gene in syn_muts.keys():\n",
    "                        syn_muts[mut_gene] += [mut]\n",
    "                    else:\n",
    "                        syn_muts[mut_gene] = [mut]\n",
    "                        \n",
    "                \n",
    "\n",
    "            else:\n",
    "                if 'noncoding' in syn_muts.keys():\n",
    "                    syn_muts['noncoding'] += [mut]\n",
    "                else:\n",
    "                    syn_muts['noncoding'] = [mut]\n",
    "                    \n",
    "    return syn_muts"
   ]
  },
  {
   "cell_type": "code",
   "execution_count": 9,
   "id": "59c22d3b",
   "metadata": {},
   "outputs": [],
   "source": [
    "def add_syn_mut_attribute(tree):\n",
    "    \n",
    "    for node in tree.find_clades():\n",
    "\n",
    "        node.node_attrs['syn_muts'] = {}\n",
    "\n",
    "        # only care if this branch has some nucleotide mutations\n",
    "        if hasattr(node, 'branch_attrs'):\n",
    "            if 'nuc' in node.branch_attrs['mutations']:\n",
    "\n",
    "                nuc_muts_on_branch = node.branch_attrs['mutations']['nuc']\n",
    "\n",
    "                node_path = get_parent(tree, node)\n",
    "\n",
    "                nucleotide_mut_path = []\n",
    "\n",
    "                # find all nucleotide mutations that happened in parents, \n",
    "                # in case they affect codons mutated on this branch\n",
    "                for parent in node_path[-1]:\n",
    "                    if hasattr(parent, 'branch_attrs'):\n",
    "                        if 'nuc' in parent.branch_attrs['mutations']:\n",
    "                            nucleotide_mut_path+=parent.branch_attrs['mutations']['nuc']\n",
    "\n",
    "                parent_diffs_from_ref = nuc_changes_from_reference(nucleotide_mut_path)\n",
    "\n",
    "                syn_muts_dict = determine_synonymous(nuc_muts_on_branch, parent_diffs_from_ref)\n",
    "\n",
    "                node.node_attrs['syn_muts'] = syn_muts_dict\n"
   ]
  },
  {
   "cell_type": "code",
   "execution_count": 17,
   "id": "cb17195f",
   "metadata": {},
   "outputs": [],
   "source": [
    "add_syn_mut_attribute(tree)"
   ]
  },
  {
   "cell_type": "code",
   "execution_count": 18,
   "id": "606f1a95",
   "metadata": {},
   "outputs": [],
   "source": [
    "\n",
    "\n",
    "\n",
    "for node in tree.find_clades(terminal=False):\n",
    "    \n",
    "    if node.name!= 'USA/OR-OSPHL00881/2021':\n",
    "\n",
    "        node.s1_nonsyn_at_node = 0\n",
    "        node.s1_syn_at_node = 0\n",
    "        node.rdrp_nonsyn_at_node = 0\n",
    "        \n",
    "        if hasattr(node, \"node_attrs\") and 'S1' in node.node_attrs['syn_muts']:\n",
    "            node.s1_syn_at_node = len(node.node_attrs['syn_muts']['S1'])\n",
    "            \n",
    "        \n",
    "        if hasattr(node, 'branch_attrs'):\n",
    "            \n",
    "            s1_nonsyn_at_this_node = []\n",
    "            if \"S\" in node.branch_attrs[\"mutations\"]:\n",
    "                for mut in node.branch_attrs[\"mutations\"][\"S\"]:\n",
    "                    if int(mut[1:-1]) in range(14,686):\n",
    "                        s1_nonsyn_at_this_node.append(mut)\n",
    "            \n",
    "            s1_consolidated = consolidate_deletions(s1_nonsyn_at_this_node)\n",
    "            node.s1_nonsyn_at_node = len(s1_consolidated)\n",
    "\n",
    "\n",
    "\n",
    "            rdrp_nonsyn_at_this_node = []\n",
    "            if \"ORF1a\" in node.branch_attrs[\"mutations\"]:\n",
    "                for mut in node.branch_attrs[\"mutations\"][\"ORF1a\"]:\n",
    "                    if int(mut[1:-1]) in range(4492,4401):\n",
    "                        rdrp_nonsyn_at_this_node.append(mut)\n",
    "\n",
    "\n",
    "            if \"ORF1b\" in node.branch_attrs[\"mutations\"]:\n",
    "                for mut in node.branch_attrs[\"mutations\"][\"ORF1b\"]:\n",
    "                    if int(mut[1:-1]) in range(1,923):\n",
    "                        rdrp_nonsyn_at_this_node.append(mut)\n",
    "            \n",
    "            rdrp_consolidated = consolidate_deletions(rdrp_nonsyn_at_this_node)\n",
    "            node.rdrp_nonsyn_at_node = len(rdrp_consolidated)\n"
   ]
  }
 ],
 "metadata": {
  "kernelspec": {
   "display_name": "Python 3",
   "language": "python",
   "name": "python3"
  },
  "language_info": {
   "codemirror_mode": {
    "name": "ipython",
    "version": 3
   },
   "file_extension": ".py",
   "mimetype": "text/x-python",
   "name": "python",
   "nbconvert_exporter": "python",
   "pygments_lexer": "ipython3",
   "version": "3.6.10"
  }
 },
 "nbformat": 4,
 "nbformat_minor": 5
}
