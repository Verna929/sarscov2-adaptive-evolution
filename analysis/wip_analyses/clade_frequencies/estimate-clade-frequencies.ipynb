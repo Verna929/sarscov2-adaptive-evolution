{
 "cells": [
  {
   "cell_type": "markdown",
   "id": "2d793ba2",
   "metadata": {},
   "source": [
    "# Estimate clade frequencies through time\n",
    "\n",
    "This tutorial shows how to use Augur's frequency estimation tools to estimate the frequencies of SARS-CoV-2 clades through time and use that information to identify clades that have risen in frequency rapidly."
   ]
  },
  {
   "cell_type": "code",
   "execution_count": 7,
   "id": "d8759977",
   "metadata": {},
   "outputs": [],
   "source": [
    "from augur.utils import json_to_tree\n",
    "import matplotlib.pyplot as plt\n",
    "import numpy as np\n",
    "import pandas as pd\n",
    "import requests\n",
    "import json"
   ]
  },
  {
   "cell_type": "markdown",
   "id": "ea5efa5e",
   "metadata": {},
   "source": [
    "## Get the data"
   ]
  },
  {
   "cell_type": "markdown",
   "id": "959cdfbb",
   "metadata": {},
   "source": [
    "Define the URLs to a phylogeny of a global Nextstrain analysis of SARS-CoV-2 and the precalculated frequencies for each strain in that phylogeny."
   ]
  },
  {
   "cell_type": "code",
   "execution_count": 22,
   "id": "ca25fffe",
   "metadata": {},
   "outputs": [],
   "source": [
    "tree_url = 'https://nextstrain-blab.s3.amazonaws.com/ncov_adaptive-evolution_2021-05-15.json'\n",
    "frequencies_url = 'https://nextstrain-blab.s3.amazonaws.com/ncov_adaptive-evolution_2021-05-15_tip_frequencies.json'\n",
    "\n",
    "tree_json = requests.get(tree_url).json()\n",
    "\n",
    "#Put tree in Bio.Phylo format\n",
    "tree = json_to_tree(tree_json)"
   ]
  },
  {
   "cell_type": "code",
   "execution_count": 11,
   "id": "a595a07b",
   "metadata": {},
   "outputs": [],
   "source": [
    "with open('../../../ncov-workflow/auspice/ncov_adaptive-evolution_2021-05-15_tip-frequencies.json') as f:\n",
    "    frequencies = json.load(f)"
   ]
  },
  {
   "cell_type": "markdown",
   "id": "2610829b",
   "metadata": {},
   "source": [
    "Download precalculated frequencies."
   ]
  },
  {
   "cell_type": "code",
   "execution_count": 9,
   "id": "2b730718",
   "metadata": {},
   "outputs": [],
   "source": [
    "# frequencies = requests.get(frequencies_url).json()"
   ]
  },
  {
   "cell_type": "markdown",
   "id": "f9d6a7fe",
   "metadata": {},
   "source": [
    "Frequencies are stored by strain name."
   ]
  },
  {
   "cell_type": "code",
   "execution_count": 12,
   "id": "945b9bda",
   "metadata": {},
   "outputs": [
    {
     "name": "stdout",
     "output_type": "stream",
     "text": [
      "['Afghanistan/IMB07960/2020', 'Afghanistan/IMB07962/2020', 'Afghanistan/IMB07964/2020', 'Afghanistan/IMB07966/2020', 'Afghanistan/IMB07970/2020']\n"
     ]
    }
   ],
   "source": [
    "print(list(frequencies.keys())[:5])"
   ]
  },
  {
   "cell_type": "markdown",
   "id": "a3428953",
   "metadata": {},
   "source": [
    "Each strain has a list of frequencies at multiple timepoints from the global analysis."
   ]
  },
  {
   "cell_type": "code",
   "execution_count": 13,
   "id": "1aa33fde",
   "metadata": {},
   "outputs": [
    {
     "name": "stdout",
     "output_type": "stream",
     "text": [
      "{'frequencies': [0.0, 0.0, 0.0, 0.0, 0.0, 0.0, 0.0, 0.0, 0.0, 0.0, 0.0, 0.0, 1e-06, 2e-06, 8e-06, 2.7e-05, 7.8e-05, 0.000202, 0.000414, 0.000717, 0.00105, 0.001302, 0.001374, 0.001253, 0.000982, 0.000665, 0.000374, 0.000189, 8.2e-05, 3.1e-05, 1.1e-05, 3e-06, 1e-06, 0.0, 0.0, 0.0, 0.0, 0.0, 0.0, 0.0, 0.0, 0.0, 0.0, 0.0, 0.0, 0.0, 0.0, 0.0, 0.0, 0.0, 0.0, 0.0, 0.0, 0.0, 0.0, 0.0, 0.0, 0.0, 0.0, 0.0, 0.0, 0.0, 0.0, 0.0, 0.0, 0.0, 0.0, 0.0, 0.0, 0.0, 0.0]}\n"
     ]
    }
   ],
   "source": [
    "print(frequencies[list(frequencies.keys())[0]])\n",
    "# print(frequencies[\"Afghanistan/IMB07964/2020\"])"
   ]
  },
  {
   "cell_type": "markdown",
   "id": "b3b04104",
   "metadata": {},
   "source": [
    "In addition to strain-specific data, the frequencies data also include the array of timepoints (or \"pivots\") at which frequencies were originally estimated for each strain. Each position in the array of pivots corresponds to a position in each strain's frequencies array."
   ]
  },
  {
   "cell_type": "code",
   "execution_count": 14,
   "id": "b5905d68",
   "metadata": {},
   "outputs": [
    {
     "name": "stdout",
     "output_type": "stream",
     "text": [
      "[2020.011, 2020.0301, 2020.0493, 2020.0684, 2020.0861]\n"
     ]
    }
   ],
   "source": [
    "print(frequencies[\"pivots\"][:5])"
   ]
  },
  {
   "cell_type": "markdown",
   "id": "f61344fe",
   "metadata": {},
   "source": [
    "We can also learn how these frequencies were originally generated."
   ]
  },
  {
   "cell_type": "code",
   "execution_count": 7,
   "id": "1d7eaa02",
   "metadata": {},
   "outputs": [
    {
     "name": "stdout",
     "output_type": "stream",
     "text": [
      "{'program': 'augur', 'version': '12.0.0'}\n"
     ]
    }
   ],
   "source": [
    "print(frequencies[\"generated_by\"])"
   ]
  },
  {
   "cell_type": "markdown",
   "id": "2bccc6ac",
   "metadata": {},
   "source": [
    "Let's export the pivots into their own variable, removing them from the main data structure. We convert them to a numpy array to simplify math and plotting operations later."
   ]
  },
  {
   "cell_type": "code",
   "execution_count": 15,
   "id": "5fd93072",
   "metadata": {},
   "outputs": [],
   "source": [
    "pivots = np.array(frequencies.pop(\"pivots\"))"
   ]
  },
  {
   "cell_type": "code",
   "execution_count": 16,
   "id": "868dad35",
   "metadata": {},
   "outputs": [
    {
     "name": "stdout",
     "output_type": "stream",
     "text": [
      "[2020.011  2020.0301 2020.0493 2020.0684 2020.0861 2020.1052 2020.1244\n",
      " 2020.1436 2020.1667 2020.1858 2020.205  2020.2242 2020.2433 2020.261\n",
      " 2020.2801 2020.2993 2020.3184 2020.3388 2020.358  2020.3771 2020.3963\n",
      " 2020.4155 2020.4331 2020.4523 2020.4714 2020.4906 2020.511  2020.5301\n",
      " 2020.5493 2020.5684 2020.5861 2020.6052 2020.6244 2020.6436 2020.6627\n",
      " 2020.6804 2020.6995 2020.7187 2020.7379 2020.7582 2020.7774 2020.7965\n",
      " 2020.8157 2020.8333 2020.8525 2020.8717 2020.8908 2020.91   2020.9304\n",
      " 2020.9495 2020.9687 2020.9879 2021.0055 2021.0246 2021.0438 2021.063\n",
      " 2021.0821 2021.0998 2021.1189 2021.1381 2021.1573 2021.1831 2021.2023\n",
      " 2021.2214 2021.2406 2021.2582 2021.2774 2021.2965 2021.3157 2021.3361\n",
      " 2021.3552]\n"
     ]
    }
   ],
   "source": [
    "print(pivots)"
   ]
  },
  {
   "cell_type": "markdown",
   "id": "b767b2c1",
   "metadata": {},
   "source": [
    "Let's convert the dictionary of lists to numpy arrays, too."
   ]
  },
  {
   "cell_type": "code",
   "execution_count": 17,
   "id": "3a57253f",
   "metadata": {},
   "outputs": [],
   "source": [
    "frequency_arrays = {\n",
    "    strain: np.array(strain_frequencies[\"frequencies\"])\n",
    "    for strain, strain_frequencies in frequencies.items()\n",
    "    if \"frequencies\" in strain_frequencies\n",
    "}"
   ]
  },
  {
   "cell_type": "code",
   "execution_count": 18,
   "id": "a9efb95d",
   "metadata": {},
   "outputs": [
    {
     "name": "stdout",
     "output_type": "stream",
     "text": [
      "[0.000e+00 0.000e+00 0.000e+00 0.000e+00 0.000e+00 0.000e+00 0.000e+00\n",
      " 0.000e+00 0.000e+00 0.000e+00 0.000e+00 0.000e+00 1.000e-06 2.000e-06\n",
      " 8.000e-06 2.700e-05 7.800e-05 2.020e-04 4.140e-04 7.170e-04 1.050e-03\n",
      " 1.302e-03 1.374e-03 1.253e-03 9.820e-04 6.650e-04 3.740e-04 1.890e-04\n",
      " 8.200e-05 3.100e-05 1.100e-05 3.000e-06 1.000e-06 0.000e+00 0.000e+00\n",
      " 0.000e+00 0.000e+00 0.000e+00 0.000e+00 0.000e+00 0.000e+00 0.000e+00\n",
      " 0.000e+00 0.000e+00 0.000e+00 0.000e+00 0.000e+00 0.000e+00 0.000e+00\n",
      " 0.000e+00 0.000e+00 0.000e+00 0.000e+00 0.000e+00 0.000e+00 0.000e+00\n",
      " 0.000e+00 0.000e+00 0.000e+00 0.000e+00 0.000e+00 0.000e+00 0.000e+00\n",
      " 0.000e+00 0.000e+00 0.000e+00 0.000e+00 0.000e+00 0.000e+00 0.000e+00\n",
      " 0.000e+00]\n"
     ]
    }
   ],
   "source": [
    "print(frequency_arrays['Afghanistan/IMB07960/2020'])"
   ]
  },
  {
   "cell_type": "markdown",
   "id": "5f5fc0ff",
   "metadata": {},
   "source": [
    "## Plot strain frequencies through time"
   ]
  },
  {
   "cell_type": "markdown",
   "id": "a59581cf",
   "metadata": {},
   "source": [
    "Now, we can plot the frequency of an individual strain over time. This view shows us that each strain's frequencies through time are represented by a normal distribution. This representation is a feature of [the kernel density estimation (KDE) method of frequency estimation in Augur](https://docs.nextstrain.org/projects/augur/en/stable/usage/cli/frequencies.html)."
   ]
  },
  {
   "cell_type": "code",
   "execution_count": 19,
   "id": "a9f618be",
   "metadata": {},
   "outputs": [
    {
     "data": {
      "text/plain": [
       "Text(0, 0.5, 'Frequency')"
      ]
     },
     "execution_count": 19,
     "metadata": {},
     "output_type": "execute_result"
    },
    {
     "data": {
      "image/png": "[encoded data removed]",
      "text/plain": [
       "<Figure size 576x288 with 1 Axes>"
      ]
     },
     "metadata": {
      "needs_background": "light"
     },
     "output_type": "display_data"
    }
   ],
   "source": [
    "fig, ax = plt.subplots(1, 1, figsize=(8, 4))\n",
    "ax.plot(\n",
    "    pivots,\n",
    "    frequency_arrays[list(frequencies.keys())[0]]\n",
    ")\n",
    "# ax.plot(\n",
    "#     pivots,\n",
    "#     frequency_arrays[\"Afghanistan/IMB07964/2020\"]\n",
    "# )\n",
    "\n",
    "ax.set_xlabel(\"Date\")\n",
    "ax.set_ylabel(\"Frequency\")"
   ]
  },
  {
   "cell_type": "markdown",
   "id": "23be1cf4",
   "metadata": {},
   "source": [
    "We can also plot the frequencies of all strains over time at once. This view shows us all of the overlapping normal distributions for each strain. It also shows us the noise (or uncertainty) in frequency estimates at the beginning of 2020 when relatively few SARS-CoV-2 strains had been sampled."
   ]
  },
  {
   "cell_type": "code",
   "execution_count": 20,
   "id": "a2f7c720",
   "metadata": {},
   "outputs": [
    {
     "data": {
      "text/plain": [
       "Text(0, 0.5, 'Frequency')"
      ]
     },
     "execution_count": 20,
     "metadata": {},
     "output_type": "execute_result"
    },
    {
     "data": {
      "image/png": "[encoded data removed]",
      "text/plain": [
       "<Figure size 576x288 with 1 Axes>"
      ]
     },
     "metadata": {
      "needs_background": "light"
     },
     "output_type": "display_data"
    }
   ],
   "source": [
    "fig, ax = plt.subplots(1, 1, figsize=(8, 4))\n",
    "\n",
    "for strain, strain_frequencies in frequency_arrays.items():\n",
    "    ax.plot(\n",
    "        pivots,\n",
    "        strain_frequencies,\n",
    "        alpha=0.5\n",
    "    )\n",
    "\n",
    "ax.set_xlabel(\"Date\")\n",
    "ax.set_ylabel(\"Frequency\")"
   ]
  },
  {
   "cell_type": "markdown",
   "id": "a0868368",
   "metadata": {},
   "source": [
    "## Estimate clade frequencies through time\n",
    "\n",
    "In practice, we care about the growth or decline of groups of strains that all share the same mutation(s), or _clades_. Clades are also represented as internal or ancestral nodes of a phylogeny. To calculate the frequencies of clades through time, we need to know which strains belong to each clade which is information provided by the original phylogeny. So, let's download the phylogenetic tree of the strains that we've loaded frequencies for."
   ]
  },
  {
   "cell_type": "code",
   "execution_count": 14,
   "id": "650802d9",
   "metadata": {},
   "outputs": [],
   "source": [
    "tree_json = requests.get(tree_url).json()"
   ]
  },
  {
   "cell_type": "markdown",
   "id": "51779344",
   "metadata": {},
   "source": [
    "On [nextstrain.org](https://nextstrain.org), the tree is a JSON file, but to work with the tree in Python, we need to convert the JSON to a BioPython tree data structure."
   ]
  },
  {
   "cell_type": "code",
   "execution_count": 15,
   "id": "042a34f7",
   "metadata": {},
   "outputs": [],
   "source": [
    "tree = json_to_tree(tree_json)"
   ]
  },
  {
   "cell_type": "markdown",
   "id": "c357f8dd",
   "metadata": {},
   "source": [
    "Every inferred ancestral node and observed strain in the tree is represented as a \"clade\" object with zero or more descendants. This means the root of the tree is a clade, too. Ancestral nodes get their own arbitrary names, so we can perform operations on specific nodes."
   ]
  },
  {
   "cell_type": "code",
   "execution_count": 16,
   "id": "ee7a3f45",
   "metadata": {},
   "outputs": [
    {
     "name": "stdout",
     "output_type": "stream",
     "text": [
      "Clade(branch_length=0, name='NODE_0003992')\n"
     ]
    }
   ],
   "source": [
    "print(repr(tree))"
   ]
  },
  {
   "cell_type": "markdown",
   "id": "3ee8f06d",
   "metadata": {},
   "source": [
    "Before we can inspect the frequency of clades over time, we need to calculate the frequency of each clade from its child strain frequencies. The frequency of any clade at a given time is the sum of its child strain frequencies at that time. We'll calculate these clade frequencies in a bottom-up approach, working from each tip up to the root of the tree. This is also known as a [postorder tree traversal](https://en.wikipedia.org/wiki/Tree_traversal#Post-order,_LRN)."
   ]
  },
  {
   "cell_type": "code",
   "execution_count": 23,
   "id": "b55f9a5c",
   "metadata": {},
   "outputs": [],
   "source": [
    "for node in tree.find_clades(order=\"postorder\"):\n",
    "    if node.is_terminal():\n",
    "        # We already know the frequencies of each terminal node, so\n",
    "        # store those frequencies with the corresponding node of the tree.\n",
    "        node.frequencies = frequency_arrays[node.name]\n",
    "    else:\n",
    "        # For each internal node, sum the frequencies of its immediate\n",
    "        # children. Since we are walking through the tree from the bottom\n",
    "        # up, each child node will always have frequencies calculated\n",
    "        # before its parent node.\n",
    "        node.frequencies = np.array([\n",
    "            child.frequencies\n",
    "            for child in node.clades\n",
    "        ]).sum(axis=0)"
   ]
  },
  {
   "cell_type": "markdown",
   "id": "a582c62b",
   "metadata": {},
   "source": [
    "The root node of the tree should always be at 100% frequency. We can see that this is generally true, within the bounds of some rounding error."
   ]
  },
  {
   "cell_type": "code",
   "execution_count": 24,
   "id": "e9214716",
   "metadata": {
    "scrolled": true
   },
   "outputs": [
    {
     "data": {
      "text/plain": [
       "array([0.999952, 1.000005, 0.999942, 1.00001 , 0.999957, 1.000053,\n",
       "       0.999891, 1.000104, 1.000017, 0.999953, 0.99999 , 0.999967,\n",
       "       0.99998 , 1.0001  , 0.999917, 0.999896, 0.999982, 1.000059,\n",
       "       0.999934, 1.000039, 1.000014, 1.000006, 0.999851, 0.999824,\n",
       "       0.999892, 0.999955, 0.999963, 0.999934, 0.99991 , 0.999896,\n",
       "       1.000004, 1.000043, 0.999907, 0.999965, 0.999963, 1.000016,\n",
       "       0.999914, 0.999951, 0.999976, 0.999918, 0.999966, 1.000042,\n",
       "       1.000051, 0.999691, 0.999814, 0.999834, 1.00004 , 0.999888,\n",
       "       0.999973, 0.999885, 0.999907, 0.999932, 0.999882, 0.999868,\n",
       "       0.999865, 0.999947, 0.999842, 0.99993 , 0.999973, 0.999795,\n",
       "       0.999872, 1.000021, 1.00004 , 0.999919, 1.000047, 0.999965,\n",
       "       0.999954, 0.99997 , 0.999948, 0.999948, 0.99997 ])"
      ]
     },
     "execution_count": 24,
     "metadata": {},
     "output_type": "execute_result"
    }
   ],
   "source": [
    "tree.root.frequencies"
   ]
  },
  {
   "cell_type": "markdown",
   "id": "effadac9",
   "metadata": {},
   "source": [
    "Now, we can investigate the frequency of different clades through time. In addition to strain names, each node of the tree also carries annotations like clade membership. We can use these annotations to identify the most ancestral node for each major clade. Then we can plot the frequencies of these clades through time."
   ]
  },
  {
   "cell_type": "code",
   "execution_count": 25,
   "id": "faa9931c",
   "metadata": {},
   "outputs": [],
   "source": [
    "clade_nodes_by_name = {}\n",
    "for node in tree.find_clades(terminal=False):\n",
    "    if \"clade_membership\" in node.node_attrs:\n",
    "        clade_name = node.node_attrs[\"clade_membership\"][\"value\"]\n",
    "\n",
    "        if clade_name not in clade_nodes_by_name:\n",
    "            clade_nodes_by_name[clade_name] = node"
   ]
  },
  {
   "cell_type": "markdown",
   "id": "b110950b",
   "metadata": {},
   "source": [
    "From the list below, we see that we found all major clades annotated in the tree."
   ]
  },
  {
   "cell_type": "code",
   "execution_count": 26,
   "id": "055d492e",
   "metadata": {},
   "outputs": [
    {
     "name": "stdout",
     "output_type": "stream",
     "text": [
      "dict_keys(['19A', '19B', '20A', '20C', '20G', '21H', '21F (Iota)', '21C (Epsilon)', '20H (Beta, V2)', '21B (Kappa)', '21A (Delta)', '21D (Eta)', '20E (EU1)', '20B', '20D', '21G (Lambda)', '20J (Gamma, V3)', '21E (Theta)', '20F', '20I (Alpha, V1)'])\n"
     ]
    }
   ],
   "source": [
    "print(clade_nodes_by_name.keys())"
   ]
  },
  {
   "cell_type": "markdown",
   "id": "7364539e",
   "metadata": {},
   "source": [
    "Let's plot the frequency of the clade 20A through time."
   ]
  },
  {
   "cell_type": "code",
   "execution_count": 27,
   "id": "cd0c8fbf",
   "metadata": {},
   "outputs": [
    {
     "data": {
      "text/plain": [
       "<matplotlib.legend.Legend at 0x1a318670f0>"
      ]
     },
     "execution_count": 27,
     "metadata": {},
     "output_type": "execute_result"
    },
    {
     "data": {
      "image/png": "[encoded data removed]",
      "text/plain": [
       "<Figure size 576x288 with 1 Axes>"
      ]
     },
     "metadata": {
      "needs_background": "light"
     },
     "output_type": "display_data"
    }
   ],
   "source": [
    "fig, ax = plt.subplots(1, 1, figsize=(8, 4))\n",
    "\n",
    "ax.plot(\n",
    "    pivots,\n",
    "    clade_nodes_by_name[\"21A (Delta)\"].frequencies,\n",
    "    label=\"21A (Delta)\"\n",
    ")\n",
    "\n",
    "ax.set_xlabel(\"Date\")\n",
    "ax.set_ylabel(\"Frequency\")\n",
    "\n",
    "ax.legend(frameon=False)"
   ]
  },
  {
   "cell_type": "markdown",
   "id": "525cf7ac",
   "metadata": {},
   "source": [
    "Now that we know what to expect, we can plot all clades at once."
   ]
  },
  {
   "cell_type": "code",
   "execution_count": 28,
   "id": "6d117c7c",
   "metadata": {},
   "outputs": [
    {
     "data": {
      "text/plain": [
       "<matplotlib.legend.Legend at 0x1a3181ea58>"
      ]
     },
     "execution_count": 28,
     "metadata": {},
     "output_type": "execute_result"
    },
    {
     "data": {
      "image/png": "[encoded data removed]",
      "text/plain": [
       "<Figure size 576x288 with 1 Axes>"
      ]
     },
     "metadata": {
      "needs_background": "light"
     },
     "output_type": "display_data"
    }
   ],
   "source": [
    "fig, ax = plt.subplots(1, 1, figsize=(8, 4))\n",
    "\n",
    "for clade_name, clade_node in clade_nodes_by_name.items():\n",
    "    ax.plot(\n",
    "        pivots,\n",
    "        clade_node.frequencies,\n",
    "        label=clade_name\n",
    "    )\n",
    "\n",
    "ax.set_xlabel(\"Date\")\n",
    "ax.set_ylabel(\"Frequency\")\n",
    "\n",
    "ax.legend(\n",
    "    frameon=False,\n",
    "    bbox_to_anchor=(1.05, 1),\n",
    "    loc='upper left',\n",
    "    borderaxespad=0.\n",
    ")"
   ]
  },
  {
   "cell_type": "markdown",
   "id": "f7012098",
   "metadata": {},
   "source": [
    "We can also investigate the frequencies of clades that carry a specific mutation. As an example, let's find all clades that carry the S:484K mutation. Each node in the tree also carries information about the mutations that occurred on the branch leading to that node."
   ]
  },
  {
   "cell_type": "code",
   "execution_count": 46,
   "id": "a8248a29",
   "metadata": {},
   "outputs": [
    {
     "data": {
      "text/plain": [
       "{'mutations': {}}"
      ]
     },
     "execution_count": 46,
     "metadata": {},
     "output_type": "execute_result"
    }
   ],
   "source": [
    "tree.root.clades[-1].branch_attrs"
   ]
  },
  {
   "cell_type": "markdown",
   "id": "18605756",
   "metadata": {},
   "source": [
    "Use this branch-specific information to find all ancestral nodes with a S:484K mutation on their preceding branch."
   ]
  },
  {
   "cell_type": "code",
   "execution_count": 34,
   "id": "113a2d76",
   "metadata": {},
   "outputs": [],
   "source": [
    "clade_nodes_with_3675del_by_name = {}\n",
    "for node in tree.find_clades(terminal=False):\n",
    "    if len(node.get_terminals())>=15:\n",
    "        if (hasattr(node, \"branch_attrs\") and\n",
    "            \"mutations\" in node.branch_attrs and \n",
    "            \"ORF1a\" in node.branch_attrs[\"mutations\"] and \n",
    "            any([mutation.endswith(\"3675-\") for mutation in node.branch_attrs[\"mutations\"][\"ORF1a\"]])):\n",
    "            if node.name not in clade_nodes_by_name:\n",
    "                clade_nodes_with_3675del_by_name[node.name] = node"
   ]
  },
  {
   "cell_type": "markdown",
   "id": "ec4eedf3",
   "metadata": {},
   "source": [
    "We found multiple clades with a S:484K mutation. Since these clades don't necessarily have official names, we will use their internal names for now. In practice, we may want to name these clades after the specific mutations on the branch leading to each clade."
   ]
  },
  {
   "cell_type": "code",
   "execution_count": 35,
   "id": "0caad71a",
   "metadata": {},
   "outputs": [
    {
     "name": "stdout",
     "output_type": "stream",
     "text": [
      "dict_keys(['NODE_0004363', 'NODE_0004416', 'NODE_0000152', 'NODE_0000031', 'NODE_0006885', 'NODE_0008062', 'NODE_0005215', 'NODE_0005404'])\n"
     ]
    }
   ],
   "source": [
    "print(clade_nodes_with_3675del_by_name.keys())"
   ]
  },
  {
   "cell_type": "markdown",
   "id": "3581fa36",
   "metadata": {},
   "source": [
    "Now, we can plot the frequencies of those clades."
   ]
  },
  {
   "cell_type": "code",
   "execution_count": 36,
   "id": "f043caf2",
   "metadata": {},
   "outputs": [
    {
     "data": {
      "text/plain": [
       "<matplotlib.legend.Legend at 0x1a313680f0>"
      ]
     },
     "execution_count": 36,
     "metadata": {},
     "output_type": "execute_result"
    },
    {
     "data": {
      "image/png": "[encoded data removed]",
      "text/plain": [
       "<Figure size 576x288 with 1 Axes>"
      ]
     },
     "metadata": {
      "needs_background": "light"
     },
     "output_type": "display_data"
    }
   ],
   "source": [
    "fig, ax = plt.subplots(1, 1, figsize=(8, 4))\n",
    "\n",
    "for clade_name, clade_node in clade_nodes_with_3675del_by_name.items():\n",
    "    ax.plot(\n",
    "        pivots,\n",
    "        clade_node.frequencies,\n",
    "        label=clade_name\n",
    "    )\n",
    "\n",
    "ax.set_xlabel(\"Date\")\n",
    "ax.set_ylabel(\"Frequency\")\n",
    "\n",
    "ax.legend(\n",
    "    frameon=False,\n",
    "    bbox_to_anchor=(1.05, 1),\n",
    "    loc='upper left',\n",
    "    borderaxespad=0.\n",
    ")"
   ]
  },
  {
   "cell_type": "code",
   "execution_count": 38,
   "id": "a24e0740",
   "metadata": {},
   "outputs": [
    {
     "name": "stdout",
     "output_type": "stream",
     "text": [
      "0.69355\n"
     ]
    }
   ],
   "source": [
    "freq_of_3675del = 0\n",
    "\n",
    "for clade_name, clade_node in clade_nodes_with_3675del_by_name.items():\n",
    "    most_recent_freq = clade_node.frequencies[-1]\n",
    "    freq_of_3675del+=most_recent_freq\n",
    "    \n",
    "print(freq_of_3675del)"
   ]
  },
  {
   "cell_type": "markdown",
   "id": "6b202924",
   "metadata": {},
   "source": [
    "## Calculate change in frequency over time per clade\n",
    "\n",
    "In addition to observing the frequencies of clades through time, we also want to calculate much each clade has changed in frequency recently. This measure is an indication of growth or decline. Rapidly growing clades may indicate potential variants of concern.\n",
    "\n",
    "We calculate frequencies at weekly intervals, such that \"pivots\" are spaced by one week. To find the change in frequency of clades over the last month, we need to compare the most recent frequency of each clade to the frequency four pivots previous. We'll calculate this change in frequency (or \"delta frequency\") for each major clade."
   ]
  },
  {
   "cell_type": "code",
   "execution_count": 50,
   "id": "4b0b927f",
   "metadata": {},
   "outputs": [],
   "source": [
    "delta_frequencies = []\n",
    "for clade_name, clade_node in clade_nodes_by_name.items():\n",
    "    delta_frequency = clade_node.frequencies[-1] - clade_node.frequencies[-5]\n",
    "    delta_frequencies.append({\n",
    "        \"clade_name\": clade_name,\n",
    "        \"delta_frequency\": delta_frequency\n",
    "    })"
   ]
  },
  {
   "cell_type": "markdown",
   "id": "81024025",
   "metadata": {},
   "source": [
    "Convert the delta frequencies to a pandas DataFrame for easily manipulation and visualization."
   ]
  },
  {
   "cell_type": "code",
   "execution_count": 51,
   "id": "09a2727b",
   "metadata": {},
   "outputs": [],
   "source": [
    "delta_frequencies_df = pd.DataFrame(delta_frequencies)"
   ]
  },
  {
   "cell_type": "markdown",
   "id": "62ed8c18",
   "metadata": {},
   "source": [
    "List clades by change in frequency in descending order."
   ]
  },
  {
   "cell_type": "code",
   "execution_count": 52,
   "id": "34327303",
   "metadata": {},
   "outputs": [
    {
     "data": {
      "text/html": [
       "<div>\n",
       "<style scoped>\n",
       "    .dataframe tbody tr th:only-of-type {\n",
       "        vertical-align: middle;\n",
       "    }\n",
       "\n",
       "    .dataframe tbody tr th {\n",
       "        vertical-align: top;\n",
       "    }\n",
       "\n",
       "    .dataframe thead th {\n",
       "        text-align: right;\n",
       "    }\n",
       "</style>\n",
       "<table border=\"1\" class=\"dataframe\">\n",
       "  <thead>\n",
       "    <tr style=\"text-align: right;\">\n",
       "      <th></th>\n",
       "      <th>clade_name</th>\n",
       "      <th>delta_frequency</th>\n",
       "    </tr>\n",
       "  </thead>\n",
       "  <tbody>\n",
       "    <tr>\n",
       "      <th>9</th>\n",
       "      <td>20I/501Y.V1</td>\n",
       "      <td>0.152523</td>\n",
       "    </tr>\n",
       "    <tr>\n",
       "      <th>7</th>\n",
       "      <td>20B</td>\n",
       "      <td>0.073556</td>\n",
       "    </tr>\n",
       "    <tr>\n",
       "      <th>2</th>\n",
       "      <td>20A</td>\n",
       "      <td>0.006957</td>\n",
       "    </tr>\n",
       "    <tr>\n",
       "      <th>0</th>\n",
       "      <td>19A</td>\n",
       "      <td>0.000077</td>\n",
       "    </tr>\n",
       "    <tr>\n",
       "      <th>10</th>\n",
       "      <td>20F</td>\n",
       "      <td>0.000000</td>\n",
       "    </tr>\n",
       "    <tr>\n",
       "      <th>11</th>\n",
       "      <td>20J/501Y.V3</td>\n",
       "      <td>-0.002099</td>\n",
       "    </tr>\n",
       "    <tr>\n",
       "      <th>1</th>\n",
       "      <td>19B</td>\n",
       "      <td>-0.006255</td>\n",
       "    </tr>\n",
       "    <tr>\n",
       "      <th>6</th>\n",
       "      <td>20H/501Y.V2</td>\n",
       "      <td>-0.010157</td>\n",
       "    </tr>\n",
       "    <tr>\n",
       "      <th>5</th>\n",
       "      <td>20G</td>\n",
       "      <td>-0.013409</td>\n",
       "    </tr>\n",
       "    <tr>\n",
       "      <th>4</th>\n",
       "      <td>20C</td>\n",
       "      <td>-0.016833</td>\n",
       "    </tr>\n",
       "    <tr>\n",
       "      <th>3</th>\n",
       "      <td>20E (EU1)</td>\n",
       "      <td>-0.021548</td>\n",
       "    </tr>\n",
       "    <tr>\n",
       "      <th>8</th>\n",
       "      <td>20D</td>\n",
       "      <td>-0.022156</td>\n",
       "    </tr>\n",
       "  </tbody>\n",
       "</table>\n",
       "</div>"
      ],
      "text/plain": [
       "     clade_name  delta_frequency\n",
       "9   20I/501Y.V1         0.152523\n",
       "7           20B         0.073556\n",
       "2           20A         0.006957\n",
       "0           19A         0.000077\n",
       "10          20F         0.000000\n",
       "11  20J/501Y.V3        -0.002099\n",
       "1           19B        -0.006255\n",
       "6   20H/501Y.V2        -0.010157\n",
       "5           20G        -0.013409\n",
       "4           20C        -0.016833\n",
       "3     20E (EU1)        -0.021548\n",
       "8           20D        -0.022156"
      ]
     },
     "execution_count": 52,
     "metadata": {},
     "output_type": "execute_result"
    }
   ],
   "source": [
    "delta_frequencies_df.sort_values(\"delta_frequency\", ascending=False)"
   ]
  },
  {
   "cell_type": "code",
   "execution_count": null,
   "id": "01645411",
   "metadata": {},
   "outputs": [],
   "source": []
  }
 ],
 "metadata": {
  "kernelspec": {
   "display_name": "ncov-kernel",
   "language": "python",
   "name": "ncov-kernel"
  },
  "language_info": {
   "codemirror_mode": {
    "name": "ipython",
    "version": 3
   },
   "file_extension": ".py",
   "mimetype": "text/x-python",
   "name": "python",
   "nbconvert_exporter": "python",
   "pygments_lexer": "ipython3",
   "version": "3.6.13"
  }
 },
 "nbformat": 4,
 "nbformat_minor": 5
}
