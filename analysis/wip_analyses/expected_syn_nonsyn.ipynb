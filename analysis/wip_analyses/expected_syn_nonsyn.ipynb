{
 "cells": [
  {
   "cell_type": "code",
   "execution_count": 2,
   "id": "29897c71",
   "metadata": {},
   "outputs": [],
   "source": [
    "from Bio import SeqIO\n",
    "from Bio.Seq import Seq\n",
    "from itertools import combinations"
   ]
  },
  {
   "cell_type": "code",
   "execution_count": 12,
   "id": "39975dfa",
   "metadata": {},
   "outputs": [],
   "source": [
    "nucleotides = ['A', 'C', 'G', 'T']\n",
    "\n",
    "codons = []\n",
    "for x in nucleotides:\n",
    "    for y in nucleotides:\n",
    "        for z in nucleotides:\n",
    "            codon = f'{x}{y}{z}'\n",
    "            codons.append(codon)\n",
    "            "
   ]
  },
  {
   "cell_type": "markdown",
   "id": "62a644dc",
   "metadata": {},
   "source": [
    "Expectation of synonymous:nonsynonymous mutations based on all possible codons"
   ]
  },
  {
   "cell_type": "code",
   "execution_count": 17,
   "id": "60a61899",
   "metadata": {},
   "outputs": [],
   "source": [
    "syn = 0\n",
    "nonsyn = 0\n",
    "for codon in codons:\n",
    "    codon_aa = Seq(codon).translate()\n",
    "    \n",
    "    for pos in range(len(codon)):\n",
    "        nt_at_pos = codon[pos]\n",
    "        for x in nucleotides:\n",
    "            if x !=nt_at_pos:\n",
    "                mutated_codon = list(codon)\n",
    "                mutated_codon[pos] = x\n",
    "                mutated_codon = \"\".join(mutated_codon)\n",
    "                mutated_codon_aa = Seq(mutated_codon).translate()\n",
    "                \n",
    "                if mutated_codon_aa == codon_aa:\n",
    "                    syn+=1\n",
    "                elif mutated_codon_aa != codon_aa:\n",
    "                    nonsyn+=1\n"
   ]
  },
  {
   "cell_type": "code",
   "execution_count": 19,
   "id": "699d29cf",
   "metadata": {},
   "outputs": [
    {
     "name": "stdout",
     "output_type": "stream",
     "text": [
      "138 438\n"
     ]
    }
   ],
   "source": [
    "print(syn, nonsyn)"
   ]
  },
  {
   "cell_type": "markdown",
   "id": "629ba5e5",
   "metadata": {},
   "source": [
    "Expectation of synonymous:nonsynonymous mutations based on actual codons in S1"
   ]
  },
  {
   "cell_type": "code",
   "execution_count": 11,
   "id": "c6a16be0",
   "metadata": {},
   "outputs": [],
   "source": [
    "# find identity of all codons in reference S1 sequence\n",
    "for record in SeqIO.parse(open(\"../reference_seq_edited.gb\",\"r\"), \"genbank\"):\n",
    "    genome_seq = record.seq\n",
    "    for feature in record.features:\n",
    "        if feature.type == 'CDS':\n",
    "            if feature.qualifiers['gene'][0] == 'S1':\n",
    "                s1_seq = str(feature.location.extract(record.seq))\n",
    "                s1_codons = [s1_seq[i:i+3] for i in range(0, len(s1_seq), 3)]\n",
    "                "
   ]
  },
  {
   "cell_type": "code",
   "execution_count": 14,
   "id": "483880b1",
   "metadata": {},
   "outputs": [],
   "source": [
    "s1_syn = 0\n",
    "s1_nonsyn = 0\n",
    "for codon in s1_codons:\n",
    "    codon_aa = Seq(codon).translate()\n",
    "    \n",
    "    for pos in range(len(codon)):\n",
    "        nt_at_pos = codon[pos]\n",
    "        for x in nucleotides:\n",
    "            if x !=nt_at_pos:\n",
    "                mutated_codon = list(codon)\n",
    "                mutated_codon[pos] = x\n",
    "                mutated_codon = \"\".join(mutated_codon)\n",
    "                mutated_codon_aa = Seq(mutated_codon).translate()\n",
    "                \n",
    "                if mutated_codon_aa == codon_aa:\n",
    "                    s1_syn+=1\n",
    "                elif mutated_codon_aa != codon_aa:\n",
    "                    s1_nonsyn+=1"
   ]
  },
  {
   "cell_type": "code",
   "execution_count": 15,
   "id": "5feac384",
   "metadata": {},
   "outputs": [
    {
     "name": "stdout",
     "output_type": "stream",
     "text": [
      "1355 4702\n"
     ]
    }
   ],
   "source": [
    "print(s1_syn, s1_nonsyn)"
   ]
  }
 ],
 "metadata": {
  "kernelspec": {
   "display_name": "ncov-kernel",
   "language": "python",
   "name": "ncov-kernel"
  },
  "language_info": {
   "codemirror_mode": {
    "name": "ipython",
    "version": 3
   },
   "file_extension": ".py",
   "mimetype": "text/x-python",
   "name": "python",
   "nbconvert_exporter": "python",
   "pygments_lexer": "ipython3",
   "version": "3.6.13"
  }
 },
 "nbformat": 4,
 "nbformat_minor": 5
}
