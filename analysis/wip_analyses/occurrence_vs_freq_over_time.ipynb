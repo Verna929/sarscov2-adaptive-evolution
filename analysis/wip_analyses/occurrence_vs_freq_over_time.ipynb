{
 "cells": [
  {
   "cell_type": "code",
   "execution_count": 29,
   "id": "80069d02",
   "metadata": {},
   "outputs": [],
   "source": [
    "from augur.utils import json_to_tree\n",
    "import matplotlib.pyplot as plt\n",
    "import seaborn as sns\n",
    "import numpy as np\n",
    "import pandas as pd\n",
    "import requests\n",
    "import json"
   ]
  },
  {
   "cell_type": "code",
   "execution_count": 10,
   "id": "60c5a57d",
   "metadata": {},
   "outputs": [],
   "source": [
    "def tree_and_freqs_at_date(date):\n",
    "    tree_url = f'https://nextstrain-blab.s3.amazonaws.com/ncov_adaptive-evolution_{date}.json'\n",
    "\n",
    "    tree_json = requests.get(tree_url).json()\n",
    "\n",
    "    #Put tree in Bio.Phylo format\n",
    "    tree = json_to_tree(tree_json)\n",
    "\n",
    "    with open(f'../ncov-workflow/auspice/ncov_adaptive-evolution_{date}_tip-frequencies.json') as f:\n",
    "        frequencies = json.load(f)\n",
    "        \n",
    "    pivots = np.array(frequencies.pop(\"pivots\"))\n",
    "    \n",
    "    \n",
    "    frequency_arrays = {\n",
    "        strain: np.array(strain_frequencies[\"frequencies\"])\n",
    "        for strain, strain_frequencies in frequencies.items()\n",
    "        if \"frequencies\" in strain_frequencies\n",
    "    }\n",
    "    \n",
    "    # add clade frequencies as an attribute of node\n",
    "    for node in tree.find_clades(order=\"postorder\"):\n",
    "        if node.is_terminal():\n",
    "            # We already know the frequencies of each terminal node, so\n",
    "            # store those frequencies with the corresponding node of the tree.\n",
    "            node.frequencies = frequency_arrays[node.name]\n",
    "        else:\n",
    "            # For each internal node, sum the frequencies of its immediate\n",
    "            # children. Since we are walking through the tree from the bottom\n",
    "            # up, each child node will always have frequencies calculated\n",
    "            # before its parent node.\n",
    "            node.frequencies = np.array([\n",
    "                child.frequencies\n",
    "                for child in node.clades\n",
    "            ]).sum(axis=0)\n",
    "        \n",
    "    return tree, frequencies, pivots"
   ]
  },
  {
   "cell_type": "code",
   "execution_count": 27,
   "id": "1d192f7e",
   "metadata": {},
   "outputs": [],
   "source": [
    "def freq_of_mut(tree, mutation):\n",
    "    \"\"\"\n",
    "    Find the most recent frequency of all clades with given mutation. Return the sum of all frequencies \n",
    "    (to give the frequency of the mutation on the whole tree at this time point)\n",
    "    \"\"\"\n",
    "    \n",
    "    gene = mutation.split(':')[0]\n",
    "    mut = mutation.split(':')[1]\n",
    "    \n",
    "    clade_nodes_by_name = {}\n",
    "    for node in tree.find_clades(terminal=False):\n",
    "        if \"clade_membership\" in node.node_attrs:\n",
    "            clade_name = node.node_attrs[\"clade_membership\"][\"value\"]\n",
    "\n",
    "            if clade_name not in clade_nodes_by_name:\n",
    "                clade_nodes_by_name[clade_name] = node\n",
    "\n",
    "    clade_nodes_with_mut_by_name = {}\n",
    "    # only consider mutations occurring on internal branches with at least 15 descendents\n",
    "    for node in tree.find_clades(terminal=False):\n",
    "        if len(node.get_terminals())>=15:\n",
    "            if (hasattr(node, \"branch_attrs\") and\n",
    "                \"mutations\" in node.branch_attrs and \n",
    "                gene in node.branch_attrs[\"mutations\"] and \n",
    "                any([mutation.endswith(mut) for mutation in node.branch_attrs[\"mutations\"][gene]])):\n",
    "                if node.name not in clade_nodes_by_name:\n",
    "                    clade_nodes_with_mut_by_name[node.name] = node\n",
    "                    \n",
    "    # find number of occurrences\n",
    "    num_occurrences = len(clade_nodes_with_mut_by_name)\n",
    "    # find frequency of mut at most recent point               \n",
    "    mut_frequency = 0\n",
    "\n",
    "    for clade_name, clade_node in clade_nodes_with_mut_by_name.items():\n",
    "        most_recent_freq = clade_node.frequencies[-1]\n",
    "        mut_frequency+=most_recent_freq\n",
    "        \n",
    "    return num_occurrences, mut_frequency"
   ]
  },
  {
   "cell_type": "code",
   "execution_count": 43,
   "id": "93788693",
   "metadata": {},
   "outputs": [],
   "source": [
    "def mut_freq_over_time(dates, mutations):\n",
    "    \n",
    "    mut_info_over_time = []\n",
    "    \n",
    "    for date in dates:\n",
    "        for mutation in mutations:\n",
    "            tree, frequencies, pivots = tree_and_freqs_at_date(date)\n",
    "            num_occurrences, mut_frequency = freq_of_mut(tree, mutation)\n",
    "            mut_info_over_time.append({'date': date, 'mutation':mutation, 'num_occurrences': num_occurrences, \n",
    "                                       'frequency': mut_frequency})\n",
    "        \n",
    "    df = pd.DataFrame(mut_info_over_time)\n",
    "    \n",
    "    cmap= {'S:501Y':'green', 'ORF1a:3675-':'orange', 'ORF1a:3255I':'blue', \n",
    "           'S:452R':'red', 'S:681H':'purple', 'S:484K':'yellow', 'S:95I':'pink'}\n",
    "    \n",
    "    g = sns.FacetGrid(df, hue=\"mutation\", size=8, palette=cmap)\n",
    "    g.map(plt.scatter, 'num_occurrences', 'frequency')\n",
    "    g.map(plt.plot, 'num_occurrences', 'frequency')\n",
    "\n",
    "#     sns.scatterplot(x='num_occurrences', y='frequency', hue='mutation', data=df)\n",
    "\n",
    "#     for mut in mutations:\n",
    "#         plt.plot('num_occurrences', 'frequency', data=df[df['mutation']==mut], marker='o', \n",
    "#                  ax=ax, color = cmap[mut])"
   ]
  },
  {
   "cell_type": "code",
   "execution_count": 42,
   "id": "b5d42b1c",
   "metadata": {},
   "outputs": [
    {
     "name": "stderr",
     "output_type": "stream",
     "text": [
      "/Users/katekistler/anaconda3/envs/ncov/lib/python3.6/site-packages/seaborn/axisgrid.py:316: UserWarning: The `size` parameter has been renamed to `height`; please update your code.\n",
      "  warnings.warn(msg, UserWarning)\n"
     ]
    },
    {
     "data": {
      "image/png": "[encoded data removed]",
      "text/plain": [
       "<Figure size 576x576 with 1 Axes>"
      ]
     },
     "metadata": {
      "needs_background": "light"
     },
     "output_type": "display_data"
    }
   ],
   "source": [
    "mut_freq_over_time(['2021-04-15','2021-05-01', '2021-05-15', '2021-06-01', '2021-06-15'], \n",
    "                   ['S:501Y', 'ORF1a:3675-', 'ORF1a:3255I', 'S:452R', 'S:681H', 'S:484K', 'S:95I'])"
   ]
  },
  {
   "cell_type": "code",
   "execution_count": null,
   "id": "ce897bfe",
   "metadata": {},
   "outputs": [],
   "source": []
  },
  {
   "cell_type": "code",
   "execution_count": null,
   "id": "1199796b",
   "metadata": {},
   "outputs": [],
   "source": []
  },
  {
   "cell_type": "code",
   "execution_count": null,
   "id": "e39b7227",
   "metadata": {},
   "outputs": [],
   "source": []
  }
 ],
 "metadata": {
  "kernelspec": {
   "display_name": "ncov-kernel",
   "language": "python",
   "name": "ncov-kernel"
  },
  "language_info": {
   "codemirror_mode": {
    "name": "ipython",
    "version": 3
   },
   "file_extension": ".py",
   "mimetype": "text/x-python",
   "name": "python",
   "nbconvert_exporter": "python",
   "pygments_lexer": "ipython3",
   "version": "3.6.13"
  }
 },
 "nbformat": 4,
 "nbformat_minor": 5
}
