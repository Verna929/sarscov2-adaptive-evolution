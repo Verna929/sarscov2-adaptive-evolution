{
 "cells": [
  {
   "cell_type": "code",
   "execution_count": 1,
   "id": "94a08059",
   "metadata": {},
   "outputs": [],
   "source": [
    "from augur.utils import json_to_tree\n",
    "import matplotlib.pyplot as plt\n",
    "import matplotlib.patches as patches\n",
    "import matplotlib.gridspec as gridspec\n",
    "import seaborn as sns\n",
    "from scipy import stats\n",
    "import numpy as np\n",
    "import pandas as pd\n",
    "from Bio import SeqIO\n",
    "from Bio.Seq import Seq\n",
    "from Bio.Seq import MutableSeq\n",
    "from collections import Counter\n",
    "import requests\n",
    "import random\n",
    "import math\n",
    "import json\n",
    "from scipy import stats"
   ]
  },
  {
   "cell_type": "code",
   "execution_count": 2,
   "id": "e616b839",
   "metadata": {},
   "outputs": [],
   "source": [
    "tree_url = 'https://nextstrain-blab.s3.amazonaws.com/ncov_adaptive-evolution_2021-05-15.json'\n",
    "\n",
    "tree_json = requests.get(tree_url).json()\n",
    "\n",
    "#Put tree in Bio.Phylo format\n",
    "tree = json_to_tree(tree_json)"
   ]
  },
  {
   "cell_type": "code",
   "execution_count": 3,
   "id": "bf0faf8c",
   "metadata": {},
   "outputs": [],
   "source": [
    "#Function to find path from root to clade\n",
    "def get_parent(tree, child_clade):\n",
    "    node_path = tree.get_path(child_clade)\n",
    "    return node_path"
   ]
  },
  {
   "cell_type": "code",
   "execution_count": 4,
   "id": "8d7254b3",
   "metadata": {},
   "outputs": [],
   "source": [
    "def consolidate_deletions(mutation_list):\n",
    "    \"\"\"\n",
    "    For deletion mutations, consider adjacent sites as part of the same deletion\n",
    "    \"\"\"\n",
    "    \n",
    "    without_deletions = [x for x in mutation_list if x[-1]!='-' and x[0]!='-']\n",
    "    #consolidate deletions and reversions\n",
    "    deletions_only = [x for x in mutation_list if x[-1]=='-' or x[0]=='-']\n",
    "    deletions_only.sort(key=lambda x:x[1:-1])\n",
    "    \n",
    "    \n",
    "    #keep track of start of separate deletions\n",
    "    separate_deletions = []\n",
    "\n",
    "    # if there are deletions, count a run of consecutive sites as a single deletion/mutation\n",
    "    if len(deletions_only) != 0:\n",
    "        separate_deletions.append(deletions_only[0])\n",
    "\n",
    "        deletion_tracker = int(deletions_only[0][1:-1])\n",
    "        \n",
    "        for deletion in deletions_only[1:]:\n",
    "\n",
    "            deleted_pos = int(deletion[1:-1])\n",
    "            if deleted_pos == deletion_tracker+1:\n",
    "                pass\n",
    "            else:\n",
    "                separate_deletions.append(deletion)\n",
    "            deletion_tracker = deleted_pos\n",
    "    \n",
    "    consolidated_mutation_list = separate_deletions + without_deletions\n",
    "            \n",
    "    return consolidated_mutation_list"
   ]
  },
  {
   "cell_type": "code",
   "execution_count": 6,
   "id": "31cd9bea",
   "metadata": {},
   "outputs": [
    {
     "name": "stderr",
     "output_type": "stream",
     "text": [
      "/Users/katekistler/anaconda3/envs/ncov/lib/python3.6/site-packages/Bio/Seq.py:2859: BiopythonWarning: Partial codon, len(sequence) not a multiple of three. Explicitly trim the sequence or add trailing N before translation. This may become an error in future.\n",
      "  BiopythonWarning,\n"
     ]
    }
   ],
   "source": [
    "# make dictionary with gene name as key and reference sequence of that gene as value\n",
    "reference_sequence_aa = {}\n",
    "reference_sequence_nt = {}\n",
    "\n",
    "\n",
    "# make dictionary giving gene by genomic location \n",
    "reference_gene_locations = {}\n",
    "\n",
    "# make dictionary saying what codon within the gene a certain genomic location falls within\n",
    "# and whether the mutation is at pos 0, 1 or 2 within codon\n",
    "reference_gene_codon = {}\n",
    "\n",
    "for record in SeqIO.parse(open(\"../reference_seq_edited.gb\",\"r\"), \"genbank\"):\n",
    "    genome_seq = record.seq\n",
    "    for feature in record.features:\n",
    "        if feature.type == 'CDS':\n",
    "            # allow RdRp to overwrite Orf1a and Orf1b, \n",
    "            # to take care of changed reading frame due to  ribosome slippage\n",
    "            # S1 and S2 will also overwrite spike\n",
    "            for pos in range(int(feature.location.start), int(feature.location.end)):\n",
    "                reference_gene_locations[pos] = feature.qualifiers['gene'][0]\n",
    "                codon_num = math.floor((pos-feature.location.start)/3)\n",
    "                pos_in_codon = ((pos-feature.location.start)-codon_num*3)\n",
    "                reference_gene_codon[pos] = (codon_num, pos_in_codon)\n",
    "                \n",
    "            gene_seq = feature.location.extract(record.seq)\n",
    "            reference_sequence_nt[feature.qualifiers['gene'][0]] = gene_seq\n",
    "            gene_seq_aa = gene_seq.translate()\n",
    "            reference_sequence_aa[feature.qualifiers['gene'][0]] = gene_seq_aa"
   ]
  },
  {
   "cell_type": "code",
   "execution_count": 7,
   "id": "459544b0",
   "metadata": {},
   "outputs": [],
   "source": [
    "# make dictionary with length of each gene\n",
    "gene_lengths_aa = {k:len(v) for k,v in reference_sequence_aa.items()}\n",
    "gene_lengths_aa['Nsp6'] = 290\n",
    "gene_lengths_aa['Nsp4'] = 485"
   ]
  },
  {
   "cell_type": "code",
   "execution_count": 8,
   "id": "5c95fbd6",
   "metadata": {},
   "outputs": [],
   "source": [
    "def nuc_changes_from_reference(muts_on_path):\n",
    "    \"\"\"\n",
    "    From all the of the nucleotide changes that have occurred on the path from root to branch, \n",
    "    find the most recent nuc mutation at each site (giving the genotype at the branch)\n",
    "    \"\"\"\n",
    "    \n",
    "    final_muts_from_ref = {}\n",
    "\n",
    "    # overwrites genotypes at pos in historical order\n",
    "    for x in muts_on_path:\n",
    "        x_pos = int(x[1:-1])\n",
    "        final_muts_from_ref[x_pos] = x[-1]\n",
    "        \n",
    "\n",
    "    return final_muts_from_ref"
   ]
  },
  {
   "cell_type": "code",
   "execution_count": 9,
   "id": "d6d34880",
   "metadata": {},
   "outputs": [],
   "source": [
    "def determine_synonymous(nuc_muts_on_branch, parent_diffs_from_ref):\n",
    "    \n",
    "    parent_diffs_pos = [int(k) for k,v in parent_diffs_from_ref.items()]\n",
    "\n",
    "    \n",
    "    # make dictionary of synonymous (and noncoding) mutations to add to tree\n",
    "    syn_muts = {}\n",
    "    \n",
    "    # don't care about deletions because they are obviously not synonymous\n",
    "    for mut in nuc_muts_on_branch:\n",
    "        if mut[-1]!= '-' and mut[0]!='-':\n",
    "            mut_pos = int(mut[1:-1])\n",
    "            # find what gene this mut happens in\n",
    "            if (mut_pos-1) in reference_gene_locations.keys():\n",
    "                mut_gene = reference_gene_locations[mut_pos-1]\n",
    "                mut_codon_num = reference_gene_codon[mut_pos-1][0]\n",
    "                mut_codon_pos = reference_gene_codon[mut_pos-1][1]\n",
    "                \n",
    "                # find the reference sequence of the codon this mutation occurs in\n",
    "                codon_ref_aa = reference_sequence_aa[mut_gene][mut_codon_num]\n",
    "                \n",
    "                codon_ref_nt = reference_sequence_nt[mut_gene][(mut_codon_num*3):(mut_codon_num*3+3)]\n",
    "                \n",
    "                # check if a mutation occurred within the same codon in a parent\n",
    "                # and if so, change the reference codon sequence accordingly, \n",
    "                # to tell whether the mutation at this branch is synonymous or not\n",
    "                codon_genome_pos = list(range((mut_pos-1-mut_codon_pos),(mut_pos-1-mut_codon_pos+3)))\n",
    "                \n",
    "                parent_codon = codon_ref_nt\n",
    "                for parent_diff in parent_diffs_pos:\n",
    "                    parent_diff_zero_based = parent_diff-1\n",
    "                    if parent_diff_zero_based in codon_genome_pos:\n",
    "                        parent_diff_pos = codon_genome_pos.index(parent_diff_zero_based)\n",
    "                        parent_codon = MutableSeq(str(codon_ref_nt))\n",
    "                        parent_codon[parent_diff_pos] = parent_diffs_from_ref[parent_diff]\n",
    "                        parent_codon = parent_codon.toseq()\n",
    "                \n",
    "                \n",
    "                codon_mutated = MutableSeq(str(parent_codon))\n",
    "                #if deletion (or seq error) has happened at neighboring nucleotide\n",
    "                if '-' in codon_mutated:\n",
    "                    pass\n",
    "                else:\n",
    "                    codon_mutated[mut_codon_pos] = mut[-1]\n",
    "                    codon_mutated = codon_mutated.toseq()\n",
    "                    codon_mutated_translation = codon_mutated.translate()\n",
    "\n",
    "                    if str(codon_ref_aa) == str(codon_mutated_translation):\n",
    "                        if mut_gene in syn_muts.keys():\n",
    "                            syn_muts[mut_gene] += [mut]\n",
    "                        else:\n",
    "                            syn_muts[mut_gene] = [mut]\n",
    "                        \n",
    "                \n",
    "\n",
    "            else:\n",
    "                if 'noncoding' in syn_muts.keys():\n",
    "                    syn_muts['noncoding'] += [mut]\n",
    "                else:\n",
    "                    syn_muts['noncoding'] = [mut]\n",
    "                    \n",
    "    return syn_muts"
   ]
  },
  {
   "cell_type": "code",
   "execution_count": 10,
   "id": "ce2bac4e",
   "metadata": {},
   "outputs": [],
   "source": [
    "def add_syn_mut_attribute(tree):\n",
    "    \n",
    "    for node in tree.find_clades():\n",
    "\n",
    "        node.node_attrs['syn_muts'] = {}\n",
    "\n",
    "        # only care if this branch has some nucleotide mutations\n",
    "        if hasattr(node, 'branch_attrs'):\n",
    "            if 'nuc' in node.branch_attrs['mutations']:\n",
    "\n",
    "                nuc_muts_on_branch = node.branch_attrs['mutations']['nuc']\n",
    "\n",
    "                node_path = get_parent(tree, node)\n",
    "\n",
    "                nucleotide_mut_path = []\n",
    "\n",
    "                # find all nucleotide mutations that happened in parents, \n",
    "                # in case they affect codons mutated on this branch\n",
    "                for parent in node_path[-1]:\n",
    "                    if hasattr(parent, 'branch_attrs'):\n",
    "                        if 'nuc' in parent.branch_attrs['mutations']:\n",
    "                            nucleotide_mut_path+=parent.branch_attrs['mutations']['nuc']\n",
    "\n",
    "                parent_diffs_from_ref = nuc_changes_from_reference(nucleotide_mut_path)\n",
    "\n",
    "                syn_muts_dict = determine_synonymous(nuc_muts_on_branch, parent_diffs_from_ref)\n",
    "\n",
    "                node.node_attrs['syn_muts'] = syn_muts_dict\n"
   ]
  },
  {
   "cell_type": "code",
   "execution_count": 11,
   "id": "6ec78289",
   "metadata": {},
   "outputs": [],
   "source": [
    "add_syn_mut_attribute(tree)"
   ]
  },
  {
   "cell_type": "code",
   "execution_count": 12,
   "id": "bb4b7d9e",
   "metadata": {},
   "outputs": [],
   "source": [
    "for node in tree.find_clades(terminal=False):\n",
    "\n",
    "    node.s1_nonsyn_at_node = 0\n",
    "    node.s1_syn_at_node = 0\n",
    "    node.rdrp_nonsyn_at_node = 0\n",
    "    node.rdrp_syn_at_node = 0\n",
    "\n",
    "    if hasattr(node, \"node_attrs\") and 'S1' in node.node_attrs['syn_muts']:\n",
    "        node.s1_syn_at_node = len(node.node_attrs['syn_muts']['S1'])\n",
    "    if hasattr(node, \"node_attrs\") and 'RdRp' in node.node_attrs['syn_muts']:\n",
    "        node.rdrp_syn_at_node = len(node.node_attrs['syn_muts']['RdRp'])\n",
    "\n",
    "\n",
    "    if hasattr(node, 'branch_attrs'):\n",
    "\n",
    "        s1_nonsyn_at_this_node = []\n",
    "        if \"S\" in node.branch_attrs[\"mutations\"]:\n",
    "            for mut in node.branch_attrs[\"mutations\"][\"S\"]:\n",
    "                if int(mut[1:-1]) in range(14,686):\n",
    "                    s1_nonsyn_at_this_node.append(mut)\n",
    "\n",
    "        s1_consolidated = consolidate_deletions(s1_nonsyn_at_this_node)\n",
    "        node.s1_nonsyn_at_node = len(s1_consolidated)\n",
    "\n",
    "\n",
    "\n",
    "        rdrp_nonsyn_at_this_node = []\n",
    "        if \"ORF1a\" in node.branch_attrs[\"mutations\"]:\n",
    "            for mut in node.branch_attrs[\"mutations\"][\"ORF1a\"]:\n",
    "                if int(mut[1:-1]) in range(4492,4401):\n",
    "                    rdrp_nonsyn_at_this_node.append(mut)\n",
    "\n",
    "\n",
    "        if \"ORF1b\" in node.branch_attrs[\"mutations\"]:\n",
    "            for mut in node.branch_attrs[\"mutations\"][\"ORF1b\"]:\n",
    "                if int(mut[1:-1]) in range(1,923):\n",
    "                    rdrp_nonsyn_at_this_node.append(mut)\n",
    "\n",
    "        rdrp_consolidated = consolidate_deletions(rdrp_nonsyn_at_this_node)\n",
    "        node.rdrp_nonsyn_at_node = len(rdrp_consolidated)\n"
   ]
  },
  {
   "cell_type": "code",
   "execution_count": 13,
   "id": "ea0ebc68",
   "metadata": {
    "scrolled": true
   },
   "outputs": [
    {
     "name": "stdout",
     "output_type": "stream",
     "text": [
      "Nodes with S1 nonsyn mutations: 419\n",
      "Total number of S1 nonsyn mutations: 516\n",
      "Nodes with S1 syn mutations: 202\n",
      "Total number of S1 syn mutations: 208\n",
      "Nodes with RdRp mutations: 178\n",
      "Total number of RdRp mutations: 187\n",
      "Nodes with RdRp syn mutations: 138\n",
      "Total number of RdRp syn mutations: 144\n",
      "Time window: 2019.982929101653-2021.3404645014461\n"
     ]
    }
   ],
   "source": [
    "# find number of nodes that have S1 mutations\n",
    "# consider only internal branches\n",
    "nodes_with_s1_nonsyn = 0\n",
    "total_s1_nonsyn = 0\n",
    "nodes_with_s1_syn = 0\n",
    "total_s1_syn = 0\n",
    "\n",
    "for node in tree.find_clades(terminal=False):\n",
    "    if node.name != 'USA/OR-OSPHL00881/2021':\n",
    "        if node.s1_nonsyn_at_node!= 0:\n",
    "            nodes_with_s1_nonsyn+=1\n",
    "            total_s1_nonsyn += node.s1_nonsyn_at_node\n",
    "        if node.s1_syn_at_node!=0:\n",
    "            nodes_with_s1_syn+=1\n",
    "            total_s1_syn += node.s1_syn_at_node\n",
    "        \n",
    "        \n",
    "print(f'Nodes with S1 nonsyn mutations: {nodes_with_s1_nonsyn}')\n",
    "print(f'Total number of S1 nonsyn mutations: {total_s1_nonsyn}')\n",
    "print(f'Nodes with S1 syn mutations: {nodes_with_s1_syn}')\n",
    "print(f'Total number of S1 syn mutations: {total_s1_syn}')\n",
    "\n",
    "\n",
    "# find number of nodes that have RdRp mutations\n",
    "nodes_with_rdrp_muts = 0\n",
    "total_rdrp_muts = 0\n",
    "nodes_with_rdrp_syn = 0\n",
    "total_rdrp_syn = 0\n",
    "\n",
    "for node in tree.find_clades(terminal=False):\n",
    "    # exclude this outlier\n",
    "    if node.name != 'USA/OR-OSPHL00881/2021':\n",
    "        if node.rdrp_nonsyn_at_node!= 0:\n",
    "            nodes_with_rdrp_muts+=1\n",
    "            total_rdrp_muts += node.rdrp_nonsyn_at_node\n",
    "        if node.rdrp_syn_at_node!= 0:\n",
    "            nodes_with_rdrp_syn+=1\n",
    "            total_rdrp_syn += node.rdrp_syn_at_node\n",
    "        \n",
    "print(f'Nodes with RdRp mutations: {nodes_with_rdrp_muts}')\n",
    "print(f'Total number of RdRp mutations: {total_rdrp_muts}')\n",
    "print(f'Nodes with RdRp syn mutations: {nodes_with_rdrp_syn}')\n",
    "print(f'Total number of RdRp syn mutations: {total_rdrp_syn}')\n",
    "\n",
    "\n",
    "first_timepoint = tree.root.node_attrs['num_date']['value']\n",
    "last_timepoint = 0\n",
    "for node in tree.find_clades(terminal=False):\n",
    "    if node.node_attrs['num_date']['value'] > last_timepoint:\n",
    "        last_timepoint = node.node_attrs['num_date']['value']\n",
    "        \n",
    "print(f'Time window: {first_timepoint}-{last_timepoint}')\n",
    "    "
   ]
  },
  {
   "cell_type": "code",
   "execution_count": 14,
   "id": "c04e78b9",
   "metadata": {},
   "outputs": [],
   "source": [
    "mut_accumulation = []\n",
    "\n",
    "\n",
    "s1_nonsyn_total = []\n",
    "s1_syn_total = []\n",
    "\n",
    "\n",
    "for node in tree.find_clades(terminal=False):\n",
    "    if len(node.get_terminals()) >=3:\n",
    "        if node.s1_nonsyn_at_node!= 0:\n",
    "            s1_nonsyn_total.append([node.node_attrs['num_date']['value'], node.s1_nonsyn_at_node]) \n",
    "        if node.s1_syn_at_node!= 0:\n",
    "            s1_syn_total.append([node.node_attrs['num_date']['value'], node.s1_syn_at_node]) \n",
    "\n",
    "s1_nonsyn_total.sort(key=lambda x: x[0])\n",
    "\n",
    "s1_nonsyn_dates = [x[0] for x in s1_nonsyn_total]\n",
    "s1_nonsyn_counts = [y[1] for y in s1_nonsyn_total]\n",
    "s1_running_total = list(np.cumsum(s1_nonsyn_counts))\n",
    "if len(s1_nonsyn_dates)!=len(s1_running_total):\n",
    "    print('error')\n",
    "for i in range(len(s1_running_total)):\n",
    "    mut_accumulation.append({'gene': 's1', 'mut_type': 'nonsyn', \n",
    "                             'date': s1_nonsyn_dates[i], 'mut_total': s1_running_total[i], \n",
    "                             'muts_per_codon': s1_running_total[i]/gene_lengths_aa['S1']})\n",
    "    \n",
    "\n",
    "\n",
    "s1_syn_total.sort(key=lambda x: x[0])\n",
    "\n",
    "s1_syn_dates = [x[0] for x in s1_syn_total]\n",
    "s1_syn_counts = [y[1] for y in s1_syn_total]\n",
    "s1_syn_running_total = list(np.cumsum(s1_syn_counts))\n",
    "if len(s1_syn_dates)!=len(s1_syn_running_total):\n",
    "    print('error')\n",
    "for i in range(len(s1_syn_running_total)):\n",
    "    mut_accumulation.append({'gene': 's1', 'mut_type': 'syn', \n",
    "                             'date': s1_syn_dates[i], 'mut_total': s1_syn_running_total[i], \n",
    "                             'muts_per_codon': s1_syn_running_total[i]/gene_lengths_aa['S1']})"
   ]
  },
  {
   "cell_type": "code",
   "execution_count": 15,
   "id": "e7765cb3",
   "metadata": {},
   "outputs": [],
   "source": [
    "rdrp_nonsyn_total = []\n",
    "rdrp_syn_total = []\n",
    "\n",
    "\n",
    "for node in tree.find_clades(terminal=False):\n",
    "    if len(node.get_terminals()) >=3:\n",
    "        if node.rdrp_nonsyn_at_node!= 0:\n",
    "            rdrp_nonsyn_total.append([node.node_attrs['num_date']['value'], node.rdrp_nonsyn_at_node]) \n",
    "        if node.rdrp_syn_at_node!= 0:\n",
    "            rdrp_syn_total.append([node.node_attrs['num_date']['value'], node.rdrp_syn_at_node]) \n",
    "\n",
    "rdrp_nonsyn_total.sort(key=lambda x: x[0])\n",
    "\n",
    "rdrp_nonsyn_dates = [x[0] for x in rdrp_nonsyn_total]\n",
    "rdrp_nonsyn_counts = [y[1] for y in rdrp_nonsyn_total]\n",
    "rdrp_running_total = list(np.cumsum(rdrp_nonsyn_counts))\n",
    "if len(rdrp_nonsyn_dates)!=len(rdrp_running_total):\n",
    "    print('error')\n",
    "for i in range(len(rdrp_running_total)):\n",
    "    mut_accumulation.append({'gene': 'rdrp', 'mut_type': 'nonsyn', \n",
    "                             'date': rdrp_nonsyn_dates[i], 'mut_total': rdrp_running_total[i], \n",
    "                             'muts_per_codon': rdrp_running_total[i]/gene_lengths_aa['RdRp']})\n",
    "\n",
    "rdrp_syn_total.sort(key=lambda x: x[0])\n",
    "\n",
    "rdrp_syn_dates = [x[0] for x in rdrp_syn_total]\n",
    "rdrp_syn_counts = [y[1] for y in rdrp_syn_total]\n",
    "rdrp_syn_running_total = list(np.cumsum(rdrp_syn_counts))\n",
    "if len(rdrp_syn_dates)!=len(rdrp_syn_running_total):\n",
    "    print('error')\n",
    "for i in range(len(rdrp_syn_running_total)):\n",
    "    mut_accumulation.append({'gene': 'rdrp', 'mut_type': 'syn', \n",
    "                             'date': rdrp_syn_dates[i], 'mut_total': rdrp_syn_running_total[i], \n",
    "                             'muts_per_codon': rdrp_syn_running_total[i]/gene_lengths_aa['RdRp']})"
   ]
  },
  {
   "cell_type": "code",
   "execution_count": 25,
   "id": "7fbd263c",
   "metadata": {},
   "outputs": [
    {
     "data": {
      "text/plain": [
       "<AxesSubplot:xlabel='date', ylabel='muts_per_codon'>"
      ]
     },
     "execution_count": 25,
     "metadata": {},
     "output_type": "execute_result"
    },
    {
     "data": {
      "image/png": "[encoded data removed]",
      "text/plain": [
       "<Figure size 432x288 with 1 Axes>"
      ]
     },
     "metadata": {
      "needs_background": "light"
     },
     "output_type": "display_data"
    }
   ],
   "source": [
    "mut_accumulation_df = pd.DataFrame(mut_accumulation)\n",
    "\n",
    "cmap = {'s1':'#4770eb', 'rdrp':'#ff8c3a'}\n",
    "\n",
    "sns.lineplot(x='date', y='muts_per_codon', hue='gene', style='mut_type',data= mut_accumulation_df, palette=cmap)"
   ]
  },
  {
   "cell_type": "code",
   "execution_count": 23,
   "id": "1b6845c4",
   "metadata": {},
   "outputs": [
    {
     "data": {
      "image/png": "[encoded data removed]",
      "text/plain": [
       "<Figure size 864x288 with 2 Axes>"
      ]
     },
     "metadata": {
      "needs_background": "light"
     },
     "output_type": "display_data"
    }
   ],
   "source": [
    "mut_accumulation_df = pd.DataFrame(mut_accumulation)\n",
    "\n",
    "fig, (ax1, ax2) = plt.subplots(1,2, figsize=(12,4))\n",
    "\n",
    "ax1 = sns.lineplot(x='date', y='mut_total', color='#4770eb', \n",
    "                   data= mut_accumulation_df[(mut_accumulation_df['gene']=='s1')&\n",
    "                                             (mut_accumulation_df['mut_type']=='nonsyn')], \n",
    "                   ax=ax1)\n",
    "ax2 = sns.lineplot(x='date', y='mut_total', color='#ff8c3a', \n",
    "                   data= mut_accumulation_df[(mut_accumulation_df['gene']=='rdrp')&\n",
    "                                             (mut_accumulation_df['mut_type']=='nonsyn')], \n",
    "                   ax=ax2)\n",
    "sns.despine(left=False, bottom=False)"
   ]
  },
  {
   "cell_type": "code",
   "execution_count": 13,
   "id": "bc9bfc1c",
   "metadata": {},
   "outputs": [
    {
     "data": {
      "text/plain": [
       "[<matplotlib.lines.Line2D at 0x1a21fabd68>]"
      ]
     },
     "execution_count": 13,
     "metadata": {},
     "output_type": "execute_result"
    },
    {
     "data": {
      "image/png": "[encoded data removed]",
      "text/plain": [
       "<Figure size 432x288 with 1 Axes>"
      ]
     },
     "metadata": {
      "needs_background": "light"
     },
     "output_type": "display_data"
    }
   ],
   "source": [
    "#new \n",
    "plt.plot(s1_nonsyn_dates, s1_running_total)"
   ]
  },
  {
   "cell_type": "code",
   "execution_count": 36,
   "id": "4ae33ce2",
   "metadata": {},
   "outputs": [
    {
     "data": {
      "text/plain": [
       "[<matplotlib.lines.Line2D at 0x1a2478a400>]"
      ]
     },
     "execution_count": 36,
     "metadata": {},
     "output_type": "execute_result"
    },
    {
     "data": {
      "image/png": "[encoded data removed]",
      "text/plain": [
       "<Figure size 432x288 with 1 Axes>"
      ]
     },
     "metadata": {
      "needs_background": "light"
     },
     "output_type": "display_data"
    }
   ],
   "source": [
    "#05-19\n",
    "plt.plot(s1_nonsyn_dates, s1_running_total)"
   ]
  },
  {
   "cell_type": "code",
   "execution_count": 43,
   "id": "d85980ab",
   "metadata": {},
   "outputs": [
    {
     "data": {
      "text/plain": [
       "<AxesSubplot:ylabel='Count'>"
      ]
     },
     "execution_count": 43,
     "metadata": {},
     "output_type": "execute_result"
    },
    {
     "data": {
      "image/png": "[encoded data removed]",
      "text/plain": [
       "<Figure size 432x288 with 1 Axes>"
      ]
     },
     "metadata": {
      "needs_background": "light"
     },
     "output_type": "display_data"
    }
   ],
   "source": [
    "s1_total_plot = []\n",
    "\n",
    "for d, c in list(zip(s1_nonsyn_dates, s1_nonsyn_counts)):\n",
    "    for x in range(c):\n",
    "        s1_total_plot.append(d)\n",
    "\n",
    "sns.histplot(s1_total_plot, bins=15)"
   ]
  },
  {
   "cell_type": "code",
   "execution_count": 44,
   "id": "20217891",
   "metadata": {},
   "outputs": [
    {
     "data": {
      "text/plain": [
       "<AxesSubplot:ylabel='Count'>"
      ]
     },
     "execution_count": 44,
     "metadata": {},
     "output_type": "execute_result"
    },
    {
     "data": {
      "image/png": "[encoded data removed]",
      "text/plain": [
       "<Figure size 432x288 with 1 Axes>"
      ]
     },
     "metadata": {
      "needs_background": "light"
     },
     "output_type": "display_data"
    }
   ],
   "source": [
    "s1_syn_total_plot = []\n",
    "\n",
    "for d, c in list(zip(s1_syn_dates, s1_syn_counts)):\n",
    "    for x in range(c):\n",
    "        s1_syn_total_plot.append(d)\n",
    "\n",
    "sns.histplot(s1_syn_total_plot, bins=15)"
   ]
  },
  {
   "cell_type": "code",
   "execution_count": 45,
   "id": "c39d304a",
   "metadata": {},
   "outputs": [
    {
     "data": {
      "text/plain": [
       "<AxesSubplot:ylabel='Count'>"
      ]
     },
     "execution_count": 45,
     "metadata": {},
     "output_type": "execute_result"
    },
    {
     "data": {
      "image/png": "[encoded data removed]",
      "text/plain": [
       "<Figure size 432x288 with 1 Axes>"
      ]
     },
     "metadata": {
      "needs_background": "light"
     },
     "output_type": "display_data"
    }
   ],
   "source": [
    "rdrp_total_plot = []\n",
    "\n",
    "for d, c in list(zip(rdrp_nonsyn_dates, rdrp_nonsyn_counts)):\n",
    "    for x in range(c):\n",
    "        rdrp_total_plot.append(d)\n",
    "\n",
    "sns.histplot(rdrp_total_plot, bins=20)"
   ]
  },
  {
   "cell_type": "code",
   "execution_count": 14,
   "id": "b49f8e45",
   "metadata": {},
   "outputs": [
    {
     "data": {
      "text/plain": [
       "[<matplotlib.lines.Line2D at 0x1a220456a0>]"
      ]
     },
     "execution_count": 14,
     "metadata": {},
     "output_type": "execute_result"
    },
    {
     "data": {
      "image/png": "[encoded data removed]",
      "text/plain": [
       "<Figure size 432x288 with 1 Axes>"
      ]
     },
     "metadata": {
      "needs_background": "light"
     },
     "output_type": "display_data"
    }
   ],
   "source": [
    "#new\n",
    "plt.plot(s1_syn_dates, s1_syn_running_total)"
   ]
  },
  {
   "cell_type": "code",
   "execution_count": 44,
   "id": "4eee4212",
   "metadata": {},
   "outputs": [
    {
     "data": {
      "text/plain": [
       "[<matplotlib.lines.Line2D at 0x1a2ac231d0>]"
      ]
     },
     "execution_count": 44,
     "metadata": {},
     "output_type": "execute_result"
    },
    {
     "data": {
      "image/png": "[encoded data removed]",
      "text/plain": [
       "<Figure size 432x288 with 1 Axes>"
      ]
     },
     "metadata": {
      "needs_background": "light"
     },
     "output_type": "display_data"
    }
   ],
   "source": [
    "#05-19\n",
    "plt.plot(s1_syn_dates, s1_syn_running_total)"
   ]
  },
  {
   "cell_type": "code",
   "execution_count": 19,
   "id": "09145499",
   "metadata": {},
   "outputs": [
    {
     "data": {
      "text/plain": [
       "<AxesSubplot:ylabel='Count'>"
      ]
     },
     "execution_count": 19,
     "metadata": {},
     "output_type": "execute_result"
    },
    {
     "data": {
      "image/png": "[encoded data removed]",
      "text/plain": [
       "<Figure size 432x288 with 1 Axes>"
      ]
     },
     "metadata": {
      "needs_background": "light"
     },
     "output_type": "display_data"
    }
   ],
   "source": [
    "s1_syn_total_plot = []\n",
    "\n",
    "for d, c in list(zip(s1_syn_dates, s1_syn_counts)):\n",
    "    for x in range(c):\n",
    "        s1_syn_total_plot.append(d)\n",
    "\n",
    "sns.histplot(s1_syn_total_plot, bins=15)"
   ]
  },
  {
   "cell_type": "code",
   "execution_count": 23,
   "id": "43d1f3b4",
   "metadata": {},
   "outputs": [],
   "source": [
    "rdrp_nonsyn_total = []\n",
    "rdrp_syn_total = []\n",
    "\n",
    "\n",
    "for node in tree.find_clades(terminal=False):\n",
    "    if node.rdrp_nonsyn_at_node!= 0:\n",
    "        rdrp_nonsyn_total.append([node.node_attrs['num_date']['value'], node.rdrp_nonsyn_at_node]) \n",
    "    if node.rdrp_syn_at_node!= 0:\n",
    "        rdrp_syn_total.append([node.node_attrs['num_date']['value'], node.rdrp_syn_at_node]) \n",
    "\n",
    "rdrp_nonsyn_total.sort(key=lambda x: x[0])\n",
    "\n",
    "rdrp_nonsyn_dates = [x[0] for x in rdrp_nonsyn_total]\n",
    "rdrp_nonsyn_counts = [y[1] for y in rdrp_nonsyn_total]\n",
    "rdrp_running_total = list(np.cumsum(rdrp_nonsyn_counts))\n",
    "\n",
    "rdrp_syn_total.sort(key=lambda x: x[0])\n",
    "\n",
    "rdrp_syn_dates = [x[0] for x in rdrp_syn_total]\n",
    "rdrp_syn_counts = [y[1] for y in rdrp_syn_total]\n",
    "rdrp_syn_running_total = list(np.cumsum(rdrp_syn_counts))"
   ]
  },
  {
   "cell_type": "code",
   "execution_count": 24,
   "id": "047c12d7",
   "metadata": {},
   "outputs": [
    {
     "data": {
      "text/plain": [
       "[<matplotlib.lines.Line2D at 0x1a2217ae48>]"
      ]
     },
     "execution_count": 24,
     "metadata": {},
     "output_type": "execute_result"
    },
    {
     "data": {
      "image/png": "[encoded data removed]",
      "text/plain": [
       "<Figure size 432x288 with 1 Axes>"
      ]
     },
     "metadata": {
      "needs_background": "light"
     },
     "output_type": "display_data"
    }
   ],
   "source": [
    "#new\n",
    "plt.plot(rdrp_nonsyn_dates, rdrp_running_total)"
   ]
  },
  {
   "cell_type": "code",
   "execution_count": 25,
   "id": "59dcc979",
   "metadata": {},
   "outputs": [
    {
     "data": {
      "text/plain": [
       "[<matplotlib.lines.Line2D at 0x1a221e2320>]"
      ]
     },
     "execution_count": 25,
     "metadata": {},
     "output_type": "execute_result"
    },
    {
     "data": {
      "image/png": "[encoded data removed]",
      "text/plain": [
       "<Figure size 432x288 with 1 Axes>"
      ]
     },
     "metadata": {
      "needs_background": "light"
     },
     "output_type": "display_data"
    }
   ],
   "source": [
    "#new\n",
    "plt.plot(rdrp_syn_dates, rdrp_syn_running_total)"
   ]
  }
 ],
 "metadata": {
  "kernelspec": {
   "display_name": "ncov-kernel",
   "language": "python",
   "name": "ncov-kernel"
  },
  "language_info": {
   "codemirror_mode": {
    "name": "ipython",
    "version": 3
   },
   "file_extension": ".py",
   "mimetype": "text/x-python",
   "name": "python",
   "nbconvert_exporter": "python",
   "pygments_lexer": "ipython3",
   "version": "3.6.13"
  }
 },
 "nbformat": 4,
 "nbformat_minor": 5
}
